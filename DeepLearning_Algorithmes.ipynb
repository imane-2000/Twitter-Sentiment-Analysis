{
  "nbformat": 4,
  "nbformat_minor": 0,
  "metadata": {
    "colab": {
      "provenance": []
    },
    "kernelspec": {
      "display_name": "Python 3",
      "name": "python3"
    },
    "language_info": {
      "name": "python"
    },
    "accelerator": "GPU"
  },
  "cells": [
    {
      "cell_type": "code",
      "metadata": {
        "id": "GOsSWM1Em17b"
      },
      "source": [
        "df = pd.read_fwf('/newTWEET.txt',encoding='latin')"
      ],
      "execution_count": null,
      "outputs": []
    },
    {
      "cell_type": "code",
      "metadata": {
        "id": "qTXNfDuknQ2M"
      },
      "source": [
        "df.columns = [\"tweetid\", \"Timestamp\", \"time\", \"plus\",\"Tweet\",\"Unnamed1\", \"Unnamed2\"]"
      ],
      "execution_count": null,
      "outputs": []
    },
    {
      "cell_type": "code",
      "metadata": {
        "id": "m6WjVhRunQ4G"
      },
      "source": [
        "df.drop([\"Unnamed1\", \"Unnamed2\"],axis=1,inplace=True)"
      ],
      "execution_count": null,
      "outputs": []
    },
    {
      "cell_type": "code",
      "metadata": {
        "id": "rvfhjx4YnQ6k"
      },
      "source": [
        "df['Timestamp']= pd.to_datetime(df['Timestamp'], dayfirst=True, errors='coerce')\n",
        "\n",
        "df['Timestamp']= pd.to_datetime(df['Timestamp'],dayfirst=True)\n",
        "\n",
        "df[\"Timestamp\"] = pd.to_datetime(df[\"Timestamp\"])"
      ],
      "execution_count": null,
      "outputs": []
    },
    {
      "cell_type": "code",
      "metadata": {
        "colab": {
          "base_uri": "https://localhost:8080/",
          "height": 78
        },
        "id": "IVhETS8GnQ9f",
        "outputId": "8888ea85-cda0-4d44-9085-493c916f6ff4"
      },
      "source": [
        "df['month_year'] = df['Timestamp'].dt.strftime('%b-%Y')\n",
        "df ['year'] = pd.DatetimeIndex (df ['Timestamp']). year\n",
        "df.head(1)"
      ],
      "execution_count": null,
      "outputs": [
        {
          "output_type": "execute_result",
          "data": {
            "text/html": [
              "<div>\n",
              "<style scoped>\n",
              "    .dataframe tbody tr th:only-of-type {\n",
              "        vertical-align: middle;\n",
              "    }\n",
              "\n",
              "    .dataframe tbody tr th {\n",
              "        vertical-align: top;\n",
              "    }\n",
              "\n",
              "    .dataframe thead th {\n",
              "        text-align: right;\n",
              "    }\n",
              "</style>\n",
              "<table border=\"1\" class=\"dataframe\">\n",
              "  <thead>\n",
              "    <tr style=\"text-align: right;\">\n",
              "      <th></th>\n",
              "      <th>tweetid</th>\n",
              "      <th>Timestamp</th>\n",
              "      <th>time</th>\n",
              "      <th>plus</th>\n",
              "      <th>Tweet</th>\n",
              "      <th>month_year</th>\n",
              "      <th>year</th>\n",
              "    </tr>\n",
              "  </thead>\n",
              "  <tbody>\n",
              "    <tr>\n",
              "      <th>0</th>\n",
              "      <td>1377305967138836482</td>\n",
              "      <td>2021-03-31</td>\n",
              "      <td>18:05:06</td>\n",
              "      <td>0</td>\n",
              "      <td>&lt;yungdaveGH&gt; ITS OUT!!! YOUR NEW SUMMER NIGHTS...</td>\n",
              "      <td>Mar-2021</td>\n",
              "      <td>2021</td>\n",
              "    </tr>\n",
              "  </tbody>\n",
              "</table>\n",
              "</div>"
            ],
            "text/plain": [
              "               tweetid  Timestamp  ... month_year  year\n",
              "0  1377305967138836482 2021-03-31  ...   Mar-2021  2021\n",
              "\n",
              "[1 rows x 7 columns]"
            ]
          },
          "metadata": {
            "tags": []
          },
          "execution_count": 6
        }
      ]
    },
    {
      "cell_type": "code",
      "metadata": {
        "colab": {
          "base_uri": "https://localhost:8080/"
        },
        "id": "iOy9EzeEnQ_N",
        "outputId": "b19e92ea-a01e-4b59-f7c1-7b8271e65898"
      },
      "source": [
        "# Import stopwords\n",
        "import nltk\n",
        "from nltk.corpus import stopwords\n",
        "\n",
        "# Import textblob\n",
        "from textblob import Word, TextBlob\n",
        "\n",
        "nltk.download('stopwords')\n",
        "nltk.download('wordnet')\n",
        "stop_words = stopwords.words('english')\n",
        "custom_stopwords = ['rt', '#coronavirus']\n",
        "\n",
        "import re\n",
        "import string"
      ],
      "execution_count": null,
      "outputs": [
        {
          "output_type": "stream",
          "text": [
            "[nltk_data] Downloading package stopwords to /root/nltk_data...\n",
            "[nltk_data]   Unzipping corpora/stopwords.zip.\n",
            "[nltk_data] Downloading package wordnet to /root/nltk_data...\n",
            "[nltk_data]   Unzipping corpora/wordnet.zip.\n"
          ],
          "name": "stdout"
        }
      ]
    },
    {
      "cell_type": "code",
      "metadata": {
        "colab": {
          "base_uri": "https://localhost:8080/",
          "height": 521
        },
        "id": "iFqVJL5enRCl",
        "outputId": "6dd99e05-01f3-40b7-e5fc-9e74399bd22c"
      },
      "source": [
        "def tweets(tweet):\n",
        "    tweet = tweet.lower()\n",
        "    tweet.replace('[^s\\n\\n]', '')\n",
        "    tweet = re.sub('https?://\\S+|www\\.\\S+', '', tweet)\n",
        "    tweet = re.sub(r\"[A-Za-z\\.]*[0-9]+[A-Za-z%°\\.]*\", \"\", tweet)\n",
        "    tweet = re.sub('\\[.*?\\]', '', tweet)\n",
        "    tweet = re.sub('<.*?>+', '', tweet)\n",
        "    tweet = re.sub(r\"[,\\!\\?\\%\\(\\)\\/\\\"]\", \"\", tweet)\n",
        "    tweet = re.sub(r\"\\&\\S*\\s\", \"\", tweet)\n",
        "    tweet = re.sub(r\"\\&\", \"\", tweet)\n",
        "    tweet = re.sub(r\"\\+\", \"\", tweet)\n",
        "    tweet = re.sub(r\"\\#\", \"\", tweet)\n",
        "    tweet = re.sub(r\"\\$\", \"\", tweet)\n",
        "    tweet = re.sub(r\"\\£\", \"\", tweet)\n",
        "    tweet = re.sub(r\"\\%\", \"\", tweet)\n",
        "    tweet = re.sub(r\"\\:\", \"\", tweet)\n",
        "    tweet = re.sub(r\"\\@\", \"\", tweet)\n",
        "    tweet = re.sub(r\"\\-\", \"\", tweet)\n",
        "    tweet = re.sub('[%s]' % re.escape(string.punctuation), '', tweet)\n",
        "    tweet = re.sub('\\n', '', tweet)\n",
        "    tweet = re.sub('\\w*\\d\\w*', '', tweet)\n",
        "    tweet = \" \".join(word for word in tweet.split() if word not in stop_words)\n",
        "    tweet = \" \".join(Word(word).lemmatize() for word in tweet.split())\n",
        "    return(tweet)\n",
        "df['processed_tweet'] = df['Tweet'].astype(str).apply(lambda row: tweets(row))\n",
        "#df['processed tweet'] = df['Tweet'].apply(lambda x: tweets(x, custom_stopwords))\n",
        "df.head(10)"
      ],
      "execution_count": null,
      "outputs": [
        {
          "output_type": "execute_result",
          "data": {
            "text/html": [
              "<div>\n",
              "<style scoped>\n",
              "    .dataframe tbody tr th:only-of-type {\n",
              "        vertical-align: middle;\n",
              "    }\n",
              "\n",
              "    .dataframe tbody tr th {\n",
              "        vertical-align: top;\n",
              "    }\n",
              "\n",
              "    .dataframe thead th {\n",
              "        text-align: right;\n",
              "    }\n",
              "</style>\n",
              "<table border=\"1\" class=\"dataframe\">\n",
              "  <thead>\n",
              "    <tr style=\"text-align: right;\">\n",
              "      <th></th>\n",
              "      <th>tweetid</th>\n",
              "      <th>Timestamp</th>\n",
              "      <th>time</th>\n",
              "      <th>plus</th>\n",
              "      <th>Tweet</th>\n",
              "      <th>month_year</th>\n",
              "      <th>year</th>\n",
              "      <th>processed_tweet</th>\n",
              "    </tr>\n",
              "  </thead>\n",
              "  <tbody>\n",
              "    <tr>\n",
              "      <th>0</th>\n",
              "      <td>1377305967138836482</td>\n",
              "      <td>2021-03-31</td>\n",
              "      <td>18:05:06</td>\n",
              "      <td>0</td>\n",
              "      <td>&lt;yungdaveGH&gt; ITS OUT!!! YOUR NEW SUMMER NIGHTS...</td>\n",
              "      <td>Mar-2021</td>\n",
              "      <td>2021</td>\n",
              "      <td>new summer night favouritego stream youtube un...</td>\n",
              "    </tr>\n",
              "    <tr>\n",
              "      <th>1</th>\n",
              "      <td>1377218238992445443</td>\n",
              "      <td>2021-03-31</td>\n",
              "      <td>12:16:30</td>\n",
              "      <td>0</td>\n",
              "      <td>&lt;BlueChipIT&gt; So blame the government rather th...</td>\n",
              "      <td>Mar-2021</td>\n",
              "      <td>2021</td>\n",
              "      <td>blame government rather parent committed crime...</td>\n",
              "    </tr>\n",
              "    <tr>\n",
              "      <th>2</th>\n",
              "      <td>1377202645975195648</td>\n",
              "      <td>2021-03-31</td>\n",
              "      <td>11:14:32</td>\n",
              "      <td>0</td>\n",
              "      <td>&lt;BritishHeraldUK&gt; After a major plunge due to ...</td>\n",
              "      <td>Mar-2021</td>\n",
              "      <td>2021</td>\n",
              "      <td>major plunge due coronavirus britainâs econo...</td>\n",
              "    </tr>\n",
              "    <tr>\n",
              "      <th>3</th>\n",
              "      <td>1377194242393657346</td>\n",
              "      <td>2021-03-31</td>\n",
              "      <td>10:41:09</td>\n",
              "      <td>0</td>\n",
              "      <td>&lt;FelixxMoritz&gt; Well, I guess itâs time to ex...</td>\n",
              "      <td>Mar-2021</td>\n",
              "      <td>2021</td>\n",
              "      <td>well guess itâs time explore uk ban leaving ...</td>\n",
              "    </tr>\n",
              "    <tr>\n",
              "      <th>4</th>\n",
              "      <td>1377186411929948162</td>\n",
              "      <td>2021-03-31</td>\n",
              "      <td>10:10:02</td>\n",
              "      <td>0</td>\n",
              "      <td>&lt;E7Drew&gt; @SBurke10 @BBCNews Try reading the St...</td>\n",
              "      <td>Mar-2021</td>\n",
              "      <td>2021</td>\n",
              "      <td>bbcnews try reading statutory instrument coron...</td>\n",
              "    </tr>\n",
              "    <tr>\n",
              "      <th>5</th>\n",
              "      <td>1377172069079642112</td>\n",
              "      <td>2021-03-31</td>\n",
              "      <td>09:13:02</td>\n",
              "      <td>0</td>\n",
              "      <td>&lt;dawnvhardy&gt; @BBCNews All Doctors and Nurses w...</td>\n",
              "      <td>Mar-2021</td>\n",
              "      <td>2021</td>\n",
              "      <td>bbcnews doctor nurse exposed coronavirus sayin...</td>\n",
              "    </tr>\n",
              "    <tr>\n",
              "      <th>6</th>\n",
              "      <td>1377166255208030210</td>\n",
              "      <td>2021-03-31</td>\n",
              "      <td>08:49:56</td>\n",
              "      <td>0</td>\n",
              "      <td>&lt;beecee&gt; BIG DAY! Second vaccination for me an...</td>\n",
              "      <td>Mar-2021</td>\n",
              "      <td>2021</td>\n",
              "      <td>big day second vaccination mother morningcommu...</td>\n",
              "    </tr>\n",
              "    <tr>\n",
              "      <th>7</th>\n",
              "      <td>1377106144422887424</td>\n",
              "      <td>2021-03-31</td>\n",
              "      <td>04:51:04</td>\n",
              "      <td>0</td>\n",
              "      <td>&lt;Pairsonnalites&gt; Coronavirus vaccine priority ...</td>\n",
              "      <td>Mar-2021</td>\n",
              "      <td>2021</td>\n",
              "      <td>coronavirus vaccine priority list changed bloo...</td>\n",
              "    </tr>\n",
              "    <tr>\n",
              "      <th>8</th>\n",
              "      <td>1377045099998277638</td>\n",
              "      <td>2021-03-31</td>\n",
              "      <td>00:48:30</td>\n",
              "      <td>0</td>\n",
              "      <td>&lt;FatimaDuerden&gt; @DrewLawDesign Coronavirus</td>\n",
              "      <td>Mar-2021</td>\n",
              "      <td>2021</td>\n",
              "      <td>drewlawdesign coronavirus</td>\n",
              "    </tr>\n",
              "    <tr>\n",
              "      <th>9</th>\n",
              "      <td>1377016806154543105</td>\n",
              "      <td>2021-03-30</td>\n",
              "      <td>22:56:04</td>\n",
              "      <td>0</td>\n",
              "      <td>&lt;Pairsonnalites&gt; Lloyds Pharmacy to launch UK'...</td>\n",
              "      <td>Mar-2021</td>\n",
              "      <td>2021</td>\n",
              "      <td>lloyd pharmacy launch uk first ever coronaviru...</td>\n",
              "    </tr>\n",
              "  </tbody>\n",
              "</table>\n",
              "</div>"
            ],
            "text/plain": [
              "               tweetid  ...                                    processed_tweet\n",
              "0  1377305967138836482  ...  new summer night favouritego stream youtube un...\n",
              "1  1377218238992445443  ...  blame government rather parent committed crime...\n",
              "2  1377202645975195648  ...  major plunge due coronavirus britainâs econo...\n",
              "3  1377194242393657346  ...  well guess itâs time explore uk ban leaving ...\n",
              "4  1377186411929948162  ...  bbcnews try reading statutory instrument coron...\n",
              "5  1377172069079642112  ...  bbcnews doctor nurse exposed coronavirus sayin...\n",
              "6  1377166255208030210  ...  big day second vaccination mother morningcommu...\n",
              "7  1377106144422887424  ...  coronavirus vaccine priority list changed bloo...\n",
              "8  1377045099998277638  ...                          drewlawdesign coronavirus\n",
              "9  1377016806154543105  ...  lloyd pharmacy launch uk first ever coronaviru...\n",
              "\n",
              "[10 rows x 8 columns]"
            ]
          },
          "metadata": {
            "tags": []
          },
          "execution_count": 8
        }
      ]
    },
    {
      "cell_type": "code",
      "metadata": {
        "id": "1mjBPxvInPoO"
      },
      "source": [
        "def remove_emoji(tweet):\n",
        "\n",
        "  EMOJI_PATTERN = re.compile(\n",
        "    \"([\"\n",
        "    \"\\U0001F1E0-\\U0001F1FF\"  # flags (iOS)\n",
        "    \"\\U0001F300-\\U0001F5FF\"  # symbols & pictographs\n",
        "    \"\\U0001F600-\\U0001F64F\"  # emoticons\n",
        "    \"\\U0001F680-\\U0001F6FF\"  # transport & map symbols\n",
        "    \"\\U0001F700-\\U0001F77F\"  # alchemical symbols\n",
        "    \"\\U0001F780-\\U0001F7FF\"  # Geometric Shapes Extended\n",
        "    \"\\U0001F800-\\U0001F8FF\"  # Supplemental Arrows-C\n",
        "    \"\\U0001F900-\\U0001F9FF\"  # Supplemental Symbols and Pictographs\n",
        "    \"\\U0001FA00-\\U0001FA6F\"  # Chess Symbols\n",
        "    \"\\U0001FA70-\\U0001FAFF\"  # Symbols and Pictographs Extended-A\n",
        "    \"\\U00002702-\\U000027B0\"  # Dingbats\n",
        "    \"])\"\n",
        "  )\n",
        "  tweet = re.sub(EMOJI_PATTERN, r' \\1 ', tweet)\n",
        "  return tweet"
      ],
      "execution_count": null,
      "outputs": []
    },
    {
      "cell_type": "code",
      "metadata": {
        "id": "PqLycOY4nPqI"
      },
      "source": [
        "# Calculate polarity\n",
        "def get_sentiment(Tweet):\n",
        "    blob = TextBlob(Tweet)\n",
        "    sentiment_polarity = blob.sentiment.polarity\n",
        "    sentiment_subjectivity = blob.sentiment.subjectivity\n",
        "    if sentiment_polarity > 0:\n",
        "        sentiment_label = 'Positive'\n",
        "    elif sentiment_polarity < 0:\n",
        "        sentiment_label = 'Negative'\n",
        "    else:\n",
        "        sentiment_label = 'Neutral'\n",
        "    result = {'polarity':sentiment_polarity,\n",
        "              'subjectivity':sentiment_subjectivity,\n",
        "              'sentiment':sentiment_label}\n",
        "    return result\n",
        "#df['polarity'] = df['processed tweet'].apply(lambda x: TextBlob(x).sentiment[0])\n",
        "#df['subjectivity'] = df['processed tweet'].apply(lambda x: TextBlob(x).sentiment[1])\n",
        "#df.head()"
      ],
      "execution_count": null,
      "outputs": []
    },
    {
      "cell_type": "code",
      "metadata": {
        "id": "C3i6IY-DnPr_"
      },
      "source": [
        "ex1 = df['processed_tweet'].iloc[0]"
      ],
      "execution_count": null,
      "outputs": []
    },
    {
      "cell_type": "code",
      "metadata": {
        "colab": {
          "base_uri": "https://localhost:8080/"
        },
        "id": "qeNhzOqpnPuP",
        "outputId": "631e29a7-c198-400a-92bb-1bf3b6755b41"
      },
      "source": [
        "get_sentiment(ex1)"
      ],
      "execution_count": null,
      "outputs": [
        {
          "output_type": "execute_result",
          "data": {
            "text/plain": [
              "{'polarity': 0.13636363636363635,\n",
              " 'sentiment': 'Positive',\n",
              " 'subjectivity': 0.45454545454545453}"
            ]
          },
          "metadata": {
            "tags": []
          },
          "execution_count": 12
        }
      ]
    },
    {
      "cell_type": "code",
      "metadata": {
        "colab": {
          "base_uri": "https://localhost:8080/"
        },
        "id": "gV7F0_NYnPwH",
        "outputId": "e0547710-a077-4fc5-a414-8a18e3425a3d"
      },
      "source": [
        "df['sentiment_results'] = df['processed_tweet'].apply(get_sentiment)\n",
        "df['sentiment_results']"
      ],
      "execution_count": null,
      "outputs": [
        {
          "output_type": "execute_result",
          "data": {
            "text/plain": [
              "0       {'polarity': 0.13636363636363635, 'subjectivit...\n",
              "1       {'polarity': 0.0, 'subjectivity': 0.0, 'sentim...\n",
              "2       {'polarity': -0.020833333333333332, 'subjectiv...\n",
              "3       {'polarity': 0.06818181818181818, 'subjectivit...\n",
              "4       {'polarity': -0.08888888888888889, 'subjectivi...\n",
              "                              ...                        \n",
              "4038    {'polarity': 0.0, 'subjectivity': 0.0, 'sentim...\n",
              "4039    {'polarity': 0.55, 'subjectivity': 1.0, 'senti...\n",
              "4040    {'polarity': -0.6, 'subjectivity': 0.9, 'senti...\n",
              "4041    {'polarity': -0.0875, 'subjectivity': 0.2375, ...\n",
              "4042    {'polarity': 0.0, 'subjectivity': 0.0, 'sentim...\n",
              "Name: sentiment_results, Length: 4043, dtype: object"
            ]
          },
          "metadata": {
            "tags": []
          },
          "execution_count": 13
        }
      ]
    },
    {
      "cell_type": "code",
      "metadata": {
        "colab": {
          "base_uri": "https://localhost:8080/"
        },
        "id": "BYBo7sPNnPyf",
        "outputId": "8080c62d-0cfa-4a6e-b750-9522a45fcd52"
      },
      "source": [
        "df['sentiment_results'].iloc[1]"
      ],
      "execution_count": null,
      "outputs": [
        {
          "output_type": "execute_result",
          "data": {
            "text/plain": [
              "{'polarity': 0.0, 'sentiment': 'Neutral', 'subjectivity': 0.0}"
            ]
          },
          "metadata": {
            "tags": []
          },
          "execution_count": 14
        }
      ]
    },
    {
      "cell_type": "code",
      "metadata": {
        "colab": {
          "base_uri": "https://localhost:8080/",
          "height": 78
        },
        "id": "nLUUalOZnP0f",
        "outputId": "56747bfc-8b21-4905-ad2c-f67edb3093d8"
      },
      "source": [
        "pd.json_normalize(df['sentiment_results'].iloc[1])"
      ],
      "execution_count": null,
      "outputs": [
        {
          "output_type": "execute_result",
          "data": {
            "text/html": [
              "<div>\n",
              "<style scoped>\n",
              "    .dataframe tbody tr th:only-of-type {\n",
              "        vertical-align: middle;\n",
              "    }\n",
              "\n",
              "    .dataframe tbody tr th {\n",
              "        vertical-align: top;\n",
              "    }\n",
              "\n",
              "    .dataframe thead th {\n",
              "        text-align: right;\n",
              "    }\n",
              "</style>\n",
              "<table border=\"1\" class=\"dataframe\">\n",
              "  <thead>\n",
              "    <tr style=\"text-align: right;\">\n",
              "      <th></th>\n",
              "      <th>polarity</th>\n",
              "      <th>subjectivity</th>\n",
              "      <th>sentiment</th>\n",
              "    </tr>\n",
              "  </thead>\n",
              "  <tbody>\n",
              "    <tr>\n",
              "      <th>0</th>\n",
              "      <td>0.0</td>\n",
              "      <td>0.0</td>\n",
              "      <td>Neutral</td>\n",
              "    </tr>\n",
              "  </tbody>\n",
              "</table>\n",
              "</div>"
            ],
            "text/plain": [
              "   polarity  subjectivity sentiment\n",
              "0       0.0           0.0   Neutral"
            ]
          },
          "metadata": {
            "tags": []
          },
          "execution_count": 15
        }
      ]
    },
    {
      "cell_type": "code",
      "metadata": {
        "id": "2sGDMReEnP2m"
      },
      "source": [
        "df = df.join(pd.json_normalize(df['sentiment_results']))"
      ],
      "execution_count": null,
      "outputs": []
    },
    {
      "cell_type": "code",
      "metadata": {
        "colab": {
          "base_uri": "https://localhost:8080/",
          "height": 407
        },
        "id": "rYR2VtP0nP4s",
        "outputId": "450710e1-cc43-4182-f456-39e8934e38fe"
      },
      "source": [
        "df = df[['sentiment', 'polarity', 'processed_tweet', 'Timestamp', 'month_year']]\n",
        "df"
      ],
      "execution_count": null,
      "outputs": [
        {
          "output_type": "execute_result",
          "data": {
            "text/html": [
              "<div>\n",
              "<style scoped>\n",
              "    .dataframe tbody tr th:only-of-type {\n",
              "        vertical-align: middle;\n",
              "    }\n",
              "\n",
              "    .dataframe tbody tr th {\n",
              "        vertical-align: top;\n",
              "    }\n",
              "\n",
              "    .dataframe thead th {\n",
              "        text-align: right;\n",
              "    }\n",
              "</style>\n",
              "<table border=\"1\" class=\"dataframe\">\n",
              "  <thead>\n",
              "    <tr style=\"text-align: right;\">\n",
              "      <th></th>\n",
              "      <th>sentiment</th>\n",
              "      <th>polarity</th>\n",
              "      <th>processed_tweet</th>\n",
              "      <th>Timestamp</th>\n",
              "      <th>month_year</th>\n",
              "    </tr>\n",
              "  </thead>\n",
              "  <tbody>\n",
              "    <tr>\n",
              "      <th>0</th>\n",
              "      <td>Positive</td>\n",
              "      <td>0.136364</td>\n",
              "      <td>new summer night favouritego stream youtube un...</td>\n",
              "      <td>2021-03-31</td>\n",
              "      <td>Mar-2021</td>\n",
              "    </tr>\n",
              "    <tr>\n",
              "      <th>1</th>\n",
              "      <td>Neutral</td>\n",
              "      <td>0.000000</td>\n",
              "      <td>blame government rather parent committed crime...</td>\n",
              "      <td>2021-03-31</td>\n",
              "      <td>Mar-2021</td>\n",
              "    </tr>\n",
              "    <tr>\n",
              "      <th>2</th>\n",
              "      <td>Negative</td>\n",
              "      <td>-0.020833</td>\n",
              "      <td>major plunge due coronavirus britainâs econo...</td>\n",
              "      <td>2021-03-31</td>\n",
              "      <td>Mar-2021</td>\n",
              "    </tr>\n",
              "    <tr>\n",
              "      <th>3</th>\n",
              "      <td>Positive</td>\n",
              "      <td>0.068182</td>\n",
              "      <td>well guess itâs time explore uk ban leaving ...</td>\n",
              "      <td>2021-03-31</td>\n",
              "      <td>Mar-2021</td>\n",
              "    </tr>\n",
              "    <tr>\n",
              "      <th>4</th>\n",
              "      <td>Negative</td>\n",
              "      <td>-0.088889</td>\n",
              "      <td>bbcnews try reading statutory instrument coron...</td>\n",
              "      <td>2021-03-31</td>\n",
              "      <td>Mar-2021</td>\n",
              "    </tr>\n",
              "    <tr>\n",
              "      <th>...</th>\n",
              "      <td>...</td>\n",
              "      <td>...</td>\n",
              "      <td>...</td>\n",
              "      <td>...</td>\n",
              "      <td>...</td>\n",
              "    </tr>\n",
              "    <tr>\n",
              "      <th>4038</th>\n",
              "      <td>Neutral</td>\n",
              "      <td>0.000000</td>\n",
              "      <td>saturday cookalong lunchtime morningcommute we...</td>\n",
              "      <td>2020-10-24</td>\n",
              "      <td>Oct-2020</td>\n",
              "    </tr>\n",
              "    <tr>\n",
              "      <th>4039</th>\n",
              "      <td>Positive</td>\n",
              "      <td>0.550000</td>\n",
              "      <td>greatest coronavirus poem far ð</td>\n",
              "      <td>2020-10-24</td>\n",
              "      <td>Oct-2020</td>\n",
              "    </tr>\n",
              "    <tr>\n",
              "      <th>4040</th>\n",
              "      <td>Negative</td>\n",
              "      <td>-0.600000</td>\n",
              "      <td>crazy reading book stop coronavirus</td>\n",
              "      <td>2020-10-24</td>\n",
              "      <td>Oct-2020</td>\n",
              "    </tr>\n",
              "    <tr>\n",
              "      <th>4041</th>\n",
              "      <td>Negative</td>\n",
              "      <td>-0.087500</td>\n",
              "      <td>prep clinic northern ireland âindefinitelyâ...</td>\n",
              "      <td>2020-10-24</td>\n",
              "      <td>Oct-2020</td>\n",
              "    </tr>\n",
              "    <tr>\n",
              "      <th>4042</th>\n",
              "      <td>Neutral</td>\n",
              "      <td>0.000000</td>\n",
              "      <td>anything work day might take f</td>\n",
              "      <td>2020-10-24</td>\n",
              "      <td>Oct-2020</td>\n",
              "    </tr>\n",
              "  </tbody>\n",
              "</table>\n",
              "<p>4043 rows × 5 columns</p>\n",
              "</div>"
            ],
            "text/plain": [
              "     sentiment  polarity  ...  Timestamp month_year\n",
              "0     Positive  0.136364  ... 2021-03-31   Mar-2021\n",
              "1      Neutral  0.000000  ... 2021-03-31   Mar-2021\n",
              "2     Negative -0.020833  ... 2021-03-31   Mar-2021\n",
              "3     Positive  0.068182  ... 2021-03-31   Mar-2021\n",
              "4     Negative -0.088889  ... 2021-03-31   Mar-2021\n",
              "...        ...       ...  ...        ...        ...\n",
              "4038   Neutral  0.000000  ... 2020-10-24   Oct-2020\n",
              "4039  Positive  0.550000  ... 2020-10-24   Oct-2020\n",
              "4040  Negative -0.600000  ... 2020-10-24   Oct-2020\n",
              "4041  Negative -0.087500  ... 2020-10-24   Oct-2020\n",
              "4042   Neutral  0.000000  ... 2020-10-24   Oct-2020\n",
              "\n",
              "[4043 rows x 5 columns]"
            ]
          },
          "metadata": {
            "tags": []
          },
          "execution_count": 17
        }
      ]
    },
    {
      "cell_type": "code",
      "metadata": {
        "id": "OI5_YhW2QozY"
      },
      "source": [],
      "execution_count": null,
      "outputs": []
    },
    {
      "cell_type": "code",
      "metadata": {
        "id": "ed7vOtGI2lB2"
      },
      "source": [
        "import pandas as pd\n",
        "import numpy as np\n",
        "import matplotlib.pyplot as plt\n",
        "import seaborn as sns\n",
        "from sklearn.model_selection import train_test_split\n",
        "from sklearn.preprocessing import LabelEncoder\n",
        "from keras.models import Model\n",
        "from keras.layers import LSTM, Activation, Dense, Dropout, Input, Embedding\n",
        "from keras.optimizers import RMSprop\n",
        "from keras.preprocessing.text import Tokenizer\n",
        "from keras.preprocessing import sequence\n",
        "#from keras.utils import to_categorical\n",
        "from tensorflow.keras.utils import to_categorical\n",
        "\n",
        "from keras.callbacks import EarlyStopping\n",
        "%matplotlib inline\n",
        "\n"
      ],
      "execution_count": null,
      "outputs": []
    },
    {
      "cell_type": "code",
      "metadata": {
        "id": "6iqAmmRA2lGA"
      },
      "source": [
        "X = df.processed_tweet\n",
        "Y = df.sentiment\n",
        "le = LabelEncoder()\n",
        "Y = le.fit_transform(Y)\n",
        "Y = Y.reshape(-1,1)"
      ],
      "execution_count": null,
      "outputs": []
    },
    {
      "cell_type": "code",
      "metadata": {
        "id": "HO_n6MZQ2lH8"
      },
      "source": [
        "X_train,X_test,Y_train,Y_test = train_test_split(X,Y,test_size=0.15)\n"
      ],
      "execution_count": null,
      "outputs": []
    },
    {
      "cell_type": "code",
      "metadata": {
        "id": "KrEVHMl92lKJ"
      },
      "source": [
        "max_words = 1000\n",
        "max_len = 150\n",
        "tok = Tokenizer(num_words=max_words)\n",
        "tok.fit_on_texts(X_train)\n",
        "sequences = tok.texts_to_sequences(X_train)\n",
        "sequences_matrix = sequence.pad_sequences(sequences,maxlen=max_len)"
      ],
      "execution_count": null,
      "outputs": []
    },
    {
      "cell_type": "code",
      "metadata": {
        "colab": {
          "base_uri": "https://localhost:8080/",
          "height": 198
        },
        "id": "w5UmIv8fNybV",
        "outputId": "37343a86-b681-4297-8269-184e1bc2bf07"
      },
      "source": [
        "df.head()"
      ],
      "execution_count": null,
      "outputs": [
        {
          "output_type": "execute_result",
          "data": {
            "text/html": [
              "<div>\n",
              "<style scoped>\n",
              "    .dataframe tbody tr th:only-of-type {\n",
              "        vertical-align: middle;\n",
              "    }\n",
              "\n",
              "    .dataframe tbody tr th {\n",
              "        vertical-align: top;\n",
              "    }\n",
              "\n",
              "    .dataframe thead th {\n",
              "        text-align: right;\n",
              "    }\n",
              "</style>\n",
              "<table border=\"1\" class=\"dataframe\">\n",
              "  <thead>\n",
              "    <tr style=\"text-align: right;\">\n",
              "      <th></th>\n",
              "      <th>sentiment</th>\n",
              "      <th>polarity</th>\n",
              "      <th>processed_tweet</th>\n",
              "      <th>Timestamp</th>\n",
              "      <th>month_year</th>\n",
              "    </tr>\n",
              "  </thead>\n",
              "  <tbody>\n",
              "    <tr>\n",
              "      <th>0</th>\n",
              "      <td>Positive</td>\n",
              "      <td>0.136364</td>\n",
              "      <td>new summer night favouritego stream youtube un...</td>\n",
              "      <td>2021-03-31</td>\n",
              "      <td>Mar-2021</td>\n",
              "    </tr>\n",
              "    <tr>\n",
              "      <th>1</th>\n",
              "      <td>Neutral</td>\n",
              "      <td>0.000000</td>\n",
              "      <td>blame government rather parent committed crime...</td>\n",
              "      <td>2021-03-31</td>\n",
              "      <td>Mar-2021</td>\n",
              "    </tr>\n",
              "    <tr>\n",
              "      <th>2</th>\n",
              "      <td>Negative</td>\n",
              "      <td>-0.020833</td>\n",
              "      <td>major plunge due coronavirus britainâs econo...</td>\n",
              "      <td>2021-03-31</td>\n",
              "      <td>Mar-2021</td>\n",
              "    </tr>\n",
              "    <tr>\n",
              "      <th>3</th>\n",
              "      <td>Positive</td>\n",
              "      <td>0.068182</td>\n",
              "      <td>well guess itâs time explore uk ban leaving ...</td>\n",
              "      <td>2021-03-31</td>\n",
              "      <td>Mar-2021</td>\n",
              "    </tr>\n",
              "    <tr>\n",
              "      <th>4</th>\n",
              "      <td>Negative</td>\n",
              "      <td>-0.088889</td>\n",
              "      <td>bbcnews try reading statutory instrument coron...</td>\n",
              "      <td>2021-03-31</td>\n",
              "      <td>Mar-2021</td>\n",
              "    </tr>\n",
              "  </tbody>\n",
              "</table>\n",
              "</div>"
            ],
            "text/plain": [
              "  sentiment  polarity  ...  Timestamp month_year\n",
              "0  Positive  0.136364  ... 2021-03-31   Mar-2021\n",
              "1   Neutral  0.000000  ... 2021-03-31   Mar-2021\n",
              "2  Negative -0.020833  ... 2021-03-31   Mar-2021\n",
              "3  Positive  0.068182  ... 2021-03-31   Mar-2021\n",
              "4  Negative -0.088889  ... 2021-03-31   Mar-2021\n",
              "\n",
              "[5 rows x 5 columns]"
            ]
          },
          "metadata": {
            "tags": []
          },
          "execution_count": 22
        }
      ]
    },
    {
      "cell_type": "code",
      "metadata": {
        "id": "J1ZhTz2Udn5b"
      },
      "source": [
        "# libraries\n",
        "\n",
        "import numpy as np # linear algebra\n",
        "import pandas as pd # data processing, CSV file I/O (e.g. pd.read_csv)\n",
        "import matplotlib.pyplot as plt\n",
        "np.random.seed(32)\n",
        "\n",
        "\n",
        "from sklearn.model_selection import train_test_split\n",
        "from sklearn.metrics import roc_auc_score\n",
        "from sklearn.manifold import TSNE\n",
        "\n",
        "from keras.preprocessing.text import Tokenizer\n",
        "from keras.preprocessing.sequence import pad_sequences\n",
        "from keras.layers import LSTM, Conv1D, MaxPooling1D, Dropout\n",
        "from keras.utils.np_utils import to_categorical\n",
        "\n",
        "\n",
        "%matplotlib inline"
      ],
      "execution_count": null,
      "outputs": []
    },
    {
      "cell_type": "code",
      "metadata": {
        "id": "Aej4jK7Odn7R"
      },
      "source": [
        "train_text, test_text, train_y, test_y = train_test_split(df['processed_tweet'],df['polarity'],test_size = 0.2)"
      ],
      "execution_count": null,
      "outputs": []
    },
    {
      "cell_type": "code",
      "metadata": {
        "colab": {
          "base_uri": "https://localhost:8080/"
        },
        "id": "o2n6WyFwdn93",
        "outputId": "cca48dd7-a267-4703-d2f5-737340dd0957"
      },
      "source": [
        "train_text.shape"
      ],
      "execution_count": null,
      "outputs": [
        {
          "output_type": "execute_result",
          "data": {
            "text/plain": [
              "(3234,)"
            ]
          },
          "metadata": {
            "tags": []
          },
          "execution_count": 26
        }
      ]
    },
    {
      "cell_type": "code",
      "metadata": {
        "colab": {
          "base_uri": "https://localhost:8080/"
        },
        "id": "YP8jVIyMdoAB",
        "outputId": "0b22aa08-a527-4236-d7b1-4beb192bf0a7"
      },
      "source": [
        "MAX_NB_WORDS = 20000\n",
        "\n",
        "# get the raw text data\n",
        "texts_train = train_text.astype(str)\n",
        "texts_test = test_text.astype(str)\n",
        "\n",
        "# finally, vectorize the text samples into a 2D integer tensor\n",
        "tokenizer = Tokenizer(nb_words=MAX_NB_WORDS, char_level=False)\n",
        "tokenizer.fit_on_texts(texts_train)\n",
        "sequences = tokenizer.texts_to_sequences(texts_train)\n",
        "sequences_matrix = sequence.pad_sequences(sequences,maxlen=max_len)\n",
        "\n",
        "sequences_test = tokenizer.texts_to_sequences(texts_test)\n",
        "test_sequences_matrix = sequence.pad_sequences(sequences_test,maxlen=max_len)\n",
        "\n",
        "\n",
        "word_index = tokenizer.word_index\n",
        "print('Found %s unique tokens.' % len(word_index))"
      ],
      "execution_count": null,
      "outputs": [
        {
          "output_type": "stream",
          "text": [
            "Found 11851 unique tokens.\n"
          ],
          "name": "stdout"
        },
        {
          "output_type": "stream",
          "text": [
            "/usr/local/lib/python3.7/dist-packages/keras_preprocessing/text.py:180: UserWarning: The `nb_words` argument in `Tokenizer` has been renamed `num_words`.\n",
            "  warnings.warn('The `nb_words` argument in `Tokenizer` '\n"
          ],
          "name": "stderr"
        }
      ]
    },
    {
      "cell_type": "code",
      "metadata": {
        "colab": {
          "base_uri": "https://localhost:8080/"
        },
        "id": "WycKI5z2doDj",
        "outputId": "db29980f-25de-4229-80c2-92596b03ff50"
      },
      "source": [
        "sequences[0]"
      ],
      "execution_count": null,
      "outputs": [
        {
          "output_type": "execute_result",
          "data": {
            "text/plain": [
              "[337,\n",
              " 189,\n",
              " 928,\n",
              " 6,\n",
              " 1858,\n",
              " 279,\n",
              " 1530,\n",
              " 3,\n",
              " 403,\n",
              " 142,\n",
              " 1140,\n",
              " 560,\n",
              " 1141,\n",
              " 4575,\n",
              " 352,\n",
              " 13,\n",
              " 784,\n",
              " 229,\n",
              " 300,\n",
              " 1,\n",
              " 29,\n",
              " 10,\n",
              " 161,\n",
              " 3]"
            ]
          },
          "metadata": {
            "tags": []
          },
          "execution_count": 28
        }
      ]
    },
    {
      "cell_type": "code",
      "metadata": {
        "colab": {
          "base_uri": "https://localhost:8080/"
        },
        "id": "Jm_6W7XXdoFW",
        "outputId": "9f66f649-8ee6-4ec8-a180-0be6850a6cae"
      },
      "source": [
        "type(tokenizer.word_index), len(tokenizer.word_index)"
      ],
      "execution_count": null,
      "outputs": [
        {
          "output_type": "execute_result",
          "data": {
            "text/plain": [
              "(dict, 11851)"
            ]
          },
          "metadata": {
            "tags": []
          },
          "execution_count": 29
        }
      ]
    },
    {
      "cell_type": "code",
      "metadata": {
        "id": "IcNu7qVHdoHu"
      },
      "source": [
        "index_to_word = dict((i, w) for w, i in tokenizer.word_index.items())"
      ],
      "execution_count": null,
      "outputs": []
    },
    {
      "cell_type": "code",
      "metadata": {
        "colab": {
          "base_uri": "https://localhost:8080/",
          "height": 54
        },
        "id": "xJ52bhuYdoKR",
        "outputId": "91712d1a-579f-4bb9-dc9f-0dc1a597c994"
      },
      "source": [
        "\" \".join([index_to_word[i] for i in sequences[0]])"
      ],
      "execution_count": null,
      "outputs": [
        {
          "output_type": "execute_result",
          "data": {
            "application/vnd.google.colaboratory.intrinsic+json": {
              "type": "string"
            },
            "text/plain": [
              "'three every hundred people asked quarantine arrive uk actually face check thats simply sufficient taken year realise south africa coronavirus variant case found uk'"
            ]
          },
          "metadata": {
            "tags": []
          },
          "execution_count": 31
        }
      ]
    },
    {
      "cell_type": "code",
      "metadata": {
        "colab": {
          "base_uri": "https://localhost:8080/"
        },
        "id": "YYwBOnj4doMv",
        "outputId": "67ec7edb-dbc1-4689-eef5-c6e1fc8b6232"
      },
      "source": [
        "seq_lens = [len(s) for s in sequences]\n",
        "print(\"average length: %0.1f\" % np.mean(seq_lens))\n",
        "print(\"max length: %d\" % max(seq_lens))"
      ],
      "execution_count": null,
      "outputs": [
        {
          "output_type": "stream",
          "text": [
            "average length: 16.2\n",
            "max length: 48\n"
          ],
          "name": "stdout"
        }
      ]
    },
    {
      "cell_type": "code",
      "metadata": {
        "colab": {
          "base_uri": "https://localhost:8080/"
        },
        "id": "wmCAIUW3doPk",
        "outputId": "b5c7a85d-afe4-4f98-ff93-e834046afe87"
      },
      "source": [
        "MAX_SEQUENCE_LENGTH = 150\n",
        "\n",
        "# pad sequences with 0s\n",
        "x_train = pad_sequences(sequences, maxlen=MAX_SEQUENCE_LENGTH)\n",
        "x_test = pad_sequences(sequences_test, maxlen=MAX_SEQUENCE_LENGTH)\n",
        "print('Shape of data tensor:', x_train.shape)\n",
        "print('Shape of data test tensor:', x_test.shape)"
      ],
      "execution_count": null,
      "outputs": [
        {
          "output_type": "stream",
          "text": [
            "Shape of data tensor: (3234, 150)\n",
            "Shape of data test tensor: (809, 150)\n"
          ],
          "name": "stdout"
        }
      ]
    },
    {
      "cell_type": "code",
      "metadata": {
        "colab": {
          "base_uri": "https://localhost:8080/"
        },
        "id": "qsrq4cI4doTA",
        "outputId": "fe3c6df0-b67b-4d23-ef9b-0ec69f3d5c95"
      },
      "source": [
        "y_train = train_y\n",
        "y_test = test_y\n",
        "\n",
        "y_train = to_categorical(np.asarray(y_train))\n",
        "print('Shape of label tensor:', test_y.shape)"
      ],
      "execution_count": null,
      "outputs": [
        {
          "output_type": "stream",
          "text": [
            "Shape of label tensor: (809,)\n"
          ],
          "name": "stdout"
        }
      ]
    },
    {
      "cell_type": "code",
      "metadata": {
        "id": "1TO-4UMmNye0",
        "colab": {
          "base_uri": "https://localhost:8080/"
        },
        "outputId": "5aaff47d-63b7-4dd8-fcd9-76b448133b1d"
      },
      "source": [
        "from keras.layers import Dense, Input, Flatten\n",
        "from keras.layers import GlobalAveragePooling1D, Embedding\n",
        "from keras.models import Model\n",
        "\n",
        "EMBEDDING_DIM = 50\n",
        "N_CLASSES = 2\n",
        "#CNN avec la couche de poling\n",
        "# input: a sequence of MAX_SEQUENCE_LENGTH integers\n",
        "sequence_input = Input(shape=(MAX_SEQUENCE_LENGTH,), dtype='int32')\n",
        "\n",
        "embedding_layer = Embedding(MAX_NB_WORDS, EMBEDDING_DIM,\n",
        "                            input_length=MAX_SEQUENCE_LENGTH,\n",
        "                            trainable=True)\n",
        "embedded_sequences = embedding_layer(sequence_input)\n",
        "#L'utilisation du bloc de mise en commun 1D Global average peut remplacer les blocs entièrement connectés de votre CNN.\n",
        "average = GlobalAveragePooling1D()(embedded_sequences)\n",
        "predictions = Dense(N_CLASSES, activation='softmax')(average)\n",
        "\n",
        "model_1 = Model(sequence_input, predictions)\n",
        "model_1.compile(loss='categorical_crossentropy',\n",
        "              optimizer='adam', metrics=['acc'])\n",
        "model_1.summary()"
      ],
      "execution_count": null,
      "outputs": [
        {
          "output_type": "stream",
          "text": [
            "Model: \"model\"\n",
            "_________________________________________________________________\n",
            "Layer (type)                 Output Shape              Param #   \n",
            "=================================================================\n",
            "input_1 (InputLayer)         [(None, 150)]             0         \n",
            "_________________________________________________________________\n",
            "embedding (Embedding)        (None, 150, 50)           1000000   \n",
            "_________________________________________________________________\n",
            "global_average_pooling1d (Gl (None, 50)                0         \n",
            "_________________________________________________________________\n",
            "dense (Dense)                (None, 2)                 102       \n",
            "=================================================================\n",
            "Total params: 1,000,102\n",
            "Trainable params: 1,000,102\n",
            "Non-trainable params: 0\n",
            "_________________________________________________________________\n"
          ],
          "name": "stdout"
        }
      ]
    },
    {
      "cell_type": "code",
      "metadata": {
        "colab": {
          "base_uri": "https://localhost:8080/"
        },
        "id": "uTwlQ-b_Nyjt",
        "outputId": "e4cd8174-5b66-4730-c860-784ef1a21abd"
      },
      "source": [
        "history = model_1.fit(x_train, y_train, validation_split=0.1,\n",
        "          epochs=10, batch_size=128, verbose=2)"
      ],
      "execution_count": null,
      "outputs": [
        {
          "output_type": "stream",
          "text": [
            "Epoch 1/10\n",
            "23/23 - 0s - loss: 0.0305 - acc: 0.9945 - val_loss: 0.0053 - val_acc: 1.0000\n",
            "Epoch 2/10\n",
            "23/23 - 0s - loss: 0.0304 - acc: 0.9945 - val_loss: 0.0052 - val_acc: 1.0000\n",
            "Epoch 3/10\n",
            "23/23 - 0s - loss: 0.0303 - acc: 0.9945 - val_loss: 0.0053 - val_acc: 1.0000\n",
            "Epoch 4/10\n",
            "23/23 - 0s - loss: 0.0302 - acc: 0.9945 - val_loss: 0.0052 - val_acc: 1.0000\n",
            "Epoch 5/10\n",
            "23/23 - 0s - loss: 0.0301 - acc: 0.9945 - val_loss: 0.0052 - val_acc: 1.0000\n",
            "Epoch 6/10\n",
            "23/23 - 0s - loss: 0.0300 - acc: 0.9945 - val_loss: 0.0053 - val_acc: 1.0000\n",
            "Epoch 7/10\n",
            "23/23 - 0s - loss: 0.0299 - acc: 0.9945 - val_loss: 0.0052 - val_acc: 1.0000\n",
            "Epoch 8/10\n",
            "23/23 - 0s - loss: 0.0298 - acc: 0.9945 - val_loss: 0.0052 - val_acc: 1.0000\n",
            "Epoch 9/10\n",
            "23/23 - 0s - loss: 0.0297 - acc: 0.9945 - val_loss: 0.0052 - val_acc: 1.0000\n",
            "Epoch 10/10\n",
            "23/23 - 0s - loss: 0.0296 - acc: 0.9945 - val_loss: 0.0052 - val_acc: 1.0000\n"
          ],
          "name": "stdout"
        }
      ]
    },
    {
      "cell_type": "code",
      "metadata": {
        "id": "R2eUjEC8Odtb"
      },
      "source": [
        "##"
      ],
      "execution_count": null,
      "outputs": []
    },
    {
      "cell_type": "code",
      "metadata": {
        "colab": {
          "base_uri": "https://localhost:8080/",
          "height": 244
        },
        "id": "Rf3x7cZtEHiO",
        "outputId": "0324ff80-a3f3-4328-804a-09462fc14bda"
      },
      "source": [
        "plt.plot(history1.history['loss'], label='training data')\n",
        "plt.plot(history1.history['val_loss'], label='testing data')\n",
        "plt.title('Loss for Text Classification')\n",
        "plt.ylabel('Loss value')\n",
        "plt.xlabel('No. epoch')\n",
        "plt.legend(loc=\"upper left\")\n",
        "plt.show()"
      ],
      "execution_count": null,
      "outputs": [
        {
          "output_type": "error",
          "ename": "NameError",
          "evalue": "ignored",
          "traceback": [
            "\u001b[0;31m---------------------------------------------------------------------------\u001b[0m",
            "\u001b[0;31mNameError\u001b[0m                                 Traceback (most recent call last)",
            "\u001b[0;32m<ipython-input-44-1c7cf9283e15>\u001b[0m in \u001b[0;36m<module>\u001b[0;34m()\u001b[0m\n\u001b[0;32m----> 1\u001b[0;31m \u001b[0mplt\u001b[0m\u001b[0;34m.\u001b[0m\u001b[0mplot\u001b[0m\u001b[0;34m(\u001b[0m\u001b[0mhistory1\u001b[0m\u001b[0;34m.\u001b[0m\u001b[0mhistory\u001b[0m\u001b[0;34m[\u001b[0m\u001b[0;34m'loss'\u001b[0m\u001b[0;34m]\u001b[0m\u001b[0;34m,\u001b[0m \u001b[0mlabel\u001b[0m\u001b[0;34m=\u001b[0m\u001b[0;34m'training data'\u001b[0m\u001b[0;34m)\u001b[0m\u001b[0;34m\u001b[0m\u001b[0;34m\u001b[0m\u001b[0m\n\u001b[0m\u001b[1;32m      2\u001b[0m \u001b[0mplt\u001b[0m\u001b[0;34m.\u001b[0m\u001b[0mplot\u001b[0m\u001b[0;34m(\u001b[0m\u001b[0mhistory1\u001b[0m\u001b[0;34m.\u001b[0m\u001b[0mhistory\u001b[0m\u001b[0;34m[\u001b[0m\u001b[0;34m'val_loss'\u001b[0m\u001b[0;34m]\u001b[0m\u001b[0;34m,\u001b[0m \u001b[0mlabel\u001b[0m\u001b[0;34m=\u001b[0m\u001b[0;34m'testing data'\u001b[0m\u001b[0;34m)\u001b[0m\u001b[0;34m\u001b[0m\u001b[0;34m\u001b[0m\u001b[0m\n\u001b[1;32m      3\u001b[0m \u001b[0mplt\u001b[0m\u001b[0;34m.\u001b[0m\u001b[0mtitle\u001b[0m\u001b[0;34m(\u001b[0m\u001b[0;34m'Loss for Text Classification'\u001b[0m\u001b[0;34m)\u001b[0m\u001b[0;34m\u001b[0m\u001b[0;34m\u001b[0m\u001b[0m\n\u001b[1;32m      4\u001b[0m \u001b[0mplt\u001b[0m\u001b[0;34m.\u001b[0m\u001b[0mylabel\u001b[0m\u001b[0;34m(\u001b[0m\u001b[0;34m'Loss value'\u001b[0m\u001b[0;34m)\u001b[0m\u001b[0;34m\u001b[0m\u001b[0;34m\u001b[0m\u001b[0m\n\u001b[1;32m      5\u001b[0m \u001b[0mplt\u001b[0m\u001b[0;34m.\u001b[0m\u001b[0mxlabel\u001b[0m\u001b[0;34m(\u001b[0m\u001b[0;34m'No. epoch'\u001b[0m\u001b[0;34m)\u001b[0m\u001b[0;34m\u001b[0m\u001b[0;34m\u001b[0m\u001b[0m\n",
            "\u001b[0;31mNameError\u001b[0m: name 'history1' is not defined"
          ]
        }
      ]
    },
    {
      "cell_type": "code",
      "metadata": {
        "colab": {
          "base_uri": "https://localhost:8080/",
          "height": 244
        },
        "id": "XxvJQ58RgKaE",
        "outputId": "a18c9aae-8b74-4bb8-bd3e-af53f201da78"
      },
      "source": [
        "#plt.plot(history1.history['accuracy'], label='training data')\n",
        "plt.plot(history1.history['acc'], label='training')\n",
        "\n",
        "#plt.plot(history1.history['val_accuracy'], label='validation data')\n",
        "plt.plot(history1.history['val_acc'], label='testing')\n",
        "\n",
        "plt.title('CategoricalAccuracy for Text Classification')\n",
        "plt.ylabel('CategoricalAccuracy value')\n",
        "plt.xlabel('No. epoch')\n",
        "plt.legend(loc=\"upper left\")\n",
        "plt.show()"
      ],
      "execution_count": null,
      "outputs": [
        {
          "output_type": "error",
          "ename": "NameError",
          "evalue": "ignored",
          "traceback": [
            "\u001b[0;31m---------------------------------------------------------------------------\u001b[0m",
            "\u001b[0;31mNameError\u001b[0m                                 Traceback (most recent call last)",
            "\u001b[0;32m<ipython-input-39-95482cbc8c16>\u001b[0m in \u001b[0;36m<module>\u001b[0;34m()\u001b[0m\n\u001b[1;32m      1\u001b[0m \u001b[0;31m#plt.plot(history1.history['accuracy'], label='training data')\u001b[0m\u001b[0;34m\u001b[0m\u001b[0;34m\u001b[0m\u001b[0;34m\u001b[0m\u001b[0m\n\u001b[0;32m----> 2\u001b[0;31m \u001b[0mplt\u001b[0m\u001b[0;34m.\u001b[0m\u001b[0mplot\u001b[0m\u001b[0;34m(\u001b[0m\u001b[0mhistory1\u001b[0m\u001b[0;34m.\u001b[0m\u001b[0mhistory\u001b[0m\u001b[0;34m[\u001b[0m\u001b[0;34m'acc'\u001b[0m\u001b[0;34m]\u001b[0m\u001b[0;34m,\u001b[0m \u001b[0mlabel\u001b[0m\u001b[0;34m=\u001b[0m\u001b[0;34m'training'\u001b[0m\u001b[0;34m)\u001b[0m\u001b[0;34m\u001b[0m\u001b[0;34m\u001b[0m\u001b[0m\n\u001b[0m\u001b[1;32m      3\u001b[0m \u001b[0;34m\u001b[0m\u001b[0m\n\u001b[1;32m      4\u001b[0m \u001b[0;31m#plt.plot(history1.history['val_accuracy'], label='validation data')\u001b[0m\u001b[0;34m\u001b[0m\u001b[0;34m\u001b[0m\u001b[0;34m\u001b[0m\u001b[0m\n\u001b[1;32m      5\u001b[0m \u001b[0mplt\u001b[0m\u001b[0;34m.\u001b[0m\u001b[0mplot\u001b[0m\u001b[0;34m(\u001b[0m\u001b[0mhistory1\u001b[0m\u001b[0;34m.\u001b[0m\u001b[0mhistory\u001b[0m\u001b[0;34m[\u001b[0m\u001b[0;34m'val_acc'\u001b[0m\u001b[0;34m]\u001b[0m\u001b[0;34m,\u001b[0m \u001b[0mlabel\u001b[0m\u001b[0;34m=\u001b[0m\u001b[0;34m'testing'\u001b[0m\u001b[0;34m)\u001b[0m\u001b[0;34m\u001b[0m\u001b[0;34m\u001b[0m\u001b[0m\n",
            "\u001b[0;31mNameError\u001b[0m: name 'history1' is not defined"
          ]
        }
      ]
    },
    {
      "cell_type": "code",
      "metadata": {
        "id": "36JcrptB30tZ"
      },
      "source": [
        "import tensorflow as tf\n",
        "tf.keras.utils.plot_model(model_1, \"simpleNN_model.png\", show_shapes=True)"
      ],
      "execution_count": null,
      "outputs": []
    },
    {
      "cell_type": "code",
      "metadata": {
        "id": "bdb9eHvJgKch"
      },
      "source": [
        "# input: a sequence of MAX_SEQUENCE_LENGTH integers\n",
        "#model LSTM Pure\n",
        "sequence_input = Input(shape=(MAX_SEQUENCE_LENGTH,), dtype='int32')\n",
        "embedded_sequences = embedding_layer(sequence_input)\n",
        "\n",
        "x = LSTM(128, dropout=0.2, recurrent_dropout=0.2)(embedded_sequences)\n",
        "predictions = Dense(2, activation='softmax')(x)\n",
        "\n",
        "\n",
        "model_2 = Model(sequence_input, predictions)\n",
        "model_2.compile(loss='categorical_crossentropy',\n",
        "              optimizer='adam',\n",
        "              metrics=['acc'])\n",
        "model_2.summary()\n"
      ],
      "execution_count": null,
      "outputs": []
    },
    {
      "cell_type": "code",
      "metadata": {
        "colab": {
          "base_uri": "https://localhost:8080/"
        },
        "id": "_MKTMhnpgKeY",
        "outputId": "244b930f-a2df-4ab0-97c0-1bc9f2e34435"
      },
      "source": [
        "history2 = model_2.fit(x_train, y_train, validation_split=0.1,\n",
        "          epochs=10, batch_size=128,verbose=1)"
      ],
      "execution_count": null,
      "outputs": [
        {
          "output_type": "stream",
          "text": [
            "Epoch 1/10\n",
            "236/236 [==============================] - 189s 789ms/step - loss: 0.0535 - acc: 0.9729 - val_loss: 0.0672 - val_acc: 0.9910\n",
            "Epoch 2/10\n",
            "236/236 [==============================] - 183s 776ms/step - loss: 0.0045 - acc: 0.9985 - val_loss: 0.0495 - val_acc: 0.9904\n",
            "Epoch 3/10\n",
            "236/236 [==============================] - 182s 771ms/step - loss: 0.0043 - acc: 0.9989 - val_loss: 0.0701 - val_acc: 0.9910\n",
            "Epoch 4/10\n",
            "236/236 [==============================] - 181s 768ms/step - loss: 0.0031 - acc: 0.9991 - val_loss: 0.0761 - val_acc: 0.9913\n",
            "Epoch 5/10\n",
            "236/236 [==============================] - 181s 767ms/step - loss: 0.0023 - acc: 0.9994 - val_loss: 0.0752 - val_acc: 0.9907\n",
            "Epoch 6/10\n",
            "236/236 [==============================] - 184s 778ms/step - loss: 0.0015 - acc: 0.9997 - val_loss: 0.0715 - val_acc: 0.9910\n",
            "Epoch 7/10\n",
            "236/236 [==============================] - 183s 774ms/step - loss: 0.0016 - acc: 0.9994 - val_loss: 0.0786 - val_acc: 0.9910\n",
            "Epoch 8/10\n",
            "236/236 [==============================] - 181s 769ms/step - loss: 9.4377e-04 - acc: 0.9997 - val_loss: 0.0876 - val_acc: 0.9901\n",
            "Epoch 9/10\n",
            "236/236 [==============================] - 183s 776ms/step - loss: 0.0010 - acc: 0.9998 - val_loss: 0.0594 - val_acc: 0.9895\n",
            "Epoch 10/10\n",
            "236/236 [==============================] - 182s 771ms/step - loss: 0.0013 - acc: 0.9996 - val_loss: 0.0833 - val_acc: 0.9916\n"
          ],
          "name": "stdout"
        }
      ]
    },
    {
      "cell_type": "code",
      "metadata": {
        "id": "eUYN8-j4M6Wp"
      },
      "source": [
        "###"
      ],
      "execution_count": null,
      "outputs": []
    },
    {
      "cell_type": "code",
      "metadata": {
        "id": "8Y72I4b5gKg-",
        "colab": {
          "base_uri": "https://localhost:8080/",
          "height": 295
        },
        "outputId": "52fdbc9c-0db6-4e9b-ffdf-42b8965624fc"
      },
      "source": [
        "plt.plot(history2.history['loss'], label='training data')\n",
        "plt.plot(history2.history['val_loss'], label='testing data')\n",
        "plt.title('Loss for Text Classification')\n",
        "plt.ylabel('Loss value')\n",
        "plt.xlabel('No. epoch')\n",
        "plt.legend(loc=\"upper left\")\n",
        "plt.show()"
      ],
      "execution_count": null,
      "outputs": [
        {
          "output_type": "display_data",
          "data": {
            "image/png": "[encoded data removed]",
            "text/plain": [
              "<Figure size 432x288 with 1 Axes>"
            ]
          },
          "metadata": {
            "tags": [],
            "needs_background": "light"
          }
        }
      ]
    },
    {
      "cell_type": "code",
      "metadata": {
        "id": "hASPOrEggKjZ",
        "colab": {
          "base_uri": "https://localhost:8080/",
          "height": 295
        },
        "outputId": "5ad1e43c-01f9-40f9-ecaf-4ae71d4ae3be"
      },
      "source": [
        "#plt.plot(history1.history['accuracy'], label='training data')\n",
        "plt.plot(history2.history['acc'], label='train')\n",
        "\n",
        "#plt.plot(history1.history['val_accuracy'], label='validation data')\n",
        "plt.plot(history2.history['val_acc'], label='test')\n",
        "\n",
        "plt.title('CategoricalAccuracy for Text Classification')\n",
        "plt.ylabel('CategoricalAccuracy value')\n",
        "plt.xlabel('No. epoch')\n",
        "plt.legend(loc=\"upper left\")\n",
        "plt.show()"
      ],
      "execution_count": null,
      "outputs": [
        {
          "output_type": "display_data",
          "data": {
            "image/png": "[encoded data removed]",
            "text/plain": [
              "<Figure size 432x288 with 1 Axes>"
            ]
          },
          "metadata": {
            "tags": [],
            "needs_background": "light"
          }
        }
      ]
    },
    {
      "cell_type": "code",
      "metadata": {
        "colab": {
          "base_uri": "https://localhost:8080/",
          "height": 422
        },
        "id": "5GEDvY3136Lp",
        "outputId": "a7e3e1ed-3b09-4a02-df5e-926a411ae936"
      },
      "source": [
        "tf.keras.utils.plot_model(model_2, \"simpleNN_model.png\", show_shapes=True)"
      ],
      "execution_count": null,
      "outputs": [
        {
          "output_type": "execute_result",
          "data": {
            "image/png": "[encoded data removed]",
            "text/plain": [
              "<IPython.core.display.Image object>"
            ]
          },
          "metadata": {
            "tags": []
          },
          "execution_count": 136
        }
      ]
    },
    {
      "cell_type": "code",
      "metadata": {
        "id": "MZ0QBGqpgKoT",
        "colab": {
          "base_uri": "https://localhost:8080/"
        },
        "outputId": "5fe547cb-ce91-4ab2-8837-2dc6e6e9ae36"
      },
      "source": [
        "#CNN model using LSTM Layer\n",
        "# input: a sequence of MAX_SEQUENCE_LENGTH integers\n",
        "sequence_input = Input(shape=(MAX_SEQUENCE_LENGTH,), dtype='int32')\n",
        "embedded_sequences = embedding_layer(sequence_input)\n",
        "\n",
        "# 1D convolution with 64 output channels\n",
        "x = Conv1D(64, 5)(embedded_sequences)\n",
        "# MaxPool divides the length of the sequence by 5\n",
        "x = MaxPooling1D(5)(x)\n",
        "x = Dropout(0.2)(x)\n",
        "x = Conv1D(64, 5)(x)\n",
        "x = MaxPooling1D(5)(x)\n",
        "# LSTM layer with a hidden size of 64\n",
        "x = Dropout(0.2)(x)\n",
        "x = LSTM(64)(x)\n",
        "predictions = Dense(2, activation='softmax')(x)\n",
        "\n",
        "model_3 = Model(sequence_input, predictions)\n",
        "model_3.compile(loss='categorical_crossentropy',\n",
        "              optimizer='adam',\n",
        "              metrics=['acc'])\n",
        "model_3.summary()"
      ],
      "execution_count": null,
      "outputs": [
        {
          "output_type": "stream",
          "text": [
            "Model: \"model_1\"\n",
            "_________________________________________________________________\n",
            "Layer (type)                 Output Shape              Param #   \n",
            "=================================================================\n",
            "input_2 (InputLayer)         [(None, 150)]             0         \n",
            "_________________________________________________________________\n",
            "embedding (Embedding)        (None, 150, 50)           1000000   \n",
            "_________________________________________________________________\n",
            "conv1d (Conv1D)              (None, 146, 64)           16064     \n",
            "_________________________________________________________________\n",
            "max_pooling1d (MaxPooling1D) (None, 29, 64)            0         \n",
            "_________________________________________________________________\n",
            "dropout (Dropout)            (None, 29, 64)            0         \n",
            "_________________________________________________________________\n",
            "conv1d_1 (Conv1D)            (None, 25, 64)            20544     \n",
            "_________________________________________________________________\n",
            "max_pooling1d_1 (MaxPooling1 (None, 5, 64)             0         \n",
            "_________________________________________________________________\n",
            "dropout_1 (Dropout)          (None, 5, 64)             0         \n",
            "_________________________________________________________________\n",
            "lstm (LSTM)                  (None, 64)                33024     \n",
            "_________________________________________________________________\n",
            "dense_1 (Dense)              (None, 2)                 130       \n",
            "=================================================================\n",
            "Total params: 1,069,762\n",
            "Trainable params: 1,069,762\n",
            "Non-trainable params: 0\n",
            "_________________________________________________________________\n"
          ],
          "name": "stdout"
        }
      ]
    },
    {
      "cell_type": "code",
      "metadata": {
        "colab": {
          "base_uri": "https://localhost:8080/"
        },
        "id": "MDSbsB2jtrPe",
        "outputId": "9591994a-dd7a-4ea4-8178-b9607cc46280"
      },
      "source": [
        "history3 = model_3.fit(x_train, y_train, validation_split=0.6,\n",
        "          epochs=10, batch_size=128)"
      ],
      "execution_count": null,
      "outputs": [
        {
          "output_type": "stream",
          "text": [
            "Epoch 1/10\n",
            "11/11 [==============================] - 1s 73ms/step - loss: 0.0049 - acc: 0.9992 - val_loss: 0.0097 - val_acc: 0.9979\n",
            "Epoch 2/10\n",
            "11/11 [==============================] - 0s 22ms/step - loss: 0.0052 - acc: 0.9992 - val_loss: 0.0095 - val_acc: 0.9979\n",
            "Epoch 3/10\n",
            "11/11 [==============================] - 0s 22ms/step - loss: 0.0050 - acc: 0.9992 - val_loss: 0.0087 - val_acc: 0.9985\n",
            "Epoch 4/10\n",
            "11/11 [==============================] - 0s 22ms/step - loss: 0.0064 - acc: 0.9985 - val_loss: 0.0089 - val_acc: 0.9985\n",
            "Epoch 5/10\n",
            "11/11 [==============================] - 0s 21ms/step - loss: 0.0048 - acc: 0.9992 - val_loss: 0.0092 - val_acc: 0.9985\n",
            "Epoch 6/10\n",
            "11/11 [==============================] - 0s 20ms/step - loss: 0.0103 - acc: 0.9992 - val_loss: 0.0098 - val_acc: 0.9985\n",
            "Epoch 7/10\n",
            "11/11 [==============================] - 0s 21ms/step - loss: 0.0028 - acc: 0.9992 - val_loss: 0.0104 - val_acc: 0.9979\n",
            "Epoch 8/10\n",
            "11/11 [==============================] - 0s 21ms/step - loss: 0.0020 - acc: 0.9992 - val_loss: 0.0111 - val_acc: 0.9979\n",
            "Epoch 9/10\n",
            "11/11 [==============================] - 0s 20ms/step - loss: 0.0024 - acc: 0.9992 - val_loss: 0.0108 - val_acc: 0.9979\n",
            "Epoch 10/10\n",
            "11/11 [==============================] - 0s 22ms/step - loss: 0.0016 - acc: 0.9992 - val_loss: 0.0104 - val_acc: 0.9985\n"
          ],
          "name": "stdout"
        }
      ]
    },
    {
      "cell_type": "code",
      "metadata": {
        "id": "Xve8Y13BOi4N"
      },
      "source": [
        "##"
      ],
      "execution_count": null,
      "outputs": []
    },
    {
      "cell_type": "code",
      "metadata": {
        "colab": {
          "base_uri": "https://localhost:8080/",
          "height": 295
        },
        "id": "oiwQ1d9QtrWC",
        "outputId": "63e37390-1f3d-444b-97fb-81a95ff4ea25"
      },
      "source": [
        "plt.plot(history3.history['loss'], label='training data')\n",
        "plt.plot(history3.history['val_loss'], label='validation data')\n",
        "plt.title('Loss for Text Classification')\n",
        "plt.ylabel('Loss value')\n",
        "plt.xlabel('No. epoch')\n",
        "plt.legend(loc=\"upper left\")\n",
        "plt.show()"
      ],
      "execution_count": null,
      "outputs": [
        {
          "output_type": "display_data",
          "data": {
            "image/png": "[encoded data removed]",
            "text/plain": [
              "<Figure size 432x288 with 1 Axes>"
            ]
          },
          "metadata": {
            "tags": [],
            "needs_background": "light"
          }
        }
      ]
    },
    {
      "cell_type": "code",
      "metadata": {
        "id": "5-YDBjqPIW3n"
      },
      "source": [],
      "execution_count": null,
      "outputs": []
    },
    {
      "cell_type": "code",
      "metadata": {
        "colab": {
          "base_uri": "https://localhost:8080/",
          "height": 295
        },
        "id": "2SfTgX_wtran",
        "outputId": "d93a7089-0389-42e6-cfff-71bfdd4953cd"
      },
      "source": [
        "#plt.plot(history1.history['accuracy'], label='training data')\n",
        "plt.plot(history3.history['acc'], label='training data')\n",
        "\n",
        "#plt.plot(history1.history['val_accuracy'], label='validation data')\n",
        "plt.plot(history3.history['val_acc'], label='validation data')\n",
        "\n",
        "plt.title('CategoricalAccuracy for Text Classification')\n",
        "plt.ylabel('CategoricalAccuracy value')\n",
        "plt.xlabel('No. epoch')\n",
        "plt.legend(loc=\"upper left\")\n",
        "plt.show()"
      ],
      "execution_count": null,
      "outputs": [
        {
          "output_type": "display_data",
          "data": {
            "image/png": "[encoded data removed]",
            "text/plain": [
              "<Figure size 432x288 with 1 Axes>"
            ]
          },
          "metadata": {
            "tags": [],
            "needs_background": "light"
          }
        }
      ]
    },
    {
      "cell_type": "code",
      "metadata": {
        "colab": {
          "base_uri": "https://localhost:8080/",
          "height": 1000
        },
        "id": "6SohS4sG38uz",
        "outputId": "10bd88de-6f62-4806-94c4-3a931bdb1211"
      },
      "source": [
        "#Converts a Keras model to dot format and save to a file.\n",
        "\n",
        "tf.keras.utils.plot_model(model_3, \"simpleNN_model.png\", show_shapes=True)"
      ],
      "execution_count": null,
      "outputs": [
        {
          "output_type": "execute_result",
          "data": {
            "image/png": "[encoded data removed]",
            "text/plain": [
              "<IPython.core.display.Image object>"
            ]
          },
          "metadata": {
            "tags": []
          },
          "execution_count": 58
        }
      ]
    },
    {
      "cell_type": "code",
      "metadata": {
        "colab": {
          "base_uri": "https://localhost:8080/"
        },
        "id": "7tQ9Bw4WgygZ",
        "outputId": "6eac8209-9f47-452f-a0e9-977c8a1dc0ec"
      },
      "source": [
        "\n",
        "from prettytable import PrettyTable\n",
        "table = PrettyTable()\n",
        "table.field_names = ['Model', 'Accuracy %']\n",
        "table.add_row(['RNN', 42.3])\n",
        "\n",
        "table.add_row(['CNN using couche poling', 99.98])\n",
        "\n",
        "table.add_row(['CNN using LSTM', 99.16])\n",
        "\n",
        "table.add_row(['CNN unsing couche convolution ', 99.22])\n",
        "\n",
        "\n",
        "print(table)"
      ],
      "execution_count": null,
      "outputs": [
        {
          "output_type": "stream",
          "text": [
            "+--------------------------------+------------+\n",
            "|             Model              | Accuracy % |\n",
            "+--------------------------------+------------+\n",
            "|              RNN               |    42.3    |\n",
            "|    CNN using couche poling     |   99.98    |\n",
            "|         CNN using LSTM         |   99.16    |\n",
            "| CNN unsing couche convolution  |   99.22    |\n",
            "+--------------------------------+------------+\n"
          ],
          "name": "stdout"
        }
      ]
    },
    {
      "cell_type": "code",
      "metadata": {
        "id": "zXPukKUmgysE"
      },
      "source": [],
      "execution_count": null,
      "outputs": []
    },
    {
      "cell_type": "code",
      "metadata": {
        "id": "BDgHlEk7gywM"
      },
      "source": [],
      "execution_count": null,
      "outputs": []
    }
  ]
}