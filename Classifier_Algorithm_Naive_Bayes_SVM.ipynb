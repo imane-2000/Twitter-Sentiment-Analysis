{
  "cells": [
    {
      "cell_type": "code",
      "execution_count": 1,
      "metadata": {
        "id": "BcXBCBNm4IBK"
      },
      "outputs": [],
      "source": [
        "import tweepy as tw\n",
        "# Import numpy and pandas to work with dataframes\n",
        "import numpy as np\n",
        "import pandas as pd\n",
        "import datetime as dt\n",
        "# Import seaborn and matplotlib\n",
        "from matplotlib import pyplot as plt\n",
        "import csv\n",
        "import seaborn as sns"
      ]
    },
    {
      "cell_type": "markdown",
      "source": [
        "Importing data"
      ],
      "metadata": {
        "id": "WxrcySzpJCec"
      }
    },
    {
      "cell_type": "code",
      "execution_count": 2,
      "metadata": {
        "id": "RdpddgU24Vjm"
      },
      "outputs": [],
      "source": [
        "df = pd.read_csv('/content/covid19_tweets.csv',encoding='latin-1')"
      ]
    },
    {
      "cell_type": "code",
      "execution_count": 3,
      "metadata": {
        "colab": {
          "base_uri": "https://localhost:8080/",
          "height": 452
        },
        "id": "MHLoWbSt4om7",
        "outputId": "c17ad4c5-cc64-41bb-98d5-5fdc7f27fdf7"
      },
      "outputs": [
        {
          "output_type": "execute_result",
          "data": {
            "text/plain": [
              "             user_name         user_location  \\\n",
              "0     áá¥â»Õ¬ê\n",
              "Ï®            astroworld   \n",
              "1  Tom Basile ðºð¸          New York, NY   \n",
              "2      Time4fisticuffs      Pewee Valley, KY   \n",
              "3          ethel mertz  Stuck in the Middle    \n",
              "4             DIPR-J&K     Jammu and Kashmir   \n",
              "\n",
              "                                    user_description         user_created  \\\n",
              "0  wednesday addams as a disney princess keepin i...  2017-05-26 05:46:42   \n",
              "1  Husband, Father, Columnist & Commentator. Auth...  2009-04-16 20:06:23   \n",
              "2  #Christian #Catholic #Conservative #Reagan #Re...  2009-02-28 18:57:41   \n",
              "3  #Browns #Indians #ClevelandProud #[]_[] #Cavs ...  2019-03-07 01:45:06   \n",
              "4  ðï¸Official Twitter handle of Department o...  2017-02-12 06:45:15   \n",
              "\n",
              "   user_followers  user_friends  user_favourites  user_verified  \\\n",
              "0             624           950            18775          False   \n",
              "1            2253          1677               24           True   \n",
              "2            9275          9525             7254          False   \n",
              "3             197           987             1488          False   \n",
              "4          101009           168              101          False   \n",
              "\n",
              "                  date                                               text  \\\n",
              "0  2020-07-25 12:27:21  If I smelled the scent of hand sanitizers toda...   \n",
              "1  2020-07-25 12:27:17  Hey @Yankees @YankeesPR and @MLB - wouldn't it...   \n",
              "2  2020-07-25 12:27:14  @diane3443 @wdunlap @realDonaldTrump Trump nev...   \n",
              "3  2020-07-25 12:27:10  @brookbanktv The one gift #COVID19 has give me...   \n",
              "4  2020-07-25 12:27:08  25 July : Media Bulletin on Novel #CoronaVirus...   \n",
              "\n",
              "                            hashtags               source is_retweet  \n",
              "0                                NaN   Twitter for iPhone      False  \n",
              "1                                NaN  Twitter for Android      False  \n",
              "2                        ['COVID19']  Twitter for Android      False  \n",
              "3                        ['COVID19']   Twitter for iPhone      False  \n",
              "4  ['CoronaVirusUpdates', 'COVID19']  Twitter for Android      False  "
            ],
            "text/html": [
              "\n",
              "  <div id=\"df-9ae250ad-496b-43d6-931b-0841880f9233\" class=\"colab-df-container\">\n",
              "    <div>\n",
              "<style scoped>\n",
              "    .dataframe tbody tr th:only-of-type {\n",
              "        vertical-align: middle;\n",
              "    }\n",
              "\n",
              "    .dataframe tbody tr th {\n",
              "        vertical-align: top;\n",
              "    }\n",
              "\n",
              "    .dataframe thead th {\n",
              "        text-align: right;\n",
              "    }\n",
              "</style>\n",
              "<table border=\"1\" class=\"dataframe\">\n",
              "  <thead>\n",
              "    <tr style=\"text-align: right;\">\n",
              "      <th></th>\n",
              "      <th>user_name</th>\n",
              "      <th>user_location</th>\n",
              "      <th>user_description</th>\n",
              "      <th>user_created</th>\n",
              "      <th>user_followers</th>\n",
              "      <th>user_friends</th>\n",
              "      <th>user_favourites</th>\n",
              "      <th>user_verified</th>\n",
              "      <th>date</th>\n",
              "      <th>text</th>\n",
              "      <th>hashtags</th>\n",
              "      <th>source</th>\n",
              "      <th>is_retweet</th>\n",
              "    </tr>\n",
              "  </thead>\n",
              "  <tbody>\n",
              "    <tr>\n",
              "      <th>0</th>\n",
              "      <td>áá¥â»Õ¬êÏ®</td>\n",
              "      <td>astroworld</td>\n",
              "      <td>wednesday addams as a disney princess keepin i...</td>\n",
              "      <td>2017-05-26 05:46:42</td>\n",
              "      <td>624</td>\n",
              "      <td>950</td>\n",
              "      <td>18775</td>\n",
              "      <td>False</td>\n",
              "      <td>2020-07-25 12:27:21</td>\n",
              "      <td>If I smelled the scent of hand sanitizers toda...</td>\n",
              "      <td>NaN</td>\n",
              "      <td>Twitter for iPhone</td>\n",
              "      <td>False</td>\n",
              "    </tr>\n",
              "    <tr>\n",
              "      <th>1</th>\n",
              "      <td>Tom Basile ðºð¸</td>\n",
              "      <td>New York, NY</td>\n",
              "      <td>Husband, Father, Columnist &amp; Commentator. Auth...</td>\n",
              "      <td>2009-04-16 20:06:23</td>\n",
              "      <td>2253</td>\n",
              "      <td>1677</td>\n",
              "      <td>24</td>\n",
              "      <td>True</td>\n",
              "      <td>2020-07-25 12:27:17</td>\n",
              "      <td>Hey @Yankees @YankeesPR and @MLB - wouldn't it...</td>\n",
              "      <td>NaN</td>\n",
              "      <td>Twitter for Android</td>\n",
              "      <td>False</td>\n",
              "    </tr>\n",
              "    <tr>\n",
              "      <th>2</th>\n",
              "      <td>Time4fisticuffs</td>\n",
              "      <td>Pewee Valley, KY</td>\n",
              "      <td>#Christian #Catholic #Conservative #Reagan #Re...</td>\n",
              "      <td>2009-02-28 18:57:41</td>\n",
              "      <td>9275</td>\n",
              "      <td>9525</td>\n",
              "      <td>7254</td>\n",
              "      <td>False</td>\n",
              "      <td>2020-07-25 12:27:14</td>\n",
              "      <td>@diane3443 @wdunlap @realDonaldTrump Trump nev...</td>\n",
              "      <td>['COVID19']</td>\n",
              "      <td>Twitter for Android</td>\n",
              "      <td>False</td>\n",
              "    </tr>\n",
              "    <tr>\n",
              "      <th>3</th>\n",
              "      <td>ethel mertz</td>\n",
              "      <td>Stuck in the Middle</td>\n",
              "      <td>#Browns #Indians #ClevelandProud #[]_[] #Cavs ...</td>\n",
              "      <td>2019-03-07 01:45:06</td>\n",
              "      <td>197</td>\n",
              "      <td>987</td>\n",
              "      <td>1488</td>\n",
              "      <td>False</td>\n",
              "      <td>2020-07-25 12:27:10</td>\n",
              "      <td>@brookbanktv The one gift #COVID19 has give me...</td>\n",
              "      <td>['COVID19']</td>\n",
              "      <td>Twitter for iPhone</td>\n",
              "      <td>False</td>\n",
              "    </tr>\n",
              "    <tr>\n",
              "      <th>4</th>\n",
              "      <td>DIPR-J&amp;K</td>\n",
              "      <td>Jammu and Kashmir</td>\n",
              "      <td>ðï¸Official Twitter handle of Department o...</td>\n",
              "      <td>2017-02-12 06:45:15</td>\n",
              "      <td>101009</td>\n",
              "      <td>168</td>\n",
              "      <td>101</td>\n",
              "      <td>False</td>\n",
              "      <td>2020-07-25 12:27:08</td>\n",
              "      <td>25 July : Media Bulletin on Novel #CoronaVirus...</td>\n",
              "      <td>['CoronaVirusUpdates', 'COVID19']</td>\n",
              "      <td>Twitter for Android</td>\n",
              "      <td>False</td>\n",
              "    </tr>\n",
              "  </tbody>\n",
              "</table>\n",
              "</div>\n",
              "    <div class=\"colab-df-buttons\">\n",
              "\n",
              "  <div class=\"colab-df-container\">\n",
              "    <button class=\"colab-df-convert\" onclick=\"convertToInteractive('df-9ae250ad-496b-43d6-931b-0841880f9233')\"\n",
              "            title=\"Convert this dataframe to an interactive table.\"\n",
              "            style=\"display:none;\">\n",
              "\n",
              "  <svg xmlns=\"http://www.w3.org/2000/svg\" height=\"24px\" viewBox=\"0 -960 960 960\">\n",
              "    <path d=\"M120-120v-720h720v720H120Zm60-500h600v-160H180v160Zm220 220h160v-160H400v160Zm0 220h160v-160H400v160ZM180-400h160v-160H180v160Zm440 0h160v-160H620v160ZM180-180h160v-160H180v160Zm440 0h160v-160H620v160Z\"/>\n",
              "  </svg>\n",
              "    </button>\n",
              "\n",
              "  <style>\n",
              "    .colab-df-container {\n",
              "      display:flex;\n",
              "      gap: 12px;\n",
              "    }\n",
              "\n",
              "    .colab-df-convert {\n",
              "      background-color: #E8F0FE;\n",
              "      border: none;\n",
              "      border-radius: 50%;\n",
              "      cursor: pointer;\n",
              "      display: none;\n",
              "      fill: #1967D2;\n",
              "      height: 32px;\n",
              "      padding: 0 0 0 0;\n",
              "      width: 32px;\n",
              "    }\n",
              "\n",
              "    .colab-df-convert:hover {\n",
              "      background-color: #E2EBFA;\n",
              "      box-shadow: 0px 1px 2px rgba(60, 64, 67, 0.3), 0px 1px 3px 1px rgba(60, 64, 67, 0.15);\n",
              "      fill: #174EA6;\n",
              "    }\n",
              "\n",
              "    .colab-df-buttons div {\n",
              "      margin-bottom: 4px;\n",
              "    }\n",
              "\n",
              "    [theme=dark] .colab-df-convert {\n",
              "      background-color: #3B4455;\n",
              "      fill: #D2E3FC;\n",
              "    }\n",
              "\n",
              "    [theme=dark] .colab-df-convert:hover {\n",
              "      background-color: #434B5C;\n",
              "      box-shadow: 0px 1px 3px 1px rgba(0, 0, 0, 0.15);\n",
              "      filter: drop-shadow(0px 1px 2px rgba(0, 0, 0, 0.3));\n",
              "      fill: #FFFFFF;\n",
              "    }\n",
              "  </style>\n",
              "\n",
              "    <script>\n",
              "      const buttonEl =\n",
              "        document.querySelector('#df-9ae250ad-496b-43d6-931b-0841880f9233 button.colab-df-convert');\n",
              "      buttonEl.style.display =\n",
              "        google.colab.kernel.accessAllowed ? 'block' : 'none';\n",
              "\n",
              "      async function convertToInteractive(key) {\n",
              "        const element = document.querySelector('#df-9ae250ad-496b-43d6-931b-0841880f9233');\n",
              "        const dataTable =\n",
              "          await google.colab.kernel.invokeFunction('convertToInteractive',\n",
              "                                                    [key], {});\n",
              "        if (!dataTable) return;\n",
              "\n",
              "        const docLinkHtml = 'Like what you see? Visit the ' +\n",
              "          '<a target=\"_blank\" href=https://colab.research.google.com/notebooks/data_table.ipynb>data table notebook</a>'\n",
              "          + ' to learn more about interactive tables.';\n",
              "        element.innerHTML = '';\n",
              "        dataTable['output_type'] = 'display_data';\n",
              "        await google.colab.output.renderOutput(dataTable, element);\n",
              "        const docLink = document.createElement('div');\n",
              "        docLink.innerHTML = docLinkHtml;\n",
              "        element.appendChild(docLink);\n",
              "      }\n",
              "    </script>\n",
              "  </div>\n",
              "\n",
              "\n",
              "<div id=\"df-92c3542b-ec43-4cee-ab62-973a7842c66d\">\n",
              "  <button class=\"colab-df-quickchart\" onclick=\"quickchart('df-92c3542b-ec43-4cee-ab62-973a7842c66d')\"\n",
              "            title=\"Suggest charts\"\n",
              "            style=\"display:none;\">\n",
              "\n",
              "<svg xmlns=\"http://www.w3.org/2000/svg\" height=\"24px\"viewBox=\"0 0 24 24\"\n",
              "     width=\"24px\">\n",
              "    <g>\n",
              "        <path d=\"M19 3H5c-1.1 0-2 .9-2 2v14c0 1.1.9 2 2 2h14c1.1 0 2-.9 2-2V5c0-1.1-.9-2-2-2zM9 17H7v-7h2v7zm4 0h-2V7h2v10zm4 0h-2v-4h2v4z\"/>\n",
              "    </g>\n",
              "</svg>\n",
              "  </button>\n",
              "\n",
              "<style>\n",
              "  .colab-df-quickchart {\n",
              "      --bg-color: #E8F0FE;\n",
              "      --fill-color: #1967D2;\n",
              "      --hover-bg-color: #E2EBFA;\n",
              "      --hover-fill-color: #174EA6;\n",
              "      --disabled-fill-color: #AAA;\n",
              "      --disabled-bg-color: #DDD;\n",
              "  }\n",
              "\n",
              "  [theme=dark] .colab-df-quickchart {\n",
              "      --bg-color: #3B4455;\n",
              "      --fill-color: #D2E3FC;\n",
              "      --hover-bg-color: #434B5C;\n",
              "      --hover-fill-color: #FFFFFF;\n",
              "      --disabled-bg-color: #3B4455;\n",
              "      --disabled-fill-color: #666;\n",
              "  }\n",
              "\n",
              "  .colab-df-quickchart {\n",
              "    background-color: var(--bg-color);\n",
              "    border: none;\n",
              "    border-radius: 50%;\n",
              "    cursor: pointer;\n",
              "    display: none;\n",
              "    fill: var(--fill-color);\n",
              "    height: 32px;\n",
              "    padding: 0;\n",
              "    width: 32px;\n",
              "  }\n",
              "\n",
              "  .colab-df-quickchart:hover {\n",
              "    background-color: var(--hover-bg-color);\n",
              "    box-shadow: 0 1px 2px rgba(60, 64, 67, 0.3), 0 1px 3px 1px rgba(60, 64, 67, 0.15);\n",
              "    fill: var(--button-hover-fill-color);\n",
              "  }\n",
              "\n",
              "  .colab-df-quickchart-complete:disabled,\n",
              "  .colab-df-quickchart-complete:disabled:hover {\n",
              "    background-color: var(--disabled-bg-color);\n",
              "    fill: var(--disabled-fill-color);\n",
              "    box-shadow: none;\n",
              "  }\n",
              "\n",
              "  .colab-df-spinner {\n",
              "    border: 2px solid var(--fill-color);\n",
              "    border-color: transparent;\n",
              "    border-bottom-color: var(--fill-color);\n",
              "    animation:\n",
              "      spin 1s steps(1) infinite;\n",
              "  }\n",
              "\n",
              "  @keyframes spin {\n",
              "    0% {\n",
              "      border-color: transparent;\n",
              "      border-bottom-color: var(--fill-color);\n",
              "      border-left-color: var(--fill-color);\n",
              "    }\n",
              "    20% {\n",
              "      border-color: transparent;\n",
              "      border-left-color: var(--fill-color);\n",
              "      border-top-color: var(--fill-color);\n",
              "    }\n",
              "    30% {\n",
              "      border-color: transparent;\n",
              "      border-left-color: var(--fill-color);\n",
              "      border-top-color: var(--fill-color);\n",
              "      border-right-color: var(--fill-color);\n",
              "    }\n",
              "    40% {\n",
              "      border-color: transparent;\n",
              "      border-right-color: var(--fill-color);\n",
              "      border-top-color: var(--fill-color);\n",
              "    }\n",
              "    60% {\n",
              "      border-color: transparent;\n",
              "      border-right-color: var(--fill-color);\n",
              "    }\n",
              "    80% {\n",
              "      border-color: transparent;\n",
              "      border-right-color: var(--fill-color);\n",
              "      border-bottom-color: var(--fill-color);\n",
              "    }\n",
              "    90% {\n",
              "      border-color: transparent;\n",
              "      border-bottom-color: var(--fill-color);\n",
              "    }\n",
              "  }\n",
              "</style>\n",
              "\n",
              "  <script>\n",
              "    async function quickchart(key) {\n",
              "      const quickchartButtonEl =\n",
              "        document.querySelector('#' + key + ' button');\n",
              "      quickchartButtonEl.disabled = true;  // To prevent multiple clicks.\n",
              "      quickchartButtonEl.classList.add('colab-df-spinner');\n",
              "      try {\n",
              "        const charts = await google.colab.kernel.invokeFunction(\n",
              "            'suggestCharts', [key], {});\n",
              "      } catch (error) {\n",
              "        console.error('Error during call to suggestCharts:', error);\n",
              "      }\n",
              "      quickchartButtonEl.classList.remove('colab-df-spinner');\n",
              "      quickchartButtonEl.classList.add('colab-df-quickchart-complete');\n",
              "    }\n",
              "    (() => {\n",
              "      let quickchartButtonEl =\n",
              "        document.querySelector('#df-92c3542b-ec43-4cee-ab62-973a7842c66d button');\n",
              "      quickchartButtonEl.style.display =\n",
              "        google.colab.kernel.accessAllowed ? 'block' : 'none';\n",
              "    })();\n",
              "  </script>\n",
              "</div>\n",
              "    </div>\n",
              "  </div>\n"
            ],
            "application/vnd.google.colaboratory.intrinsic+json": {
              "type": "dataframe",
              "variable_name": "df",
              "summary": "{\n  \"name\": \"df\",\n  \"rows\": 5476,\n  \"fields\": [\n    {\n      \"column\": \"user_name\",\n      \"properties\": {\n        \"dtype\": \"string\",\n        \"num_unique_values\": 4317,\n        \"samples\": [\n          \"Keef B\",\n          \"Word Sanctuary Global\",\n          \"Amruth Thimmappa\"\n        ],\n        \"semantic_type\": \"\",\n        \"description\": \"\"\n      }\n    },\n    {\n      \"column\": \"user_location\",\n      \"properties\": {\n        \"dtype\": \"category\",\n        \"num_unique_values\": 2010,\n        \"samples\": [\n          \"Limerick, Ireland\",\n          \"Port Orchard, WA\",\n          \"Ongole, India\"\n        ],\n        \"semantic_type\": \"\",\n        \"description\": \"\"\n      }\n    },\n    {\n      \"column\": \"user_description\",\n      \"properties\": {\n        \"dtype\": \"string\",\n        \"num_unique_values\": 4065,\n        \"samples\": [\n          \"Official Twitter Account of VK, PRIDE OF YOUNG KARNATAKA, A Times Internet Product | @Timesinternet\",\n          \"Writer, futurist and innovation advisor | Instigator of #edtech50 #edu4_0 #cloudwg #HomeLearningUK | Supporting #EdtechDemo schools and colleges at @LGfL\",\n          \"Official Twitter account of the Buenos Aires Times. News from Argentina and beyond in English. A weekly journal you can find inside @perfildiario every Saturday\"\n        ],\n        \"semantic_type\": \"\",\n        \"description\": \"\"\n      }\n    },\n    {\n      \"column\": \"user_created\",\n      \"properties\": {\n        \"dtype\": \"object\",\n        \"num_unique_values\": 4327,\n        \"samples\": [\n          \"2017-12-20 04:20:26\",\n          \"2013-03-23 16:20:26\",\n          \"2009-04-14 16:36:56\"\n        ],\n        \"semantic_type\": \"\",\n        \"description\": \"\"\n      }\n    },\n    {\n      \"column\": \"user_followers\",\n      \"properties\": {\n        \"dtype\": \"number\",\n        \"std\": 774363,\n        \"min\": 0,\n        \"max\": 13892795,\n        \"num_unique_values\": 2633,\n        \"samples\": [\n          5635,\n          1600,\n          319\n        ],\n        \"semantic_type\": \"\",\n        \"description\": \"\"\n      }\n    },\n    {\n      \"column\": \"user_friends\",\n      \"properties\": {\n        \"dtype\": \"number\",\n        \"std\": 6525,\n        \"min\": 0,\n        \"max\": 256510,\n        \"num_unique_values\": 2076,\n        \"samples\": [\n          3846,\n          1504,\n          826\n        ],\n        \"semantic_type\": \"\",\n        \"description\": \"\"\n      }\n    },\n    {\n      \"column\": \"user_favourites\",\n      \"properties\": {\n        \"dtype\": \"number\",\n        \"std\": 33761,\n        \"min\": 0,\n        \"max\": 549522,\n        \"num_unique_values\": 3042,\n        \"samples\": [\n          6952,\n          13199,\n          1073\n        ],\n        \"semantic_type\": \"\",\n        \"description\": \"\"\n      }\n    },\n    {\n      \"column\": \"user_verified\",\n      \"properties\": {\n        \"dtype\": \"boolean\",\n        \"num_unique_values\": 2,\n        \"samples\": [\n          true,\n          false\n        ],\n        \"semantic_type\": \"\",\n        \"description\": \"\"\n      }\n    },\n    {\n      \"column\": \"date\",\n      \"properties\": {\n        \"dtype\": \"object\",\n        \"num_unique_values\": 4287,\n        \"samples\": [\n          \"2020-07-25 11:35:29\",\n          \"2020-07-25 10:16:02\"\n        ],\n        \"semantic_type\": \"\",\n        \"description\": \"\"\n      }\n    },\n    {\n      \"column\": \"text\",\n      \"properties\": {\n        \"dtype\": \"string\",\n        \"num_unique_values\": 5465,\n        \"samples\": [\n          \"#sainsburys have a new solution to the #COVID19 pandemic... POSTERS! #BoycottSainsburys #COVIDIOTS https://t.co/CySguRgbbm\",\n          \"For me, that means presenting pretty femme, having a (pre-#COVID19!) pixie cut, wearing makeup when I want, not whe\\u00e2\\u0080\\u00a6 https://t.co/PGZdjaMWt1\"\n        ],\n        \"semantic_type\": \"\",\n        \"description\": \"\"\n      }\n    },\n    {\n      \"column\": \"hashtags\",\n      \"properties\": {\n        \"dtype\": \"category\",\n        \"num_unique_values\": 2110,\n        \"samples\": [\n          \"['Coronavirus', 'Madagascar']\",\n          \"['Dying', 'carehome', 'Covid19', 'dementia']\"\n        ],\n        \"semantic_type\": \"\",\n        \"description\": \"\"\n      }\n    },\n    {\n      \"column\": \"source\",\n      \"properties\": {\n        \"dtype\": \"category\",\n        \"num_unique_values\": 155,\n        \"samples\": [\n          \"Global Citizen Mobile App\",\n          \"covid19_tracker\"\n        ],\n        \"semantic_type\": \"\",\n        \"description\": \"\"\n      }\n    },\n    {\n      \"column\": \"is_retweet\",\n      \"properties\": {\n        \"dtype\": \"category\",\n        \"num_unique_values\": 1,\n        \"samples\": [\n          false\n        ],\n        \"semantic_type\": \"\",\n        \"description\": \"\"\n      }\n    }\n  ]\n}"
            }
          },
          "metadata": {},
          "execution_count": 3
        }
      ],
      "source": [
        "df.head()"
      ]
    },
    {
      "cell_type": "code",
      "execution_count": 4,
      "metadata": {
        "id": "3xE9bXR94thb"
      },
      "outputs": [],
      "source": [
        "#remove unimportant columns\n",
        "df.drop([\"user_name\", \"user_description\", \"user_created\", \"user_followers\", \"user_friends\", \"user_favourites\", \"hashtags\", \"is_retweet\", \"hashtags\", \"user_verified\"],axis=1,inplace=True)"
      ]
    },
    {
      "cell_type": "code",
      "execution_count": 5,
      "metadata": {
        "id": "QLwWAM7e6Ukj"
      },
      "outputs": [],
      "source": [
        "df = df.head(40000)"
      ]
    },
    {
      "cell_type": "markdown",
      "source": [
        "# Nouvelle section\n",
        "Data preprocessing"
      ],
      "metadata": {
        "id": "E0VvLTHgJ--n"
      }
    },
    {
      "cell_type": "markdown",
      "source": [
        "1-Cleaning Data"
      ],
      "metadata": {
        "id": "kuDm6SZkKLSN"
      }
    },
    {
      "cell_type": "code",
      "execution_count": 6,
      "metadata": {
        "colab": {
          "base_uri": "https://localhost:8080/"
        },
        "id": "OckZ-hxl7adz",
        "outputId": "ba6b0e9f-9f24-464a-f3fe-70bf525d5892"
      },
      "outputs": [
        {
          "output_type": "stream",
          "name": "stderr",
          "text": [
            "[nltk_data] Downloading package stopwords to /root/nltk_data...\n",
            "[nltk_data]   Unzipping corpora/stopwords.zip.\n",
            "[nltk_data] Downloading package wordnet to /root/nltk_data...\n"
          ]
        }
      ],
      "source": [
        "# Import stopwords\n",
        "import nltk\n",
        "from nltk.corpus import stopwords\n",
        "\n",
        "# Import textblob\n",
        "from textblob import Word, TextBlob\n",
        "\n",
        "nltk.download('stopwords')\n",
        "nltk.download('wordnet')\n",
        "stop_words = stopwords.words('english')\n",
        "custom_stopwords = ['rt', '#coronavirus']\n",
        "\n",
        "import re\n",
        "import string"
      ]
    },
    {
      "cell_type": "code",
      "execution_count": 7,
      "metadata": {
        "colab": {
          "base_uri": "https://localhost:8080/",
          "height": 536
        },
        "id": "kc9QoGZC7pwV",
        "outputId": "3bf391af-0b4a-4504-f982-c7c7494c7111"
      },
      "outputs": [
        {
          "output_type": "execute_result",
          "data": {
            "text/plain": [
              "                            user_location                 date  \\\n",
              "0                              astroworld  2020-07-25 12:27:21   \n",
              "1                            New York, NY  2020-07-25 12:27:17   \n",
              "2                        Pewee Valley, KY  2020-07-25 12:27:14   \n",
              "3                    Stuck in the Middle   2020-07-25 12:27:10   \n",
              "4                       Jammu and Kashmir  2020-07-25 12:27:08   \n",
              "5                  ÐÐ¾Ð²Ð¾ÑÐ¾ÌÑÑÐ¸Ñ  2020-07-25 12:27:06   \n",
              "6                         Gainesville, FL  2020-07-25 12:27:03   \n",
              "7                                     NaN  2020-07-25 12:27:00   \n",
              "8                                     NaN  2020-07-25 12:26:59   \n",
              "9  ðð»location at link belowðð»  2020-07-25 12:26:54   \n",
              "\n",
              "                                                text               source  \\\n",
              "0  If I smelled the scent of hand sanitizers toda...   Twitter for iPhone   \n",
              "1  Hey @Yankees @YankeesPR and @MLB - wouldn't it...  Twitter for Android   \n",
              "2  @diane3443 @wdunlap @realDonaldTrump Trump nev...  Twitter for Android   \n",
              "3  @brookbanktv The one gift #COVID19 has give me...   Twitter for iPhone   \n",
              "4  25 July : Media Bulletin on Novel #CoronaVirus...  Twitter for Android   \n",
              "5  #coronavirus #covid19 deaths continue to rise....      Twitter Web App   \n",
              "6  How #COVID19 Will Change Work in General (and ...               Buffer   \n",
              "7  You now have to wear face coverings when out s...            TweetDeck   \n",
              "8  Praying for good health and recovery of @Chouh...  Twitter for Android   \n",
              "9  POPE AS GOD - Prophet Sadhu Sundar Selvaraj. W...   Twitter for iPhone   \n",
              "\n",
              "                                     processed_tweet  \n",
              "0  smelled scent hand sanitizers today someone pa...  \n",
              "1  hey yankee yankeespr mlb wouldnt made sense pl...  \n",
              "2  wdunlap realdonaldtrump trump never claimed ho...  \n",
              "3  brookbanktv one gift give appreciation simple ...  \n",
              "4  july medium bulletin novel coronavirusupdates ...  \n",
              "5  coronavirus death continue rise almost bad eve...  \n",
              "6  change work general recruiting specifically vi...  \n",
              "7  wear face covering shopping includes visit loc...  \n",
              "8  praying good health recovery chouhanshivraj co...  \n",
              "9  pope god prophet sadhu sundar selvaraj watch h...  "
            ],
            "text/html": [
              "\n",
              "  <div id=\"df-d89d8eee-9828-4149-8ab2-f992db65fd39\" class=\"colab-df-container\">\n",
              "    <div>\n",
              "<style scoped>\n",
              "    .dataframe tbody tr th:only-of-type {\n",
              "        vertical-align: middle;\n",
              "    }\n",
              "\n",
              "    .dataframe tbody tr th {\n",
              "        vertical-align: top;\n",
              "    }\n",
              "\n",
              "    .dataframe thead th {\n",
              "        text-align: right;\n",
              "    }\n",
              "</style>\n",
              "<table border=\"1\" class=\"dataframe\">\n",
              "  <thead>\n",
              "    <tr style=\"text-align: right;\">\n",
              "      <th></th>\n",
              "      <th>user_location</th>\n",
              "      <th>date</th>\n",
              "      <th>text</th>\n",
              "      <th>source</th>\n",
              "      <th>processed_tweet</th>\n",
              "    </tr>\n",
              "  </thead>\n",
              "  <tbody>\n",
              "    <tr>\n",
              "      <th>0</th>\n",
              "      <td>astroworld</td>\n",
              "      <td>2020-07-25 12:27:21</td>\n",
              "      <td>If I smelled the scent of hand sanitizers toda...</td>\n",
              "      <td>Twitter for iPhone</td>\n",
              "      <td>smelled scent hand sanitizers today someone pa...</td>\n",
              "    </tr>\n",
              "    <tr>\n",
              "      <th>1</th>\n",
              "      <td>New York, NY</td>\n",
              "      <td>2020-07-25 12:27:17</td>\n",
              "      <td>Hey @Yankees @YankeesPR and @MLB - wouldn't it...</td>\n",
              "      <td>Twitter for Android</td>\n",
              "      <td>hey yankee yankeespr mlb wouldnt made sense pl...</td>\n",
              "    </tr>\n",
              "    <tr>\n",
              "      <th>2</th>\n",
              "      <td>Pewee Valley, KY</td>\n",
              "      <td>2020-07-25 12:27:14</td>\n",
              "      <td>@diane3443 @wdunlap @realDonaldTrump Trump nev...</td>\n",
              "      <td>Twitter for Android</td>\n",
              "      <td>wdunlap realdonaldtrump trump never claimed ho...</td>\n",
              "    </tr>\n",
              "    <tr>\n",
              "      <th>3</th>\n",
              "      <td>Stuck in the Middle</td>\n",
              "      <td>2020-07-25 12:27:10</td>\n",
              "      <td>@brookbanktv The one gift #COVID19 has give me...</td>\n",
              "      <td>Twitter for iPhone</td>\n",
              "      <td>brookbanktv one gift give appreciation simple ...</td>\n",
              "    </tr>\n",
              "    <tr>\n",
              "      <th>4</th>\n",
              "      <td>Jammu and Kashmir</td>\n",
              "      <td>2020-07-25 12:27:08</td>\n",
              "      <td>25 July : Media Bulletin on Novel #CoronaVirus...</td>\n",
              "      <td>Twitter for Android</td>\n",
              "      <td>july medium bulletin novel coronavirusupdates ...</td>\n",
              "    </tr>\n",
              "    <tr>\n",
              "      <th>5</th>\n",
              "      <td>ÐÐ¾Ð²Ð¾ÑÐ¾ÌÑÑÐ¸Ñ</td>\n",
              "      <td>2020-07-25 12:27:06</td>\n",
              "      <td>#coronavirus #covid19 deaths continue to rise....</td>\n",
              "      <td>Twitter Web App</td>\n",
              "      <td>coronavirus death continue rise almost bad eve...</td>\n",
              "    </tr>\n",
              "    <tr>\n",
              "      <th>6</th>\n",
              "      <td>Gainesville, FL</td>\n",
              "      <td>2020-07-25 12:27:03</td>\n",
              "      <td>How #COVID19 Will Change Work in General (and ...</td>\n",
              "      <td>Buffer</td>\n",
              "      <td>change work general recruiting specifically vi...</td>\n",
              "    </tr>\n",
              "    <tr>\n",
              "      <th>7</th>\n",
              "      <td>NaN</td>\n",
              "      <td>2020-07-25 12:27:00</td>\n",
              "      <td>You now have to wear face coverings when out s...</td>\n",
              "      <td>TweetDeck</td>\n",
              "      <td>wear face covering shopping includes visit loc...</td>\n",
              "    </tr>\n",
              "    <tr>\n",
              "      <th>8</th>\n",
              "      <td>NaN</td>\n",
              "      <td>2020-07-25 12:26:59</td>\n",
              "      <td>Praying for good health and recovery of @Chouh...</td>\n",
              "      <td>Twitter for Android</td>\n",
              "      <td>praying good health recovery chouhanshivraj co...</td>\n",
              "    </tr>\n",
              "    <tr>\n",
              "      <th>9</th>\n",
              "      <td>ðð»location at link belowðð»</td>\n",
              "      <td>2020-07-25 12:26:54</td>\n",
              "      <td>POPE AS GOD - Prophet Sadhu Sundar Selvaraj. W...</td>\n",
              "      <td>Twitter for iPhone</td>\n",
              "      <td>pope god prophet sadhu sundar selvaraj watch h...</td>\n",
              "    </tr>\n",
              "  </tbody>\n",
              "</table>\n",
              "</div>\n",
              "    <div class=\"colab-df-buttons\">\n",
              "\n",
              "  <div class=\"colab-df-container\">\n",
              "    <button class=\"colab-df-convert\" onclick=\"convertToInteractive('df-d89d8eee-9828-4149-8ab2-f992db65fd39')\"\n",
              "            title=\"Convert this dataframe to an interactive table.\"\n",
              "            style=\"display:none;\">\n",
              "\n",
              "  <svg xmlns=\"http://www.w3.org/2000/svg\" height=\"24px\" viewBox=\"0 -960 960 960\">\n",
              "    <path d=\"M120-120v-720h720v720H120Zm60-500h600v-160H180v160Zm220 220h160v-160H400v160Zm0 220h160v-160H400v160ZM180-400h160v-160H180v160Zm440 0h160v-160H620v160ZM180-180h160v-160H180v160Zm440 0h160v-160H620v160Z\"/>\n",
              "  </svg>\n",
              "    </button>\n",
              "\n",
              "  <style>\n",
              "    .colab-df-container {\n",
              "      display:flex;\n",
              "      gap: 12px;\n",
              "    }\n",
              "\n",
              "    .colab-df-convert {\n",
              "      background-color: #E8F0FE;\n",
              "      border: none;\n",
              "      border-radius: 50%;\n",
              "      cursor: pointer;\n",
              "      display: none;\n",
              "      fill: #1967D2;\n",
              "      height: 32px;\n",
              "      padding: 0 0 0 0;\n",
              "      width: 32px;\n",
              "    }\n",
              "\n",
              "    .colab-df-convert:hover {\n",
              "      background-color: #E2EBFA;\n",
              "      box-shadow: 0px 1px 2px rgba(60, 64, 67, 0.3), 0px 1px 3px 1px rgba(60, 64, 67, 0.15);\n",
              "      fill: #174EA6;\n",
              "    }\n",
              "\n",
              "    .colab-df-buttons div {\n",
              "      margin-bottom: 4px;\n",
              "    }\n",
              "\n",
              "    [theme=dark] .colab-df-convert {\n",
              "      background-color: #3B4455;\n",
              "      fill: #D2E3FC;\n",
              "    }\n",
              "\n",
              "    [theme=dark] .colab-df-convert:hover {\n",
              "      background-color: #434B5C;\n",
              "      box-shadow: 0px 1px 3px 1px rgba(0, 0, 0, 0.15);\n",
              "      filter: drop-shadow(0px 1px 2px rgba(0, 0, 0, 0.3));\n",
              "      fill: #FFFFFF;\n",
              "    }\n",
              "  </style>\n",
              "\n",
              "    <script>\n",
              "      const buttonEl =\n",
              "        document.querySelector('#df-d89d8eee-9828-4149-8ab2-f992db65fd39 button.colab-df-convert');\n",
              "      buttonEl.style.display =\n",
              "        google.colab.kernel.accessAllowed ? 'block' : 'none';\n",
              "\n",
              "      async function convertToInteractive(key) {\n",
              "        const element = document.querySelector('#df-d89d8eee-9828-4149-8ab2-f992db65fd39');\n",
              "        const dataTable =\n",
              "          await google.colab.kernel.invokeFunction('convertToInteractive',\n",
              "                                                    [key], {});\n",
              "        if (!dataTable) return;\n",
              "\n",
              "        const docLinkHtml = 'Like what you see? Visit the ' +\n",
              "          '<a target=\"_blank\" href=https://colab.research.google.com/notebooks/data_table.ipynb>data table notebook</a>'\n",
              "          + ' to learn more about interactive tables.';\n",
              "        element.innerHTML = '';\n",
              "        dataTable['output_type'] = 'display_data';\n",
              "        await google.colab.output.renderOutput(dataTable, element);\n",
              "        const docLink = document.createElement('div');\n",
              "        docLink.innerHTML = docLinkHtml;\n",
              "        element.appendChild(docLink);\n",
              "      }\n",
              "    </script>\n",
              "  </div>\n",
              "\n",
              "\n",
              "<div id=\"df-dccbe9a8-5da0-4020-88fa-fa47664f5eee\">\n",
              "  <button class=\"colab-df-quickchart\" onclick=\"quickchart('df-dccbe9a8-5da0-4020-88fa-fa47664f5eee')\"\n",
              "            title=\"Suggest charts\"\n",
              "            style=\"display:none;\">\n",
              "\n",
              "<svg xmlns=\"http://www.w3.org/2000/svg\" height=\"24px\"viewBox=\"0 0 24 24\"\n",
              "     width=\"24px\">\n",
              "    <g>\n",
              "        <path d=\"M19 3H5c-1.1 0-2 .9-2 2v14c0 1.1.9 2 2 2h14c1.1 0 2-.9 2-2V5c0-1.1-.9-2-2-2zM9 17H7v-7h2v7zm4 0h-2V7h2v10zm4 0h-2v-4h2v4z\"/>\n",
              "    </g>\n",
              "</svg>\n",
              "  </button>\n",
              "\n",
              "<style>\n",
              "  .colab-df-quickchart {\n",
              "      --bg-color: #E8F0FE;\n",
              "      --fill-color: #1967D2;\n",
              "      --hover-bg-color: #E2EBFA;\n",
              "      --hover-fill-color: #174EA6;\n",
              "      --disabled-fill-color: #AAA;\n",
              "      --disabled-bg-color: #DDD;\n",
              "  }\n",
              "\n",
              "  [theme=dark] .colab-df-quickchart {\n",
              "      --bg-color: #3B4455;\n",
              "      --fill-color: #D2E3FC;\n",
              "      --hover-bg-color: #434B5C;\n",
              "      --hover-fill-color: #FFFFFF;\n",
              "      --disabled-bg-color: #3B4455;\n",
              "      --disabled-fill-color: #666;\n",
              "  }\n",
              "\n",
              "  .colab-df-quickchart {\n",
              "    background-color: var(--bg-color);\n",
              "    border: none;\n",
              "    border-radius: 50%;\n",
              "    cursor: pointer;\n",
              "    display: none;\n",
              "    fill: var(--fill-color);\n",
              "    height: 32px;\n",
              "    padding: 0;\n",
              "    width: 32px;\n",
              "  }\n",
              "\n",
              "  .colab-df-quickchart:hover {\n",
              "    background-color: var(--hover-bg-color);\n",
              "    box-shadow: 0 1px 2px rgba(60, 64, 67, 0.3), 0 1px 3px 1px rgba(60, 64, 67, 0.15);\n",
              "    fill: var(--button-hover-fill-color);\n",
              "  }\n",
              "\n",
              "  .colab-df-quickchart-complete:disabled,\n",
              "  .colab-df-quickchart-complete:disabled:hover {\n",
              "    background-color: var(--disabled-bg-color);\n",
              "    fill: var(--disabled-fill-color);\n",
              "    box-shadow: none;\n",
              "  }\n",
              "\n",
              "  .colab-df-spinner {\n",
              "    border: 2px solid var(--fill-color);\n",
              "    border-color: transparent;\n",
              "    border-bottom-color: var(--fill-color);\n",
              "    animation:\n",
              "      spin 1s steps(1) infinite;\n",
              "  }\n",
              "\n",
              "  @keyframes spin {\n",
              "    0% {\n",
              "      border-color: transparent;\n",
              "      border-bottom-color: var(--fill-color);\n",
              "      border-left-color: var(--fill-color);\n",
              "    }\n",
              "    20% {\n",
              "      border-color: transparent;\n",
              "      border-left-color: var(--fill-color);\n",
              "      border-top-color: var(--fill-color);\n",
              "    }\n",
              "    30% {\n",
              "      border-color: transparent;\n",
              "      border-left-color: var(--fill-color);\n",
              "      border-top-color: var(--fill-color);\n",
              "      border-right-color: var(--fill-color);\n",
              "    }\n",
              "    40% {\n",
              "      border-color: transparent;\n",
              "      border-right-color: var(--fill-color);\n",
              "      border-top-color: var(--fill-color);\n",
              "    }\n",
              "    60% {\n",
              "      border-color: transparent;\n",
              "      border-right-color: var(--fill-color);\n",
              "    }\n",
              "    80% {\n",
              "      border-color: transparent;\n",
              "      border-right-color: var(--fill-color);\n",
              "      border-bottom-color: var(--fill-color);\n",
              "    }\n",
              "    90% {\n",
              "      border-color: transparent;\n",
              "      border-bottom-color: var(--fill-color);\n",
              "    }\n",
              "  }\n",
              "</style>\n",
              "\n",
              "  <script>\n",
              "    async function quickchart(key) {\n",
              "      const quickchartButtonEl =\n",
              "        document.querySelector('#' + key + ' button');\n",
              "      quickchartButtonEl.disabled = true;  // To prevent multiple clicks.\n",
              "      quickchartButtonEl.classList.add('colab-df-spinner');\n",
              "      try {\n",
              "        const charts = await google.colab.kernel.invokeFunction(\n",
              "            'suggestCharts', [key], {});\n",
              "      } catch (error) {\n",
              "        console.error('Error during call to suggestCharts:', error);\n",
              "      }\n",
              "      quickchartButtonEl.classList.remove('colab-df-spinner');\n",
              "      quickchartButtonEl.classList.add('colab-df-quickchart-complete');\n",
              "    }\n",
              "    (() => {\n",
              "      let quickchartButtonEl =\n",
              "        document.querySelector('#df-dccbe9a8-5da0-4020-88fa-fa47664f5eee button');\n",
              "      quickchartButtonEl.style.display =\n",
              "        google.colab.kernel.accessAllowed ? 'block' : 'none';\n",
              "    })();\n",
              "  </script>\n",
              "</div>\n",
              "    </div>\n",
              "  </div>\n"
            ],
            "application/vnd.google.colaboratory.intrinsic+json": {
              "type": "dataframe",
              "variable_name": "df",
              "summary": "{\n  \"name\": \"df\",\n  \"rows\": 5476,\n  \"fields\": [\n    {\n      \"column\": \"user_location\",\n      \"properties\": {\n        \"dtype\": \"category\",\n        \"num_unique_values\": 2010,\n        \"samples\": [\n          \"Limerick, Ireland\",\n          \"Port Orchard, WA\",\n          \"Ongole, India\"\n        ],\n        \"semantic_type\": \"\",\n        \"description\": \"\"\n      }\n    },\n    {\n      \"column\": \"date\",\n      \"properties\": {\n        \"dtype\": \"object\",\n        \"num_unique_values\": 4287,\n        \"samples\": [\n          \"2020-07-25 11:35:29\",\n          \"2020-07-25 10:16:02\",\n          \"2020-07-25 10:00:26\"\n        ],\n        \"semantic_type\": \"\",\n        \"description\": \"\"\n      }\n    },\n    {\n      \"column\": \"text\",\n      \"properties\": {\n        \"dtype\": \"string\",\n        \"num_unique_values\": 5465,\n        \"samples\": [\n          \"#sainsburys have a new solution to the #COVID19 pandemic... POSTERS! #BoycottSainsburys #COVIDIOTS https://t.co/CySguRgbbm\",\n          \"For me, that means presenting pretty femme, having a (pre-#COVID19!) pixie cut, wearing makeup when I want, not whe\\u00e2\\u0080\\u00a6 https://t.co/PGZdjaMWt1\",\n          \"KIDS AND COVID: An 8-year-old boy is in a Miami-Dade children's hospital after being diagnosed with an illness rela\\u00e2\\u0080\\u00a6 https://t.co/uGbx2avx25\"\n        ],\n        \"semantic_type\": \"\",\n        \"description\": \"\"\n      }\n    },\n    {\n      \"column\": \"source\",\n      \"properties\": {\n        \"dtype\": \"category\",\n        \"num_unique_values\": 155,\n        \"samples\": [\n          \"Global Citizen Mobile App\",\n          \"covid19_tracker\",\n          \"Prof. Shanku\"\n        ],\n        \"semantic_type\": \"\",\n        \"description\": \"\"\n      }\n    },\n    {\n      \"column\": \"processed_tweet\",\n      \"properties\": {\n        \"dtype\": \"string\",\n        \"num_unique_values\": 5145,\n        \"samples\": [\n          \"alert corporate insider pocket billion rush coronavirusvaccine global pandemic news coronavirus\\u00e2\\u0080\\u00a6\",\n          \"bristol follower anyone help james get new bike girlfriend please get touch loan or\\u00e2\\u0080\\u00a6\",\n          \"time ianbremmer vietnam handled outbreak better country mentioned article\"\n        ],\n        \"semantic_type\": \"\",\n        \"description\": \"\"\n      }\n    }\n  ]\n}"
            }
          },
          "metadata": {},
          "execution_count": 7
        }
      ],
      "source": [
        "def tweets(tweet):\n",
        "    tweet = tweet.lower()\n",
        "    tweet.replace('[^s\\n\\n]', '')\n",
        "    tweet = re.sub('https?://\\S+|www\\.\\S+', '', tweet)\n",
        "    tweet = re.sub(r\"[A-Za-z\\.]*[0-9]+[A-Za-z%°\\.]*\", \"\", tweet)\n",
        "    tweet = re.sub('\\[.*?\\]', '', tweet)\n",
        "    tweet = re.sub('<.*?>+', '', tweet)\n",
        "    tweet = re.sub(r\"[,\\!\\?\\%\\(\\)\\/\\\"]\", \"\", tweet)\n",
        "    tweet = re.sub(r\"\\&\\S*\\s\", \"\", tweet)\n",
        "    tweet = re.sub(r\"\\&\", \"\", tweet)\n",
        "    tweet = re.sub(r\"\\+\", \"\", tweet)\n",
        "    tweet = re.sub(r\"\\#\", \"\", tweet)\n",
        "    tweet = re.sub(r\"\\$\", \"\", tweet)\n",
        "    tweet = re.sub(r\"\\£\", \"\", tweet)\n",
        "    tweet = re.sub(r\"\\%\", \"\", tweet)\n",
        "    tweet = re.sub(r\"\\:\", \"\", tweet)\n",
        "    tweet = re.sub(r\"\\@\", \"\", tweet)\n",
        "    tweet = re.sub(r\"\\-\", \"\", tweet)\n",
        "    tweet = re.sub('[%s]' % re.escape(string.punctuation), '', tweet)\n",
        "    tweet = re.sub('\\n', '', tweet)\n",
        "    tweet = re.sub('\\w*\\d\\w*', '', tweet)\n",
        "    tweet = \" \".join(word for word in tweet.split() if word not in stop_words)\n",
        "    tweet = \" \".join(Word(word).lemmatize() for word in tweet.split())\n",
        "    return(tweet)\n",
        "df['processed_tweet'] = df['text'].astype(str).apply(lambda row: tweets(row))\n",
        "#df['processed tweet'] = df['Tweet'].apply(lambda x: tweets(x, custom_stopwords))\n",
        "df.head(10)"
      ]
    },
    {
      "cell_type": "code",
      "execution_count": 8,
      "metadata": {
        "id": "5quEcKCD-7vV"
      },
      "outputs": [],
      "source": [
        "def remove_emoji(tweet):\n",
        "\n",
        "  EMOJI_PATTERN = re.compile(\n",
        "    \"([\"\n",
        "    \"\\U0001F1E0-\\U0001F1FF\"  # flags (iOS)\n",
        "    \"\\U0001F300-\\U0001F5FF\"  # symbols & pictographs\n",
        "    \"\\U0001F600-\\U0001F64F\"  # emoticons\n",
        "    \"\\U0001F680-\\U0001F6FF\"  # transport & map symbols\n",
        "    \"\\U0001F700-\\U0001F77F\"  # alchemical symbols\n",
        "    \"\\U0001F780-\\U0001F7FF\"  # Geometric Shapes Extended\n",
        "    \"\\U0001F800-\\U0001F8FF\"  # Supplemental Arrows-C\n",
        "    \"\\U0001F900-\\U0001F9FF\"  # Supplemental Symbols and Pictographs\n",
        "    \"\\U0001FA00-\\U0001FA6F\"  # Chess Symbols\n",
        "    \"\\U0001FA70-\\U0001FAFF\"  # Symbols and Pictographs Extended-A\n",
        "    \"\\U00002702-\\U000027B0\"  # Dingbats\n",
        "    \"])\"\n",
        "  )\n",
        "  tweet = re.sub(EMOJI_PATTERN, r' \\1 ', tweet)\n",
        "  return tweet"
      ]
    },
    {
      "cell_type": "markdown",
      "source": [
        "2-Calculate polarity"
      ],
      "metadata": {
        "id": "GEdZTFGuKidA"
      }
    },
    {
      "cell_type": "code",
      "execution_count": 9,
      "metadata": {
        "id": "C48SIU9w_A7s"
      },
      "outputs": [],
      "source": [
        "# Calculate polarity\n",
        "def get_sentiment(Tweet):\n",
        "    blob = TextBlob(Tweet)\n",
        "    sentiment_polarity = blob.sentiment.polarity\n",
        "    sentiment_subjectivity = blob.sentiment.subjectivity\n",
        "    if sentiment_polarity > 0:\n",
        "        sentiment_label = 'Positive'\n",
        "    elif sentiment_polarity < 0:\n",
        "        sentiment_label = 'Negative'\n",
        "    else:\n",
        "        sentiment_label = 'Neutral'\n",
        "    result = {'polarity':sentiment_polarity,\n",
        "              'subjectivity':sentiment_subjectivity,\n",
        "              'sentiment':sentiment_label}\n",
        "    return result\n",
        "#df['polarity'] = df['processed tweet'].apply(lambda x: TextBlob(x).sentiment[0])\n",
        "#df['subjectivity'] = df['processed tweet'].apply(lambda x: TextBlob(x).sentiment[1])\n",
        "#df.head()"
      ]
    },
    {
      "cell_type": "code",
      "execution_count": 10,
      "metadata": {
        "id": "ki2eL2Xy_Ed_"
      },
      "outputs": [],
      "source": [
        "ex1 = df['processed_tweet'].iloc[0]"
      ]
    },
    {
      "cell_type": "code",
      "execution_count": 11,
      "metadata": {
        "colab": {
          "base_uri": "https://localhost:8080/"
        },
        "id": "DbmYDcPz_HrG",
        "outputId": "c81ff363-fbee-4a04-e11e-64a22ca8f627"
      },
      "outputs": [
        {
          "output_type": "execute_result",
          "data": {
            "text/plain": [
              "{'polarity': -0.25, 'subjectivity': 0.25, 'sentiment': 'Negative'}"
            ]
          },
          "metadata": {},
          "execution_count": 11
        }
      ],
      "source": [
        "get_sentiment(ex1)"
      ]
    },
    {
      "cell_type": "code",
      "execution_count": 12,
      "metadata": {
        "colab": {
          "base_uri": "https://localhost:8080/"
        },
        "id": "wiHTR3MC_JV8",
        "outputId": "e8300e13-8c27-4280-8554-75f8acf56293"
      },
      "outputs": [
        {
          "output_type": "execute_result",
          "data": {
            "text/plain": [
              "0       {'polarity': -0.25, 'subjectivity': 0.25, 'sen...\n",
              "1       {'polarity': 0.0, 'subjectivity': 0.0, 'sentim...\n",
              "2       {'polarity': 0.0, 'subjectivity': 0.0, 'sentim...\n",
              "3       {'polarity': 0.0, 'subjectivity': 0.3571428571...\n",
              "4       {'polarity': 0.0, 'subjectivity': 0.0, 'sentim...\n",
              "                              ...                        \n",
              "5471    {'polarity': 0.0, 'subjectivity': 0.0, 'sentim...\n",
              "5472    {'polarity': 0.0, 'subjectivity': 0.0, 'sentim...\n",
              "5473    {'polarity': 0.0, 'subjectivity': 0.0, 'sentim...\n",
              "5474    {'polarity': 0.0, 'subjectivity': 0.0, 'sentim...\n",
              "5475    {'polarity': 0.0, 'subjectivity': 0.0, 'sentim...\n",
              "Name: sentiment_results, Length: 5476, dtype: object"
            ]
          },
          "metadata": {},
          "execution_count": 12
        }
      ],
      "source": [
        "df['sentiment_results'] = df['processed_tweet'].apply(get_sentiment)\n",
        "df['sentiment_results']"
      ]
    },
    {
      "cell_type": "code",
      "execution_count": 13,
      "metadata": {
        "colab": {
          "base_uri": "https://localhost:8080/"
        },
        "id": "1zSR9ykb_ML-",
        "outputId": "edd1c963-e504-4eb2-a8ed-4768487d7c1e"
      },
      "outputs": [
        {
          "output_type": "execute_result",
          "data": {
            "text/plain": [
              "{'polarity': 0.0, 'subjectivity': 0.0, 'sentiment': 'Neutral'}"
            ]
          },
          "metadata": {},
          "execution_count": 13
        }
      ],
      "source": [
        "df['sentiment_results'].iloc[1]"
      ]
    },
    {
      "cell_type": "code",
      "execution_count": 14,
      "metadata": {
        "colab": {
          "base_uri": "https://localhost:8080/",
          "height": 81
        },
        "id": "PulFOCG1_QLE",
        "outputId": "8fad4387-4882-446f-f302-f30a109b2493"
      },
      "outputs": [
        {
          "output_type": "execute_result",
          "data": {
            "text/plain": [
              "   polarity  subjectivity sentiment\n",
              "0       0.0           0.0   Neutral"
            ],
            "text/html": [
              "\n",
              "  <div id=\"df-44ff58b3-c015-4419-920f-3634f19e8c52\" class=\"colab-df-container\">\n",
              "    <div>\n",
              "<style scoped>\n",
              "    .dataframe tbody tr th:only-of-type {\n",
              "        vertical-align: middle;\n",
              "    }\n",
              "\n",
              "    .dataframe tbody tr th {\n",
              "        vertical-align: top;\n",
              "    }\n",
              "\n",
              "    .dataframe thead th {\n",
              "        text-align: right;\n",
              "    }\n",
              "</style>\n",
              "<table border=\"1\" class=\"dataframe\">\n",
              "  <thead>\n",
              "    <tr style=\"text-align: right;\">\n",
              "      <th></th>\n",
              "      <th>polarity</th>\n",
              "      <th>subjectivity</th>\n",
              "      <th>sentiment</th>\n",
              "    </tr>\n",
              "  </thead>\n",
              "  <tbody>\n",
              "    <tr>\n",
              "      <th>0</th>\n",
              "      <td>0.0</td>\n",
              "      <td>0.0</td>\n",
              "      <td>Neutral</td>\n",
              "    </tr>\n",
              "  </tbody>\n",
              "</table>\n",
              "</div>\n",
              "    <div class=\"colab-df-buttons\">\n",
              "\n",
              "  <div class=\"colab-df-container\">\n",
              "    <button class=\"colab-df-convert\" onclick=\"convertToInteractive('df-44ff58b3-c015-4419-920f-3634f19e8c52')\"\n",
              "            title=\"Convert this dataframe to an interactive table.\"\n",
              "            style=\"display:none;\">\n",
              "\n",
              "  <svg xmlns=\"http://www.w3.org/2000/svg\" height=\"24px\" viewBox=\"0 -960 960 960\">\n",
              "    <path d=\"M120-120v-720h720v720H120Zm60-500h600v-160H180v160Zm220 220h160v-160H400v160Zm0 220h160v-160H400v160ZM180-400h160v-160H180v160Zm440 0h160v-160H620v160ZM180-180h160v-160H180v160Zm440 0h160v-160H620v160Z\"/>\n",
              "  </svg>\n",
              "    </button>\n",
              "\n",
              "  <style>\n",
              "    .colab-df-container {\n",
              "      display:flex;\n",
              "      gap: 12px;\n",
              "    }\n",
              "\n",
              "    .colab-df-convert {\n",
              "      background-color: #E8F0FE;\n",
              "      border: none;\n",
              "      border-radius: 50%;\n",
              "      cursor: pointer;\n",
              "      display: none;\n",
              "      fill: #1967D2;\n",
              "      height: 32px;\n",
              "      padding: 0 0 0 0;\n",
              "      width: 32px;\n",
              "    }\n",
              "\n",
              "    .colab-df-convert:hover {\n",
              "      background-color: #E2EBFA;\n",
              "      box-shadow: 0px 1px 2px rgba(60, 64, 67, 0.3), 0px 1px 3px 1px rgba(60, 64, 67, 0.15);\n",
              "      fill: #174EA6;\n",
              "    }\n",
              "\n",
              "    .colab-df-buttons div {\n",
              "      margin-bottom: 4px;\n",
              "    }\n",
              "\n",
              "    [theme=dark] .colab-df-convert {\n",
              "      background-color: #3B4455;\n",
              "      fill: #D2E3FC;\n",
              "    }\n",
              "\n",
              "    [theme=dark] .colab-df-convert:hover {\n",
              "      background-color: #434B5C;\n",
              "      box-shadow: 0px 1px 3px 1px rgba(0, 0, 0, 0.15);\n",
              "      filter: drop-shadow(0px 1px 2px rgba(0, 0, 0, 0.3));\n",
              "      fill: #FFFFFF;\n",
              "    }\n",
              "  </style>\n",
              "\n",
              "    <script>\n",
              "      const buttonEl =\n",
              "        document.querySelector('#df-44ff58b3-c015-4419-920f-3634f19e8c52 button.colab-df-convert');\n",
              "      buttonEl.style.display =\n",
              "        google.colab.kernel.accessAllowed ? 'block' : 'none';\n",
              "\n",
              "      async function convertToInteractive(key) {\n",
              "        const element = document.querySelector('#df-44ff58b3-c015-4419-920f-3634f19e8c52');\n",
              "        const dataTable =\n",
              "          await google.colab.kernel.invokeFunction('convertToInteractive',\n",
              "                                                    [key], {});\n",
              "        if (!dataTable) return;\n",
              "\n",
              "        const docLinkHtml = 'Like what you see? Visit the ' +\n",
              "          '<a target=\"_blank\" href=https://colab.research.google.com/notebooks/data_table.ipynb>data table notebook</a>'\n",
              "          + ' to learn more about interactive tables.';\n",
              "        element.innerHTML = '';\n",
              "        dataTable['output_type'] = 'display_data';\n",
              "        await google.colab.output.renderOutput(dataTable, element);\n",
              "        const docLink = document.createElement('div');\n",
              "        docLink.innerHTML = docLinkHtml;\n",
              "        element.appendChild(docLink);\n",
              "      }\n",
              "    </script>\n",
              "  </div>\n",
              "\n",
              "    </div>\n",
              "  </div>\n"
            ],
            "application/vnd.google.colaboratory.intrinsic+json": {
              "type": "dataframe",
              "summary": "{\n  \"name\": \"pd\",\n  \"rows\": 1,\n  \"fields\": [\n    {\n      \"column\": \"polarity\",\n      \"properties\": {\n        \"dtype\": \"number\",\n        \"std\": null,\n        \"min\": 0.0,\n        \"max\": 0.0,\n        \"num_unique_values\": 1,\n        \"samples\": [\n          0.0\n        ],\n        \"semantic_type\": \"\",\n        \"description\": \"\"\n      }\n    },\n    {\n      \"column\": \"subjectivity\",\n      \"properties\": {\n        \"dtype\": \"number\",\n        \"std\": null,\n        \"min\": 0.0,\n        \"max\": 0.0,\n        \"num_unique_values\": 1,\n        \"samples\": [\n          0.0\n        ],\n        \"semantic_type\": \"\",\n        \"description\": \"\"\n      }\n    },\n    {\n      \"column\": \"sentiment\",\n      \"properties\": {\n        \"dtype\": \"string\",\n        \"num_unique_values\": 1,\n        \"samples\": [\n          \"Neutral\"\n        ],\n        \"semantic_type\": \"\",\n        \"description\": \"\"\n      }\n    }\n  ]\n}"
            }
          },
          "metadata": {},
          "execution_count": 14
        }
      ],
      "source": [
        "pd.json_normalize(df['sentiment_results'].iloc[1])"
      ]
    },
    {
      "cell_type": "code",
      "execution_count": 15,
      "metadata": {
        "id": "OlVwczEv_Q9V"
      },
      "outputs": [],
      "source": [
        "df = df.join(pd.json_normalize(df['sentiment_results']))"
      ]
    },
    {
      "cell_type": "code",
      "execution_count": 16,
      "metadata": {
        "colab": {
          "base_uri": "https://localhost:8080/",
          "height": 115
        },
        "id": "BPOoV8HQ_TAW",
        "outputId": "65c6c6f7-1f6d-469a-fc91-e5a3c0c5959f"
      },
      "outputs": [
        {
          "output_type": "execute_result",
          "data": {
            "text/plain": [
              "  user_location                 date  \\\n",
              "0    astroworld  2020-07-25 12:27:21   \n",
              "\n",
              "                                                text              source  \\\n",
              "0  If I smelled the scent of hand sanitizers toda...  Twitter for iPhone   \n",
              "\n",
              "                                     processed_tweet  \\\n",
              "0  smelled scent hand sanitizers today someone pa...   \n",
              "\n",
              "                                   sentiment_results  polarity  subjectivity  \\\n",
              "0  {'polarity': -0.25, 'subjectivity': 0.25, 'sen...     -0.25          0.25   \n",
              "\n",
              "  sentiment  \n",
              "0  Negative  "
            ],
            "text/html": [
              "\n",
              "  <div id=\"df-5ad2ed92-baf6-4f45-8f28-dc3762123d90\" class=\"colab-df-container\">\n",
              "    <div>\n",
              "<style scoped>\n",
              "    .dataframe tbody tr th:only-of-type {\n",
              "        vertical-align: middle;\n",
              "    }\n",
              "\n",
              "    .dataframe tbody tr th {\n",
              "        vertical-align: top;\n",
              "    }\n",
              "\n",
              "    .dataframe thead th {\n",
              "        text-align: right;\n",
              "    }\n",
              "</style>\n",
              "<table border=\"1\" class=\"dataframe\">\n",
              "  <thead>\n",
              "    <tr style=\"text-align: right;\">\n",
              "      <th></th>\n",
              "      <th>user_location</th>\n",
              "      <th>date</th>\n",
              "      <th>text</th>\n",
              "      <th>source</th>\n",
              "      <th>processed_tweet</th>\n",
              "      <th>sentiment_results</th>\n",
              "      <th>polarity</th>\n",
              "      <th>subjectivity</th>\n",
              "      <th>sentiment</th>\n",
              "    </tr>\n",
              "  </thead>\n",
              "  <tbody>\n",
              "    <tr>\n",
              "      <th>0</th>\n",
              "      <td>astroworld</td>\n",
              "      <td>2020-07-25 12:27:21</td>\n",
              "      <td>If I smelled the scent of hand sanitizers toda...</td>\n",
              "      <td>Twitter for iPhone</td>\n",
              "      <td>smelled scent hand sanitizers today someone pa...</td>\n",
              "      <td>{'polarity': -0.25, 'subjectivity': 0.25, 'sen...</td>\n",
              "      <td>-0.25</td>\n",
              "      <td>0.25</td>\n",
              "      <td>Negative</td>\n",
              "    </tr>\n",
              "  </tbody>\n",
              "</table>\n",
              "</div>\n",
              "    <div class=\"colab-df-buttons\">\n",
              "\n",
              "  <div class=\"colab-df-container\">\n",
              "    <button class=\"colab-df-convert\" onclick=\"convertToInteractive('df-5ad2ed92-baf6-4f45-8f28-dc3762123d90')\"\n",
              "            title=\"Convert this dataframe to an interactive table.\"\n",
              "            style=\"display:none;\">\n",
              "\n",
              "  <svg xmlns=\"http://www.w3.org/2000/svg\" height=\"24px\" viewBox=\"0 -960 960 960\">\n",
              "    <path d=\"M120-120v-720h720v720H120Zm60-500h600v-160H180v160Zm220 220h160v-160H400v160Zm0 220h160v-160H400v160ZM180-400h160v-160H180v160Zm440 0h160v-160H620v160ZM180-180h160v-160H180v160Zm440 0h160v-160H620v160Z\"/>\n",
              "  </svg>\n",
              "    </button>\n",
              "\n",
              "  <style>\n",
              "    .colab-df-container {\n",
              "      display:flex;\n",
              "      gap: 12px;\n",
              "    }\n",
              "\n",
              "    .colab-df-convert {\n",
              "      background-color: #E8F0FE;\n",
              "      border: none;\n",
              "      border-radius: 50%;\n",
              "      cursor: pointer;\n",
              "      display: none;\n",
              "      fill: #1967D2;\n",
              "      height: 32px;\n",
              "      padding: 0 0 0 0;\n",
              "      width: 32px;\n",
              "    }\n",
              "\n",
              "    .colab-df-convert:hover {\n",
              "      background-color: #E2EBFA;\n",
              "      box-shadow: 0px 1px 2px rgba(60, 64, 67, 0.3), 0px 1px 3px 1px rgba(60, 64, 67, 0.15);\n",
              "      fill: #174EA6;\n",
              "    }\n",
              "\n",
              "    .colab-df-buttons div {\n",
              "      margin-bottom: 4px;\n",
              "    }\n",
              "\n",
              "    [theme=dark] .colab-df-convert {\n",
              "      background-color: #3B4455;\n",
              "      fill: #D2E3FC;\n",
              "    }\n",
              "\n",
              "    [theme=dark] .colab-df-convert:hover {\n",
              "      background-color: #434B5C;\n",
              "      box-shadow: 0px 1px 3px 1px rgba(0, 0, 0, 0.15);\n",
              "      filter: drop-shadow(0px 1px 2px rgba(0, 0, 0, 0.3));\n",
              "      fill: #FFFFFF;\n",
              "    }\n",
              "  </style>\n",
              "\n",
              "    <script>\n",
              "      const buttonEl =\n",
              "        document.querySelector('#df-5ad2ed92-baf6-4f45-8f28-dc3762123d90 button.colab-df-convert');\n",
              "      buttonEl.style.display =\n",
              "        google.colab.kernel.accessAllowed ? 'block' : 'none';\n",
              "\n",
              "      async function convertToInteractive(key) {\n",
              "        const element = document.querySelector('#df-5ad2ed92-baf6-4f45-8f28-dc3762123d90');\n",
              "        const dataTable =\n",
              "          await google.colab.kernel.invokeFunction('convertToInteractive',\n",
              "                                                    [key], {});\n",
              "        if (!dataTable) return;\n",
              "\n",
              "        const docLinkHtml = 'Like what you see? Visit the ' +\n",
              "          '<a target=\"_blank\" href=https://colab.research.google.com/notebooks/data_table.ipynb>data table notebook</a>'\n",
              "          + ' to learn more about interactive tables.';\n",
              "        element.innerHTML = '';\n",
              "        dataTable['output_type'] = 'display_data';\n",
              "        await google.colab.output.renderOutput(dataTable, element);\n",
              "        const docLink = document.createElement('div');\n",
              "        docLink.innerHTML = docLinkHtml;\n",
              "        element.appendChild(docLink);\n",
              "      }\n",
              "    </script>\n",
              "  </div>\n",
              "\n",
              "    </div>\n",
              "  </div>\n"
            ],
            "application/vnd.google.colaboratory.intrinsic+json": {
              "type": "dataframe",
              "variable_name": "df",
              "summary": "{\n  \"name\": \"df\",\n  \"rows\": 5476,\n  \"fields\": [\n    {\n      \"column\": \"user_location\",\n      \"properties\": {\n        \"dtype\": \"category\",\n        \"num_unique_values\": 2010,\n        \"samples\": [\n          \"Limerick, Ireland\",\n          \"Port Orchard, WA\",\n          \"Ongole, India\"\n        ],\n        \"semantic_type\": \"\",\n        \"description\": \"\"\n      }\n    },\n    {\n      \"column\": \"date\",\n      \"properties\": {\n        \"dtype\": \"object\",\n        \"num_unique_values\": 4287,\n        \"samples\": [\n          \"2020-07-25 11:35:29\",\n          \"2020-07-25 10:16:02\",\n          \"2020-07-25 10:00:26\"\n        ],\n        \"semantic_type\": \"\",\n        \"description\": \"\"\n      }\n    },\n    {\n      \"column\": \"text\",\n      \"properties\": {\n        \"dtype\": \"string\",\n        \"num_unique_values\": 5465,\n        \"samples\": [\n          \"#sainsburys have a new solution to the #COVID19 pandemic... POSTERS! #BoycottSainsburys #COVIDIOTS https://t.co/CySguRgbbm\",\n          \"For me, that means presenting pretty femme, having a (pre-#COVID19!) pixie cut, wearing makeup when I want, not whe\\u00e2\\u0080\\u00a6 https://t.co/PGZdjaMWt1\",\n          \"KIDS AND COVID: An 8-year-old boy is in a Miami-Dade children's hospital after being diagnosed with an illness rela\\u00e2\\u0080\\u00a6 https://t.co/uGbx2avx25\"\n        ],\n        \"semantic_type\": \"\",\n        \"description\": \"\"\n      }\n    },\n    {\n      \"column\": \"source\",\n      \"properties\": {\n        \"dtype\": \"category\",\n        \"num_unique_values\": 155,\n        \"samples\": [\n          \"Global Citizen Mobile App\",\n          \"covid19_tracker\",\n          \"Prof. Shanku\"\n        ],\n        \"semantic_type\": \"\",\n        \"description\": \"\"\n      }\n    },\n    {\n      \"column\": \"processed_tweet\",\n      \"properties\": {\n        \"dtype\": \"string\",\n        \"num_unique_values\": 5145,\n        \"samples\": [\n          \"alert corporate insider pocket billion rush coronavirusvaccine global pandemic news coronavirus\\u00e2\\u0080\\u00a6\",\n          \"bristol follower anyone help james get new bike girlfriend please get touch loan or\\u00e2\\u0080\\u00a6\",\n          \"time ianbremmer vietnam handled outbreak better country mentioned article\"\n        ],\n        \"semantic_type\": \"\",\n        \"description\": \"\"\n      }\n    },\n    {\n      \"column\": \"sentiment_results\",\n      \"properties\": {\n        \"dtype\": \"object\",\n        \"semantic_type\": \"\",\n        \"description\": \"\"\n      }\n    },\n    {\n      \"column\": \"polarity\",\n      \"properties\": {\n        \"dtype\": \"number\",\n        \"std\": 0.245302242267209,\n        \"min\": -1.0,\n        \"max\": 1.0,\n        \"num_unique_values\": 505,\n        \"samples\": [\n          0.21363636363636362,\n          0.13333333333333336,\n          0.16363636363636364\n        ],\n        \"semantic_type\": \"\",\n        \"description\": \"\"\n      }\n    },\n    {\n      \"column\": \"subjectivity\",\n      \"properties\": {\n        \"dtype\": \"number\",\n        \"std\": 0.31071690855295675,\n        \"min\": 0.0,\n        \"max\": 1.0,\n        \"num_unique_values\": 474,\n        \"samples\": [\n          0.30303030303030304,\n          0.5354166666666667,\n          0.4666666666666666\n        ],\n        \"semantic_type\": \"\",\n        \"description\": \"\"\n      }\n    },\n    {\n      \"column\": \"sentiment\",\n      \"properties\": {\n        \"dtype\": \"category\",\n        \"num_unique_values\": 3,\n        \"samples\": [\n          \"Negative\",\n          \"Neutral\",\n          \"Positive\"\n        ],\n        \"semantic_type\": \"\",\n        \"description\": \"\"\n      }\n    }\n  ]\n}"
            }
          },
          "metadata": {},
          "execution_count": 16
        }
      ],
      "source": [
        "df.head(1)"
      ]
    },
    {
      "cell_type": "code",
      "execution_count": 17,
      "metadata": {
        "colab": {
          "base_uri": "https://localhost:8080/",
          "height": 423
        },
        "id": "h7IBLjRx_U7a",
        "outputId": "05375f3d-2af6-4695-9d54-1152f848f352"
      },
      "outputs": [
        {
          "output_type": "execute_result",
          "data": {
            "text/plain": [
              "     sentiment  polarity                                    processed_tweet  \\\n",
              "0     Negative     -0.25  smelled scent hand sanitizers today someone pa...   \n",
              "1      Neutral      0.00  hey yankee yankeespr mlb wouldnt made sense pl...   \n",
              "2      Neutral      0.00  wdunlap realdonaldtrump trump never claimed ho...   \n",
              "3      Neutral      0.00  brookbanktv one gift give appreciation simple ...   \n",
              "4      Neutral      0.00  july medium bulletin novel coronavirusupdates ...   \n",
              "...        ...       ...                                                ...   \n",
              "5471   Neutral      0.00  blog kathy scott director operation considers ...   \n",
              "5472   Neutral      0.00  ascionline working overtime flag misleading ad...   \n",
              "5473   Neutral      0.00  news u million opecfund loan elsalvador suppor...   \n",
              "5474   Neutral      0.00  professor ged byrne director global engagement...   \n",
              "5475   Neutral      0.00                                                      \n",
              "\n",
              "                     date  \n",
              "0     2020-07-25 12:27:21  \n",
              "1     2020-07-25 12:27:17  \n",
              "2     2020-07-25 12:27:14  \n",
              "3     2020-07-25 12:27:10  \n",
              "4     2020-07-25 12:27:08  \n",
              "...                   ...  \n",
              "5471  2020-07-25 09:00:00  \n",
              "5472  2020-07-25 09:00:00  \n",
              "5473  2020-07-25 09:00:00  \n",
              "5474  2020-07-25 09:00:00  \n",
              "5475  2020-07-25 09:00:00  \n",
              "\n",
              "[5476 rows x 4 columns]"
            ],
            "text/html": [
              "\n",
              "  <div id=\"df-05e59c2d-7b4d-4b1c-89b7-ab1ce5d21f61\" class=\"colab-df-container\">\n",
              "    <div>\n",
              "<style scoped>\n",
              "    .dataframe tbody tr th:only-of-type {\n",
              "        vertical-align: middle;\n",
              "    }\n",
              "\n",
              "    .dataframe tbody tr th {\n",
              "        vertical-align: top;\n",
              "    }\n",
              "\n",
              "    .dataframe thead th {\n",
              "        text-align: right;\n",
              "    }\n",
              "</style>\n",
              "<table border=\"1\" class=\"dataframe\">\n",
              "  <thead>\n",
              "    <tr style=\"text-align: right;\">\n",
              "      <th></th>\n",
              "      <th>sentiment</th>\n",
              "      <th>polarity</th>\n",
              "      <th>processed_tweet</th>\n",
              "      <th>date</th>\n",
              "    </tr>\n",
              "  </thead>\n",
              "  <tbody>\n",
              "    <tr>\n",
              "      <th>0</th>\n",
              "      <td>Negative</td>\n",
              "      <td>-0.25</td>\n",
              "      <td>smelled scent hand sanitizers today someone pa...</td>\n",
              "      <td>2020-07-25 12:27:21</td>\n",
              "    </tr>\n",
              "    <tr>\n",
              "      <th>1</th>\n",
              "      <td>Neutral</td>\n",
              "      <td>0.00</td>\n",
              "      <td>hey yankee yankeespr mlb wouldnt made sense pl...</td>\n",
              "      <td>2020-07-25 12:27:17</td>\n",
              "    </tr>\n",
              "    <tr>\n",
              "      <th>2</th>\n",
              "      <td>Neutral</td>\n",
              "      <td>0.00</td>\n",
              "      <td>wdunlap realdonaldtrump trump never claimed ho...</td>\n",
              "      <td>2020-07-25 12:27:14</td>\n",
              "    </tr>\n",
              "    <tr>\n",
              "      <th>3</th>\n",
              "      <td>Neutral</td>\n",
              "      <td>0.00</td>\n",
              "      <td>brookbanktv one gift give appreciation simple ...</td>\n",
              "      <td>2020-07-25 12:27:10</td>\n",
              "    </tr>\n",
              "    <tr>\n",
              "      <th>4</th>\n",
              "      <td>Neutral</td>\n",
              "      <td>0.00</td>\n",
              "      <td>july medium bulletin novel coronavirusupdates ...</td>\n",
              "      <td>2020-07-25 12:27:08</td>\n",
              "    </tr>\n",
              "    <tr>\n",
              "      <th>...</th>\n",
              "      <td>...</td>\n",
              "      <td>...</td>\n",
              "      <td>...</td>\n",
              "      <td>...</td>\n",
              "    </tr>\n",
              "    <tr>\n",
              "      <th>5471</th>\n",
              "      <td>Neutral</td>\n",
              "      <td>0.00</td>\n",
              "      <td>blog kathy scott director operation considers ...</td>\n",
              "      <td>2020-07-25 09:00:00</td>\n",
              "    </tr>\n",
              "    <tr>\n",
              "      <th>5472</th>\n",
              "      <td>Neutral</td>\n",
              "      <td>0.00</td>\n",
              "      <td>ascionline working overtime flag misleading ad...</td>\n",
              "      <td>2020-07-25 09:00:00</td>\n",
              "    </tr>\n",
              "    <tr>\n",
              "      <th>5473</th>\n",
              "      <td>Neutral</td>\n",
              "      <td>0.00</td>\n",
              "      <td>news u million opecfund loan elsalvador suppor...</td>\n",
              "      <td>2020-07-25 09:00:00</td>\n",
              "    </tr>\n",
              "    <tr>\n",
              "      <th>5474</th>\n",
              "      <td>Neutral</td>\n",
              "      <td>0.00</td>\n",
              "      <td>professor ged byrne director global engagement...</td>\n",
              "      <td>2020-07-25 09:00:00</td>\n",
              "    </tr>\n",
              "    <tr>\n",
              "      <th>5475</th>\n",
              "      <td>Neutral</td>\n",
              "      <td>0.00</td>\n",
              "      <td></td>\n",
              "      <td>2020-07-25 09:00:00</td>\n",
              "    </tr>\n",
              "  </tbody>\n",
              "</table>\n",
              "<p>5476 rows × 4 columns</p>\n",
              "</div>\n",
              "    <div class=\"colab-df-buttons\">\n",
              "\n",
              "  <div class=\"colab-df-container\">\n",
              "    <button class=\"colab-df-convert\" onclick=\"convertToInteractive('df-05e59c2d-7b4d-4b1c-89b7-ab1ce5d21f61')\"\n",
              "            title=\"Convert this dataframe to an interactive table.\"\n",
              "            style=\"display:none;\">\n",
              "\n",
              "  <svg xmlns=\"http://www.w3.org/2000/svg\" height=\"24px\" viewBox=\"0 -960 960 960\">\n",
              "    <path d=\"M120-120v-720h720v720H120Zm60-500h600v-160H180v160Zm220 220h160v-160H400v160Zm0 220h160v-160H400v160ZM180-400h160v-160H180v160Zm440 0h160v-160H620v160ZM180-180h160v-160H180v160Zm440 0h160v-160H620v160Z\"/>\n",
              "  </svg>\n",
              "    </button>\n",
              "\n",
              "  <style>\n",
              "    .colab-df-container {\n",
              "      display:flex;\n",
              "      gap: 12px;\n",
              "    }\n",
              "\n",
              "    .colab-df-convert {\n",
              "      background-color: #E8F0FE;\n",
              "      border: none;\n",
              "      border-radius: 50%;\n",
              "      cursor: pointer;\n",
              "      display: none;\n",
              "      fill: #1967D2;\n",
              "      height: 32px;\n",
              "      padding: 0 0 0 0;\n",
              "      width: 32px;\n",
              "    }\n",
              "\n",
              "    .colab-df-convert:hover {\n",
              "      background-color: #E2EBFA;\n",
              "      box-shadow: 0px 1px 2px rgba(60, 64, 67, 0.3), 0px 1px 3px 1px rgba(60, 64, 67, 0.15);\n",
              "      fill: #174EA6;\n",
              "    }\n",
              "\n",
              "    .colab-df-buttons div {\n",
              "      margin-bottom: 4px;\n",
              "    }\n",
              "\n",
              "    [theme=dark] .colab-df-convert {\n",
              "      background-color: #3B4455;\n",
              "      fill: #D2E3FC;\n",
              "    }\n",
              "\n",
              "    [theme=dark] .colab-df-convert:hover {\n",
              "      background-color: #434B5C;\n",
              "      box-shadow: 0px 1px 3px 1px rgba(0, 0, 0, 0.15);\n",
              "      filter: drop-shadow(0px 1px 2px rgba(0, 0, 0, 0.3));\n",
              "      fill: #FFFFFF;\n",
              "    }\n",
              "  </style>\n",
              "\n",
              "    <script>\n",
              "      const buttonEl =\n",
              "        document.querySelector('#df-05e59c2d-7b4d-4b1c-89b7-ab1ce5d21f61 button.colab-df-convert');\n",
              "      buttonEl.style.display =\n",
              "        google.colab.kernel.accessAllowed ? 'block' : 'none';\n",
              "\n",
              "      async function convertToInteractive(key) {\n",
              "        const element = document.querySelector('#df-05e59c2d-7b4d-4b1c-89b7-ab1ce5d21f61');\n",
              "        const dataTable =\n",
              "          await google.colab.kernel.invokeFunction('convertToInteractive',\n",
              "                                                    [key], {});\n",
              "        if (!dataTable) return;\n",
              "\n",
              "        const docLinkHtml = 'Like what you see? Visit the ' +\n",
              "          '<a target=\"_blank\" href=https://colab.research.google.com/notebooks/data_table.ipynb>data table notebook</a>'\n",
              "          + ' to learn more about interactive tables.';\n",
              "        element.innerHTML = '';\n",
              "        dataTable['output_type'] = 'display_data';\n",
              "        await google.colab.output.renderOutput(dataTable, element);\n",
              "        const docLink = document.createElement('div');\n",
              "        docLink.innerHTML = docLinkHtml;\n",
              "        element.appendChild(docLink);\n",
              "      }\n",
              "    </script>\n",
              "  </div>\n",
              "\n",
              "\n",
              "<div id=\"df-7220643c-d1fa-4bd2-ad84-92d6b47ca026\">\n",
              "  <button class=\"colab-df-quickchart\" onclick=\"quickchart('df-7220643c-d1fa-4bd2-ad84-92d6b47ca026')\"\n",
              "            title=\"Suggest charts\"\n",
              "            style=\"display:none;\">\n",
              "\n",
              "<svg xmlns=\"http://www.w3.org/2000/svg\" height=\"24px\"viewBox=\"0 0 24 24\"\n",
              "     width=\"24px\">\n",
              "    <g>\n",
              "        <path d=\"M19 3H5c-1.1 0-2 .9-2 2v14c0 1.1.9 2 2 2h14c1.1 0 2-.9 2-2V5c0-1.1-.9-2-2-2zM9 17H7v-7h2v7zm4 0h-2V7h2v10zm4 0h-2v-4h2v4z\"/>\n",
              "    </g>\n",
              "</svg>\n",
              "  </button>\n",
              "\n",
              "<style>\n",
              "  .colab-df-quickchart {\n",
              "      --bg-color: #E8F0FE;\n",
              "      --fill-color: #1967D2;\n",
              "      --hover-bg-color: #E2EBFA;\n",
              "      --hover-fill-color: #174EA6;\n",
              "      --disabled-fill-color: #AAA;\n",
              "      --disabled-bg-color: #DDD;\n",
              "  }\n",
              "\n",
              "  [theme=dark] .colab-df-quickchart {\n",
              "      --bg-color: #3B4455;\n",
              "      --fill-color: #D2E3FC;\n",
              "      --hover-bg-color: #434B5C;\n",
              "      --hover-fill-color: #FFFFFF;\n",
              "      --disabled-bg-color: #3B4455;\n",
              "      --disabled-fill-color: #666;\n",
              "  }\n",
              "\n",
              "  .colab-df-quickchart {\n",
              "    background-color: var(--bg-color);\n",
              "    border: none;\n",
              "    border-radius: 50%;\n",
              "    cursor: pointer;\n",
              "    display: none;\n",
              "    fill: var(--fill-color);\n",
              "    height: 32px;\n",
              "    padding: 0;\n",
              "    width: 32px;\n",
              "  }\n",
              "\n",
              "  .colab-df-quickchart:hover {\n",
              "    background-color: var(--hover-bg-color);\n",
              "    box-shadow: 0 1px 2px rgba(60, 64, 67, 0.3), 0 1px 3px 1px rgba(60, 64, 67, 0.15);\n",
              "    fill: var(--button-hover-fill-color);\n",
              "  }\n",
              "\n",
              "  .colab-df-quickchart-complete:disabled,\n",
              "  .colab-df-quickchart-complete:disabled:hover {\n",
              "    background-color: var(--disabled-bg-color);\n",
              "    fill: var(--disabled-fill-color);\n",
              "    box-shadow: none;\n",
              "  }\n",
              "\n",
              "  .colab-df-spinner {\n",
              "    border: 2px solid var(--fill-color);\n",
              "    border-color: transparent;\n",
              "    border-bottom-color: var(--fill-color);\n",
              "    animation:\n",
              "      spin 1s steps(1) infinite;\n",
              "  }\n",
              "\n",
              "  @keyframes spin {\n",
              "    0% {\n",
              "      border-color: transparent;\n",
              "      border-bottom-color: var(--fill-color);\n",
              "      border-left-color: var(--fill-color);\n",
              "    }\n",
              "    20% {\n",
              "      border-color: transparent;\n",
              "      border-left-color: var(--fill-color);\n",
              "      border-top-color: var(--fill-color);\n",
              "    }\n",
              "    30% {\n",
              "      border-color: transparent;\n",
              "      border-left-color: var(--fill-color);\n",
              "      border-top-color: var(--fill-color);\n",
              "      border-right-color: var(--fill-color);\n",
              "    }\n",
              "    40% {\n",
              "      border-color: transparent;\n",
              "      border-right-color: var(--fill-color);\n",
              "      border-top-color: var(--fill-color);\n",
              "    }\n",
              "    60% {\n",
              "      border-color: transparent;\n",
              "      border-right-color: var(--fill-color);\n",
              "    }\n",
              "    80% {\n",
              "      border-color: transparent;\n",
              "      border-right-color: var(--fill-color);\n",
              "      border-bottom-color: var(--fill-color);\n",
              "    }\n",
              "    90% {\n",
              "      border-color: transparent;\n",
              "      border-bottom-color: var(--fill-color);\n",
              "    }\n",
              "  }\n",
              "</style>\n",
              "\n",
              "  <script>\n",
              "    async function quickchart(key) {\n",
              "      const quickchartButtonEl =\n",
              "        document.querySelector('#' + key + ' button');\n",
              "      quickchartButtonEl.disabled = true;  // To prevent multiple clicks.\n",
              "      quickchartButtonEl.classList.add('colab-df-spinner');\n",
              "      try {\n",
              "        const charts = await google.colab.kernel.invokeFunction(\n",
              "            'suggestCharts', [key], {});\n",
              "      } catch (error) {\n",
              "        console.error('Error during call to suggestCharts:', error);\n",
              "      }\n",
              "      quickchartButtonEl.classList.remove('colab-df-spinner');\n",
              "      quickchartButtonEl.classList.add('colab-df-quickchart-complete');\n",
              "    }\n",
              "    (() => {\n",
              "      let quickchartButtonEl =\n",
              "        document.querySelector('#df-7220643c-d1fa-4bd2-ad84-92d6b47ca026 button');\n",
              "      quickchartButtonEl.style.display =\n",
              "        google.colab.kernel.accessAllowed ? 'block' : 'none';\n",
              "    })();\n",
              "  </script>\n",
              "</div>\n",
              "    </div>\n",
              "  </div>\n"
            ],
            "application/vnd.google.colaboratory.intrinsic+json": {
              "type": "dataframe",
              "variable_name": "df",
              "summary": "{\n  \"name\": \"df\",\n  \"rows\": 5476,\n  \"fields\": [\n    {\n      \"column\": \"sentiment\",\n      \"properties\": {\n        \"dtype\": \"category\",\n        \"num_unique_values\": 3,\n        \"samples\": [\n          \"Negative\",\n          \"Neutral\",\n          \"Positive\"\n        ],\n        \"semantic_type\": \"\",\n        \"description\": \"\"\n      }\n    },\n    {\n      \"column\": \"polarity\",\n      \"properties\": {\n        \"dtype\": \"number\",\n        \"std\": 0.245302242267209,\n        \"min\": -1.0,\n        \"max\": 1.0,\n        \"num_unique_values\": 505,\n        \"samples\": [\n          0.21363636363636362,\n          0.13333333333333336,\n          0.16363636363636364\n        ],\n        \"semantic_type\": \"\",\n        \"description\": \"\"\n      }\n    },\n    {\n      \"column\": \"processed_tweet\",\n      \"properties\": {\n        \"dtype\": \"string\",\n        \"num_unique_values\": 5145,\n        \"samples\": [\n          \"alert corporate insider pocket billion rush coronavirusvaccine global pandemic news coronavirus\\u00e2\\u0080\\u00a6\",\n          \"bristol follower anyone help james get new bike girlfriend please get touch loan or\\u00e2\\u0080\\u00a6\",\n          \"time ianbremmer vietnam handled outbreak better country mentioned article\"\n        ],\n        \"semantic_type\": \"\",\n        \"description\": \"\"\n      }\n    },\n    {\n      \"column\": \"date\",\n      \"properties\": {\n        \"dtype\": \"object\",\n        \"num_unique_values\": 4287,\n        \"samples\": [\n          \"2020-07-25 11:35:29\",\n          \"2020-07-25 10:16:02\",\n          \"2020-07-25 10:00:26\"\n        ],\n        \"semantic_type\": \"\",\n        \"description\": \"\"\n      }\n    }\n  ]\n}"
            }
          },
          "metadata": {},
          "execution_count": 17
        }
      ],
      "source": [
        "df = df[['sentiment', 'polarity', 'processed_tweet', 'date']]\n",
        "df"
      ]
    },
    {
      "cell_type": "markdown",
      "source": [
        "3-Split data"
      ],
      "metadata": {
        "id": "lOi0Ah0fMMqB"
      }
    },
    {
      "cell_type": "code",
      "execution_count": 18,
      "metadata": {
        "id": "4RJvx1xG_vPY"
      },
      "outputs": [],
      "source": [
        "from sklearn import model_selection, naive_bayes, svm\n",
        "from sklearn.preprocessing import LabelEncoder\n",
        "from sklearn.feature_extraction.text import TfidfVectorizer\n"
      ]
    },
    {
      "cell_type": "code",
      "execution_count": 19,
      "metadata": {
        "id": "WsQLY2R-_kty"
      },
      "outputs": [],
      "source": [
        "Train_X, Test_X, Train_Y, Test_Y = model_selection.train_test_split(df['processed_tweet'],\n",
        "                                                                    df['sentiment'],test_size=0.3)"
      ]
    },
    {
      "cell_type": "code",
      "execution_count": 20,
      "metadata": {
        "id": "IM9qnk9s_1oT"
      },
      "outputs": [],
      "source": [
        "Encoder = LabelEncoder()\n",
        "Train_Y = Encoder.fit_transform(Train_Y)\n",
        "Test_Y = Encoder.fit_transform(Test_Y)"
      ]
    },
    {
      "cell_type": "code",
      "execution_count": 21,
      "metadata": {
        "id": "zm1yomqt__B6"
      },
      "outputs": [],
      "source": [
        "Tfidf_vect = TfidfVectorizer(max_features=40000)\n",
        "Tfidf_vect.fit(df['processed_tweet'])\n",
        "Train_X_Tfidf = Tfidf_vect.transform(Train_X)\n",
        "Test_X_Tfidf = Tfidf_vect.transform(Test_X)"
      ]
    },
    {
      "cell_type": "code",
      "execution_count": 22,
      "metadata": {
        "colab": {
          "base_uri": "https://localhost:8080/"
        },
        "id": "cGe41gNpAB_0",
        "outputId": "c857905a-ec31-4432-891c-6b65000b2186"
      },
      "outputs": [
        {
          "output_type": "stream",
          "name": "stdout",
          "text": [
            "  (0, 13734)\t0.35990132988527657\n",
            "  (0, 9283)\t0.600224522050594\n",
            "  (0, 8294)\t0.39211627576898944\n",
            "  (0, 7285)\t0.3544394525043305\n",
            "  (0, 2780)\t0.2408681864489616\n",
            "  (0, 1972)\t0.41569408634020993\n",
            "  (1, 12245)\t0.22329974244872727\n",
            "  (1, 11334)\t0.364261541351607\n",
            "  (1, 9320)\t0.2450453976070551\n",
            "  (1, 8805)\t0.364261541351607\n",
            "  (1, 6792)\t0.38803453451537506\n",
            "  (1, 6335)\t0.2768213485479821\n",
            "  (1, 5465)\t0.30761943921170626\n",
            "  (1, 4909)\t0.2681875463756073\n",
            "  (1, 4696)\t0.29105268635477655\n",
            "  (1, 3087)\t0.1827408533219743\n",
            "  (1, 860)\t0.33594049028165657\n",
            "  (2, 13796)\t0.25700606971224094\n",
            "  (2, 13776)\t0.33223294862370983\n",
            "  (2, 13714)\t0.267104357745173\n",
            "  (2, 11968)\t0.24963433106308888\n",
            "  (2, 10923)\t0.2404716510034694\n",
            "  (2, 10228)\t0.3934071470372035\n",
            "  (2, 10096)\t0.3934071470372035\n",
            "  (2, 9328)\t0.33223294862370983\n",
            "  :\t:\n",
            "  (3831, 14008)\t0.2222252770432845\n",
            "  (3831, 12721)\t0.32883700203169725\n",
            "  (3831, 12464)\t0.2570618620011811\n",
            "  (3831, 11406)\t0.3138813706393227\n",
            "  (3831, 10497)\t0.26274772917021355\n",
            "  (3831, 10051)\t0.23718090843565903\n",
            "  (3831, 9774)\t0.2950395034057408\n",
            "  (3831, 6130)\t0.32883700203169725\n",
            "  (3831, 3932)\t0.2950395034057408\n",
            "  (3831, 2988)\t0.3138813706393227\n",
            "  (3831, 2959)\t0.24990039304485134\n",
            "  (3831, 2780)\t0.13196124018074018\n",
            "  (3831, 1755)\t0.3032701812971426\n",
            "  (3832, 11437)\t0.3509167456120751\n",
            "  (3832, 10279)\t0.2793865480957329\n",
            "  (3832, 9309)\t0.16581767334491385\n",
            "  (3832, 8810)\t0.2669213127015083\n",
            "  (3832, 7747)\t0.3676370163503359\n",
            "  (3832, 7746)\t0.3676370163503359\n",
            "  (3832, 4853)\t0.2904490202924567\n",
            "  (3832, 4268)\t0.1915663856059502\n",
            "  (3832, 2907)\t0.3298516957258841\n",
            "  (3832, 1625)\t0.3056129832523041\n",
            "  (3832, 1235)\t0.2441012208613536\n",
            "  (3832, 973)\t0.21656176631117563\n"
          ]
        }
      ],
      "source": [
        "print(Train_X_Tfidf)"
      ]
    },
    {
      "cell_type": "code",
      "execution_count": 23,
      "metadata": {
        "id": "Eygvpvc8AKG3"
      },
      "outputs": [],
      "source": [
        "import sklearn\n",
        "from sklearn.metrics import accuracy_score\n",
        "from sklearn.metrics import f1_score, recall_score, precision_score, confusion_matrix\n",
        "from sklearn.metrics import r2_score, roc_auc_score, roc_curve, classification_report\n",
        "from sklearn.svm import SVC\n",
        "from sklearn.neighbors import KNeighborsClassifier"
      ]
    },
    {
      "cell_type": "markdown",
      "source": [
        "# Nouvelle section\n",
        "Classification"
      ],
      "metadata": {
        "id": "BdKyZNKYMbcO"
      }
    },
    {
      "cell_type": "markdown",
      "source": [
        "1-Naive Bayes"
      ],
      "metadata": {
        "id": "O7hBjr9pMf1U"
      }
    },
    {
      "cell_type": "code",
      "execution_count": 24,
      "metadata": {
        "colab": {
          "base_uri": "https://localhost:8080/"
        },
        "id": "j7OCiywPAOGS",
        "outputId": "af4d4832-03b5-46f8-cfb6-0253667ce4a2"
      },
      "outputs": [
        {
          "output_type": "stream",
          "name": "stdout",
          "text": [
            "Naive Bayes Accuracy Score ->  70.66342057212415\n"
          ]
        }
      ],
      "source": [
        "# Classifier - Algorithm - Naive Bayes\n",
        "# fit the training dataset on the NB classifier\n",
        "Naive = naive_bayes.MultinomialNB()\n",
        "Naive.fit(Train_X_Tfidf,Train_Y)\n",
        "# predict the labels on validation dataset\n",
        "predictions_NB = Naive.predict(Test_X_Tfidf)\n",
        "# Use accuracy_score function to get the accuracy\n",
        "print(\"Naive Bayes Accuracy Score -> \",accuracy_score(predictions_NB, Test_Y)*100)"
      ]
    },
    {
      "cell_type": "code",
      "execution_count": 25,
      "metadata": {
        "colab": {
          "base_uri": "https://localhost:8080/"
        },
        "id": "t98-b_QoAPdd",
        "outputId": "e511e772-7e5d-498f-c009-b3bff90327d6"
      },
      "outputs": [
        {
          "output_type": "stream",
          "name": "stdout",
          "text": [
            "Accuracy Score: 0.7066\n",
            "SVC f1-score  : 0.7066\n",
            "SVC precision : 0.7066\n",
            "SVC recall    : 0.7066\n",
            "\n",
            "               precision    recall  f1-score   support\n",
            "\n",
            "           0       0.14      1.00      0.25        37\n",
            "           1       0.83      0.68      0.75       853\n",
            "           2       0.80      0.72      0.76       753\n",
            "\n",
            "    accuracy                           0.71      1643\n",
            "   macro avg       0.59      0.80      0.58      1643\n",
            "weighted avg       0.80      0.71      0.74      1643\n",
            "\n"
          ]
        }
      ],
      "source": [
        "# basic method\n",
        "\n",
        "print('Accuracy Score: {:.4f}'.format(accuracy_score(predictions_NB, Test_Y)))\n",
        "print('SVC f1-score  : {:.4f}'.format(f1_score(predictions_NB, Test_Y, average='micro')))\n",
        "print('SVC precision : {:.4f}'.format(precision_score(predictions_NB, Test_Y, average='micro')))\n",
        "print('SVC recall    : {:.4f}'.format(recall_score(predictions_NB, Test_Y, average='micro')))\n",
        "print(\"\\n\",classification_report(predictions_NB, Test_Y))"
      ]
    },
    {
      "cell_type": "markdown",
      "source": [
        "2-SVM"
      ],
      "metadata": {
        "id": "ZinF8ZYSMlP2"
      }
    },
    {
      "cell_type": "code",
      "execution_count": 26,
      "metadata": {
        "colab": {
          "base_uri": "https://localhost:8080/",
          "height": 445
        },
        "id": "R9XBB9EQAiSP",
        "outputId": "1a533804-a507-48e0-c114-62fac79bbd5a"
      },
      "outputs": [
        {
          "output_type": "display_data",
          "data": {
            "text/plain": [
              "<Figure size 500x500 with 1 Axes>"
            ],
            "image/png": "[encoded data removed]"
          },
          "metadata": {}
        }
      ],
      "source": [
        "plt.figure(figsize=(5,5))\n",
        "sns.regplot(x=predictions_NB, y=Test_Y, fit_reg=True, scatter_kws={\"s\": 100})\n",
        "plt.savefig(\"naive_bayes.png\")\n",
        "plt.show()"
      ]
    },
    {
      "cell_type": "code",
      "execution_count": 27,
      "metadata": {
        "colab": {
          "base_uri": "https://localhost:8080/"
        },
        "id": "wnuKjjOcAnMh",
        "outputId": "0d449426-5745-4799-f97c-704845f418d0"
      },
      "outputs": [
        {
          "output_type": "stream",
          "name": "stdout",
          "text": [
            "SVM Accuracy Score ->  80.46256847230676\n"
          ]
        }
      ],
      "source": [
        "# Classifier - Algorithm - SVM\n",
        "# fit the training dataset on the classifier\n",
        "SVM = svm.SVC(C=1.0, kernel='linear', degree=3, gamma='auto')\n",
        "SVM.fit(Train_X_Tfidf,Train_Y)\n",
        "# predict the labels on validation dataset\n",
        "predictions_SVM = SVM.predict(Test_X_Tfidf)\n",
        "# Use accuracy_score function to get the accuracy\n",
        "print(\"SVM Accuracy Score -> \",accuracy_score(predictions_SVM, Test_Y)*100)"
      ]
    },
    {
      "cell_type": "code",
      "execution_count": 28,
      "metadata": {
        "id": "c3maq_FNB7yj",
        "colab": {
          "base_uri": "https://localhost:8080/"
        },
        "outputId": "11bfdd13-2598-46a6-80e4-13a60f672816"
      },
      "outputs": [
        {
          "output_type": "stream",
          "name": "stdout",
          "text": [
            "Accuracy Score: 0.8046\n",
            "SVC f1-score  : 0.8046\n",
            "SVC precision : 0.8046\n",
            "SVC recall    : 0.8046\n",
            "\n",
            "               precision    recall  f1-score   support\n",
            "\n",
            "           0       0.45      0.94      0.61       125\n",
            "           1       0.97      0.72      0.82       945\n",
            "           2       0.77      0.92      0.84       573\n",
            "\n",
            "    accuracy                           0.80      1643\n",
            "   macro avg       0.73      0.86      0.76      1643\n",
            "weighted avg       0.86      0.80      0.81      1643\n",
            "\n"
          ]
        }
      ],
      "source": [
        "# basic method\n",
        "\n",
        "print('Accuracy Score: {:.4f}'.format(accuracy_score(predictions_SVM, Test_Y)))\n",
        "print('SVC f1-score  : {:.4f}'.format(f1_score(predictions_SVM, Test_Y, average='micro')))\n",
        "print('SVC precision : {:.4f}'.format(precision_score(predictions_SVM, Test_Y, average='micro')))\n",
        "print('SVC recall    : {:.4f}'.format(recall_score(predictions_SVM, Test_Y, average='micro')))\n",
        "print(\"\\n\",classification_report(predictions_SVM, Test_Y))"
      ]
    },
    {
      "cell_type": "code",
      "source": [
        "plt.figure(figsize=(5,5))\n",
        "sns.regplot(x=predictions_SVM, y=Test_Y, fit_reg=True, scatter_kws={\"s\": 100})\n",
        "plt.show()"
      ],
      "metadata": {
        "colab": {
          "base_uri": "https://localhost:8080/",
          "height": 445
        },
        "id": "4ojhEIyGDj2f",
        "outputId": "5bd9a672-65f0-490d-b8f3-b0dce530d6a3"
      },
      "execution_count": 29,
      "outputs": [
        {
          "output_type": "display_data",
          "data": {
            "text/plain": [
              "<Figure size 500x500 with 1 Axes>"
            ],
            "image/png": "[encoded data removed]"
          },
          "metadata": {}
        }
      ]
    },
    {
      "cell_type": "markdown",
      "source": [
        "3-KNN"
      ],
      "metadata": {
        "id": "bgvRfj9_Mo-I"
      }
    },
    {
      "cell_type": "code",
      "source": [
        "# Classifier - Algorithm - KNN\n",
        "# fit the training dataset on the classifier\n",
        "from sklearn.neighbors import KNeighborsClassifier\n",
        "knn = KNeighborsClassifier(n_neighbors=5) # Choisissez le nombre de voisins souhaité (ici 5)\n",
        "knn.fit(Train_X_Tfidf, Train_Y)\n",
        "# predict the labels on validation dataset\n",
        "predictions_knn = knn.predict(Test_X_Tfidf)\n",
        "# Utilisez la fonction accuracy_score pour obtenir la précision\n",
        "from sklearn.metrics import accuracy_score\n",
        "print(\"KNN Accuracy Score -> \", accuracy_score(predictions_knn, Test_Y) * 100)\n"
      ],
      "metadata": {
        "id": "9gBru3FCDm0j",
        "colab": {
          "base_uri": "https://localhost:8080/"
        },
        "outputId": "89970060-90e1-4bd8-d00f-07028848d56a"
      },
      "execution_count": 31,
      "outputs": [
        {
          "output_type": "stream",
          "name": "stdout",
          "text": [
            "KNN Accuracy Score ->  58.97748021911138\n"
          ]
        }
      ]
    },
    {
      "cell_type": "markdown",
      "source": [
        "# Nouvelle section\n",
        "Using Deep Learning"
      ],
      "metadata": {
        "id": "xQ7MhIXEOmYf"
      }
    },
    {
      "cell_type": "code",
      "source": [
        "X = df.processed_tweet\n",
        "Y = df.sentiment\n",
        "le = LabelEncoder()\n",
        "Y = le.fit_transform(Y)\n",
        "Y = Y.reshape(-1,1)"
      ],
      "metadata": {
        "id": "hUnsu9nRdbBF"
      },
      "execution_count": 58,
      "outputs": []
    },
    {
      "cell_type": "code",
      "source": [
        "X_train,X_test,Y_train,Y_test = train_test_split(X,Y,test_size=0.15)"
      ],
      "metadata": {
        "id": "DvPmCGuBdcSn"
      },
      "execution_count": 59,
      "outputs": []
    },
    {
      "cell_type": "code",
      "source": [
        "max_words = 1000\n",
        "max_len = 150\n",
        "tok = Tokenizer(num_words=max_words)\n",
        "tok.fit_on_texts(X_train)\n",
        "sequences = tok.texts_to_sequences(X_train)\n",
        "sequences_matrix = sequence.pad_sequences(sequences,maxlen=max_len)"
      ],
      "metadata": {
        "id": "bSUbF_TZdcd6"
      },
      "execution_count": 60,
      "outputs": []
    },
    {
      "cell_type": "code",
      "source": [],
      "metadata": {
        "id": "4RFQ105kdcna"
      },
      "execution_count": null,
      "outputs": []
    },
    {
      "cell_type": "code",
      "source": [
        "from sklearn.model_selection import train_test_split\n",
        "from keras.preprocessing.text import Tokenizer\n",
        "from keras.preprocessing import sequence\n",
        "from keras.preprocessing.sequence import pad_sequences\n",
        "from tensorflow.keras.utils import to_categorical"
      ],
      "metadata": {
        "id": "1TvLi8k7PKDH"
      },
      "execution_count": 61,
      "outputs": []
    },
    {
      "cell_type": "code",
      "source": [
        "train_text, test_text, train_y, test_y = train_test_split(df['processed_tweet'],df['polarity'],test_size = 0.2)"
      ],
      "metadata": {
        "id": "TMhUTUwiO6DO"
      },
      "execution_count": 62,
      "outputs": []
    },
    {
      "cell_type": "code",
      "source": [
        "train_text.shape"
      ],
      "metadata": {
        "colab": {
          "base_uri": "https://localhost:8080/"
        },
        "id": "IoT3NnI7O-po",
        "outputId": "d89bb20c-1b49-46ee-ac38-878ba546c86a"
      },
      "execution_count": 63,
      "outputs": [
        {
          "output_type": "execute_result",
          "data": {
            "text/plain": [
              "(4380,)"
            ]
          },
          "metadata": {},
          "execution_count": 63
        }
      ]
    },
    {
      "cell_type": "code",
      "source": [
        "MAX_NB_WORDS = 20000\n",
        "\n",
        "# get the raw text data\n",
        "texts_train = train_text.astype(str)\n",
        "texts_test = test_text.astype(str)\n",
        "\n",
        "# finally, vectorize the text samples into a 2D integer tensor\n",
        "tokenizer = Tokenizer(nb_words=MAX_NB_WORDS, char_level=False)\n",
        "tokenizer.fit_on_texts(texts_train)\n",
        "sequences = tokenizer.texts_to_sequences(texts_train)\n",
        "sequences_matrix = sequence.pad_sequences(sequences,maxlen=max_len)\n",
        "\n",
        "sequences_test = tokenizer.texts_to_sequences(texts_test)\n",
        "test_sequences_matrix = sequence.pad_sequences(sequences_test,maxlen=max_len)\n",
        "\n",
        "\n",
        "word_index = tokenizer.word_index\n",
        "print('Found %s unique tokens.' % len(word_index))"
      ],
      "metadata": {
        "colab": {
          "base_uri": "https://localhost:8080/"
        },
        "id": "3zJliiJ_POMU",
        "outputId": "dd58e47a-afc3-428f-83f7-895b097975a3"
      },
      "execution_count": 64,
      "outputs": [
        {
          "output_type": "stream",
          "name": "stdout",
          "text": [
            "Found 12759 unique tokens.\n"
          ]
        },
        {
          "output_type": "stream",
          "name": "stderr",
          "text": [
            "/usr/local/lib/python3.10/dist-packages/keras/src/preprocessing/text.py:246: UserWarning: The `nb_words` argument in `Tokenizer` has been renamed `num_words`.\n",
            "  warnings.warn(\n"
          ]
        }
      ]
    },
    {
      "cell_type": "code",
      "source": [
        "sequences[0]"
      ],
      "metadata": {
        "colab": {
          "base_uri": "https://localhost:8080/"
        },
        "id": "kd9lfrxkPqbz",
        "outputId": "e892ff6b-e1b6-4052-8370-5c82f5576ba0"
      },
      "execution_count": 65,
      "outputs": [
        {
          "output_type": "execute_result",
          "data": {
            "text/plain": [
              "[1622, 150, 40, 125, 1623, 2709, 961, 80, 2045, 4338]"
            ]
          },
          "metadata": {},
          "execution_count": 65
        }
      ]
    },
    {
      "cell_type": "code",
      "source": [
        "type(tokenizer.word_index), len(tokenizer.word_index)"
      ],
      "metadata": {
        "colab": {
          "base_uri": "https://localhost:8080/"
        },
        "id": "UUiSM3iQPs-U",
        "outputId": "50152e55-d290-4bf1-84bf-5ebf9b3d331f"
      },
      "execution_count": 66,
      "outputs": [
        {
          "output_type": "execute_result",
          "data": {
            "text/plain": [
              "(dict, 12759)"
            ]
          },
          "metadata": {},
          "execution_count": 66
        }
      ]
    },
    {
      "cell_type": "code",
      "source": [
        "index_to_word = dict((i, w) for w, i in tokenizer.word_index.items())"
      ],
      "metadata": {
        "id": "Rxk5ue9cPvRb"
      },
      "execution_count": 67,
      "outputs": []
    },
    {
      "cell_type": "code",
      "source": [
        "\" \".join([index_to_word[i] for i in sequences[0]])"
      ],
      "metadata": {
        "colab": {
          "base_uri": "https://localhost:8080/",
          "height": 35
        },
        "id": "zEc3vv4ZPxif",
        "outputId": "2b2e9c3f-527d-4bd9-b462-69a5f7ee5da6"
      },
      "execution_count": 68,
      "outputs": [
        {
          "output_type": "execute_result",
          "data": {
            "text/plain": [
              "'glimpse plan india response kerala supported vulnerable family dry rationâ\\x80¦'"
            ],
            "application/vnd.google.colaboratory.intrinsic+json": {
              "type": "string"
            }
          },
          "metadata": {},
          "execution_count": 68
        }
      ]
    },
    {
      "cell_type": "code",
      "source": [
        "seq_lens = [len(s) for s in sequences]\n",
        "print(\"average length: %0.1f\" % np.mean(seq_lens))\n",
        "print(\"max length: %d\" % max(seq_lens))"
      ],
      "metadata": {
        "colab": {
          "base_uri": "https://localhost:8080/"
        },
        "id": "K6tS1w2_P2Fr",
        "outputId": "d409d3cc-4dd5-48b4-e846-37deeb4ed866"
      },
      "execution_count": 69,
      "outputs": [
        {
          "output_type": "stream",
          "name": "stdout",
          "text": [
            "average length: 9.7\n",
            "max length: 16\n"
          ]
        }
      ]
    },
    {
      "cell_type": "code",
      "source": [
        "MAX_SEQUENCE_LENGTH = 150\n",
        "\n",
        "# pad sequences with 0s\n",
        "x_train = pad_sequences(sequences, maxlen=MAX_SEQUENCE_LENGTH)\n",
        "x_test = pad_sequences(sequences_test, maxlen=MAX_SEQUENCE_LENGTH)\n",
        "print('Shape of data tensor:', x_train.shape)\n",
        "print('Shape of data test tensor:', x_test.shape)"
      ],
      "metadata": {
        "colab": {
          "base_uri": "https://localhost:8080/"
        },
        "id": "LBsKgLuWP2g6",
        "outputId": "d0c5b03e-4731-436c-9056-5392aafc3d32"
      },
      "execution_count": 70,
      "outputs": [
        {
          "output_type": "stream",
          "name": "stdout",
          "text": [
            "Shape of data tensor: (4380, 150)\n",
            "Shape of data test tensor: (1096, 150)\n"
          ]
        }
      ]
    },
    {
      "cell_type": "code",
      "source": [
        "y_train = train_y\n",
        "y_test = test_y\n",
        "\n",
        "y_train = to_categorical(np.asarray(y_train))\n",
        "print('Shape of label tensor:', test_y.shape)"
      ],
      "metadata": {
        "colab": {
          "base_uri": "https://localhost:8080/"
        },
        "id": "tiSghvGXP50T",
        "outputId": "48055266-4728-436c-e55e-621b7c1237dd"
      },
      "execution_count": 71,
      "outputs": [
        {
          "output_type": "stream",
          "name": "stdout",
          "text": [
            "Shape of label tensor: (1096,)\n"
          ]
        }
      ]
    },
    {
      "cell_type": "markdown",
      "source": [
        "1-Global Average Pooling Neural Network\n"
      ],
      "metadata": {
        "id": "9htjdpi0QQGx"
      }
    },
    {
      "cell_type": "code",
      "source": [
        "from keras.layers import Dense, Input, Flatten\n",
        "from keras.layers import GlobalAveragePooling1D, Embedding\n",
        "from keras.models import Model\n",
        "\n",
        "EMBEDDING_DIM = 50\n",
        "N_CLASSES = 2\n",
        "#Global Average Pooling Neural Network\n",
        "# input: a sequence of MAX_SEQUENCE_LENGTH integers\n",
        "sequence_input = Input(shape=(MAX_SEQUENCE_LENGTH,), dtype='int32')\n",
        "\n",
        "embedding_layer = Embedding(MAX_NB_WORDS, EMBEDDING_DIM,\n",
        "                            input_length=MAX_SEQUENCE_LENGTH,\n",
        "                            trainable=True)\n",
        "embedded_sequences = embedding_layer(sequence_input)\n",
        "#L'utilisation du bloc de mise en commun 1D Global average peut remplacer les blocs entièrement connectés de votre CNN.\n",
        "average = GlobalAveragePooling1D()(embedded_sequences)\n",
        "predictions = Dense(N_CLASSES, activation='softmax')(average)\n",
        "\n",
        "model_1 = Model(sequence_input, predictions)\n",
        "model_1.compile(loss='categorical_crossentropy',\n",
        "              optimizer='adam', metrics=['acc'])\n",
        "model_1.summary()"
      ],
      "metadata": {
        "colab": {
          "base_uri": "https://localhost:8080/"
        },
        "id": "VmT3EgUjQDys",
        "outputId": "05cbf8c5-4953-43fa-c5a0-bccc7b7b1d9f"
      },
      "execution_count": 73,
      "outputs": [
        {
          "output_type": "stream",
          "name": "stdout",
          "text": [
            "Model: \"model_4\"\n",
            "_________________________________________________________________\n",
            " Layer (type)                Output Shape              Param #   \n",
            "=================================================================\n",
            " input_5 (InputLayer)        [(None, 150)]             0         \n",
            "                                                                 \n",
            " embedding_2 (Embedding)     (None, 150, 50)           1000000   \n",
            "                                                                 \n",
            " global_average_pooling1d_2  (None, 50)                0         \n",
            "  (GlobalAveragePooling1D)                                       \n",
            "                                                                 \n",
            " dense_4 (Dense)             (None, 2)                 102       \n",
            "                                                                 \n",
            "=================================================================\n",
            "Total params: 1000102 (3.82 MB)\n",
            "Trainable params: 1000102 (3.82 MB)\n",
            "Non-trainable params: 0 (0.00 Byte)\n",
            "_________________________________________________________________\n"
          ]
        }
      ]
    },
    {
      "cell_type": "code",
      "source": [
        "history = model_1.fit(x_train, y_train, validation_split=0.1,\n",
        "          epochs=10, batch_size=128, verbose=2)"
      ],
      "metadata": {
        "colab": {
          "base_uri": "https://localhost:8080/"
        },
        "id": "QcR0CPLBQRjs",
        "outputId": "c839ba56-feba-4e0f-b36c-f00fbcc32e95"
      },
      "execution_count": 74,
      "outputs": [
        {
          "output_type": "stream",
          "name": "stdout",
          "text": [
            "Epoch 1/10\n",
            "31/31 - 4s - loss: 0.6195 - acc: 0.8359 - val_loss: 0.5135 - val_acc: 0.9932 - 4s/epoch - 114ms/step\n",
            "Epoch 2/10\n",
            "31/31 - 2s - loss: 0.4250 - acc: 0.9901 - val_loss: 0.3307 - val_acc: 0.9932 - 2s/epoch - 70ms/step\n",
            "Epoch 3/10\n",
            "31/31 - 1s - loss: 0.2622 - acc: 0.9901 - val_loss: 0.1930 - val_acc: 0.9932 - 1s/epoch - 48ms/step\n",
            "Epoch 4/10\n",
            "31/31 - 2s - loss: 0.1561 - acc: 0.9901 - val_loss: 0.1157 - val_acc: 0.9932 - 2s/epoch - 51ms/step\n",
            "Epoch 5/10\n",
            "31/31 - 2s - loss: 0.1022 - acc: 0.9901 - val_loss: 0.0792 - val_acc: 0.9932 - 2s/epoch - 56ms/step\n",
            "Epoch 6/10\n",
            "31/31 - 1s - loss: 0.0777 - acc: 0.9901 - val_loss: 0.0616 - val_acc: 0.9932 - 999ms/epoch - 32ms/step\n",
            "Epoch 7/10\n",
            "31/31 - 1s - loss: 0.0660 - acc: 0.9901 - val_loss: 0.0531 - val_acc: 0.9932 - 560ms/epoch - 18ms/step\n",
            "Epoch 8/10\n",
            "31/31 - 1s - loss: 0.0603 - acc: 0.9901 - val_loss: 0.0483 - val_acc: 0.9932 - 757ms/epoch - 24ms/step\n",
            "Epoch 9/10\n",
            "31/31 - 1s - loss: 0.0571 - acc: 0.9901 - val_loss: 0.0455 - val_acc: 0.9932 - 695ms/epoch - 22ms/step\n",
            "Epoch 10/10\n",
            "31/31 - 1s - loss: 0.0554 - acc: 0.9901 - val_loss: 0.0439 - val_acc: 0.9932 - 538ms/epoch - 17ms/step\n"
          ]
        }
      ]
    },
    {
      "cell_type": "code",
      "source": [
        "plt.plot(history.history['loss'], label='training data')\n",
        "plt.plot(history.history['val_loss'], label='testing data')\n",
        "plt.title('Loss for Text Classification')\n",
        "plt.ylabel('Loss value')\n",
        "plt.xlabel('No. epoch')\n",
        "plt.legend(loc=\"upper left\")\n",
        "plt.show()"
      ],
      "metadata": {
        "colab": {
          "base_uri": "https://localhost:8080/",
          "height": 472
        },
        "id": "OGoYFjaZRBy3",
        "outputId": "b5c68b1e-ae4c-45df-f38d-b029e90d35ec"
      },
      "execution_count": 75,
      "outputs": [
        {
          "output_type": "display_data",
          "data": {
            "text/plain": [
              "<Figure size 640x480 with 1 Axes>"
            ],
            "image/png": "[encoded data removed]"
          },
          "metadata": {}
        }
      ]
    },
    {
      "cell_type": "code",
      "source": [
        "plt.plot(history.history['acc'], label='training')\n",
        "plt.plot(history.history['val_acc'], label='testing')\n",
        "\n",
        "plt.title('CategoricalAccuracy for Text Classification')\n",
        "plt.ylabel('CategoricalAccuracy value')\n",
        "plt.xlabel('No. epoch')\n",
        "plt.legend(loc=\"upper left\")\n",
        "plt.show()"
      ],
      "metadata": {
        "colab": {
          "base_uri": "https://localhost:8080/",
          "height": 472
        },
        "id": "GnyUZjiZRNPR",
        "outputId": "2cb5ec1f-f097-4388-bac5-211dbeb25422"
      },
      "execution_count": 76,
      "outputs": [
        {
          "output_type": "display_data",
          "data": {
            "text/plain": [
              "<Figure size 640x480 with 1 Axes>"
            ],
            "image/png": "[encoded data removed]"
          },
          "metadata": {}
        }
      ]
    },
    {
      "cell_type": "code",
      "source": [
        "import tensorflow as tf\n",
        "tf.keras.utils.plot_model(model_1, \"simpleNN_model.png\", show_shapes=True)"
      ],
      "metadata": {
        "colab": {
          "base_uri": "https://localhost:8080/",
          "height": 422
        },
        "id": "tQjiRYN2TXYE",
        "outputId": "8aaf1eef-a102-4c60-f631-6a00f167544a"
      },
      "execution_count": 78,
      "outputs": [
        {
          "output_type": "execute_result",
          "data": {
            "image/png": "[encoded data removed]",
            "text/plain": [
              "<IPython.core.display.Image object>"
            ]
          },
          "metadata": {},
          "execution_count": 78
        }
      ]
    },
    {
      "cell_type": "markdown",
      "source": [
        "RNN with LSTM layer"
      ],
      "metadata": {
        "id": "TVeemmKnTgs-"
      }
    },
    {
      "cell_type": "code",
      "source": [
        "# input: a sequence of MAX_SEQUENCE_LENGTH integers\n",
        "\n",
        "from keras.layers import LSTM, Conv1D, MaxPooling1D, Dropout\n",
        "\n",
        "sequence_input = Input(shape=(MAX_SEQUENCE_LENGTH,), dtype='int32')\n",
        "embedded_sequences = embedding_layer(sequence_input)\n",
        "\n",
        "x = LSTM(128, dropout=0.2, recurrent_dropout=0.2)(embedded_sequences)\n",
        "predictions = Dense(2, activation='softmax')(x)\n",
        "\n",
        "\n",
        "model_2 = Model(sequence_input, predictions)\n",
        "model_2.compile(loss='categorical_crossentropy',\n",
        "              optimizer='adam',\n",
        "              metrics=['acc'])\n",
        "model_2.summary()\n"
      ],
      "metadata": {
        "colab": {
          "base_uri": "https://localhost:8080/"
        },
        "id": "gBqgDEWcTbRp",
        "outputId": "0b46d5e7-13e0-45ab-8f9c-768e159c7b8f"
      },
      "execution_count": 79,
      "outputs": [
        {
          "output_type": "stream",
          "name": "stderr",
          "text": [
            "WARNING:tensorflow:Layer lstm_2 will not use cuDNN kernels since it doesn't meet the criteria. It will use a generic GPU kernel as fallback when running on GPU.\n"
          ]
        },
        {
          "output_type": "stream",
          "name": "stdout",
          "text": [
            "Model: \"model_5\"\n",
            "_________________________________________________________________\n",
            " Layer (type)                Output Shape              Param #   \n",
            "=================================================================\n",
            " input_6 (InputLayer)        [(None, 150)]             0         \n",
            "                                                                 \n",
            " embedding_2 (Embedding)     (None, 150, 50)           1000000   \n",
            "                                                                 \n",
            " lstm_2 (LSTM)               (None, 128)               91648     \n",
            "                                                                 \n",
            " dense_5 (Dense)             (None, 2)                 258       \n",
            "                                                                 \n",
            "=================================================================\n",
            "Total params: 1091906 (4.17 MB)\n",
            "Trainable params: 1091906 (4.17 MB)\n",
            "Non-trainable params: 0 (0.00 Byte)\n",
            "_________________________________________________________________\n"
          ]
        }
      ]
    },
    {
      "cell_type": "code",
      "source": [
        "history2 = model_2.fit(x_train, y_train, validation_split=0.1,\n",
        "          epochs=10, batch_size=128,verbose=1)"
      ],
      "metadata": {
        "colab": {
          "base_uri": "https://localhost:8080/"
        },
        "id": "W9jwj87pTxIp",
        "outputId": "ce126703-eaa0-4ac1-c433-f8679af8851d"
      },
      "execution_count": 80,
      "outputs": [
        {
          "output_type": "stream",
          "name": "stdout",
          "text": [
            "Epoch 1/10\n",
            "31/31 [==============================] - 24s 651ms/step - loss: 0.1281 - acc: 0.9909 - val_loss: 0.0406 - val_acc: 0.9932\n",
            "Epoch 2/10\n",
            "31/31 [==============================] - 24s 773ms/step - loss: 0.0391 - acc: 0.9901 - val_loss: 0.0392 - val_acc: 0.9932\n",
            "Epoch 3/10\n",
            "31/31 [==============================] - 18s 581ms/step - loss: 0.0240 - acc: 0.9944 - val_loss: 0.0401 - val_acc: 0.9932\n",
            "Epoch 4/10\n",
            "31/31 [==============================] - 17s 539ms/step - loss: 0.0135 - acc: 0.9964 - val_loss: 0.0397 - val_acc: 0.9932\n",
            "Epoch 5/10\n",
            "31/31 [==============================] - 17s 546ms/step - loss: 0.0048 - acc: 0.9995 - val_loss: 0.0421 - val_acc: 0.9932\n",
            "Epoch 6/10\n",
            "31/31 [==============================] - 17s 553ms/step - loss: 0.0034 - acc: 0.9992 - val_loss: 0.0379 - val_acc: 0.9932\n",
            "Epoch 7/10\n",
            "31/31 [==============================] - 16s 515ms/step - loss: 0.0025 - acc: 0.9995 - val_loss: 0.0443 - val_acc: 0.9932\n",
            "Epoch 8/10\n",
            "31/31 [==============================] - 18s 573ms/step - loss: 0.0017 - acc: 0.9992 - val_loss: 0.0415 - val_acc: 0.9932\n",
            "Epoch 9/10\n",
            "31/31 [==============================] - 16s 503ms/step - loss: 0.0013 - acc: 0.9995 - val_loss: 0.0390 - val_acc: 0.9909\n",
            "Epoch 10/10\n",
            "31/31 [==============================] - 17s 555ms/step - loss: 9.1841e-04 - acc: 0.9995 - val_loss: 0.0428 - val_acc: 0.9909\n"
          ]
        }
      ]
    },
    {
      "cell_type": "code",
      "source": [
        "plt.plot(history2.history['loss'], label='training data')\n",
        "plt.plot(history2.history['val_loss'], label='testing data')\n",
        "plt.title('Loss for Text Classification')\n",
        "plt.ylabel('Loss value')\n",
        "plt.xlabel('No. epoch')\n",
        "plt.legend(loc=\"upper left\")\n",
        "plt.show()"
      ],
      "metadata": {
        "id": "KPawtpNbT2Sg",
        "colab": {
          "base_uri": "https://localhost:8080/",
          "height": 472
        },
        "outputId": "cb3750fa-418f-44f9-ec38-8d7943e28990"
      },
      "execution_count": 81,
      "outputs": [
        {
          "output_type": "display_data",
          "data": {
            "text/plain": [
              "<Figure size 640x480 with 1 Axes>"
            ],
            "image/png": "[encoded data removed]"
          },
          "metadata": {}
        }
      ]
    },
    {
      "cell_type": "code",
      "source": [
        "#plt.plot(history1.history['accuracy'], label='training data')\n",
        "plt.plot(history2.history['acc'], label='train')\n",
        "\n",
        "#plt.plot(history1.history['val_accuracy'], label='validation data')\n",
        "plt.plot(history2.history['val_acc'], label='test')\n",
        "\n",
        "plt.title('CategoricalAccuracy for Text Classification')\n",
        "plt.ylabel('CategoricalAccuracy value')\n",
        "plt.xlabel('No. epoch')\n",
        "plt.legend(loc=\"upper left\")\n",
        "plt.show()"
      ],
      "metadata": {
        "id": "vzvMef3iUHcK",
        "colab": {
          "base_uri": "https://localhost:8080/",
          "height": 472
        },
        "outputId": "29a69850-6afc-4412-87db-c6292f15de9d"
      },
      "execution_count": 82,
      "outputs": [
        {
          "output_type": "display_data",
          "data": {
            "text/plain": [
              "<Figure size 640x480 with 1 Axes>"
            ],
            "image/png": "[encoded data removed]"
          },
          "metadata": {}
        }
      ]
    },
    {
      "cell_type": "code",
      "source": [
        "tf.keras.utils.plot_model(model_2, \"simpleNN_model.png\", show_shapes=True)"
      ],
      "metadata": {
        "id": "ul9Xqp5IUHeo",
        "colab": {
          "base_uri": "https://localhost:8080/",
          "height": 422
        },
        "outputId": "6114068c-8b99-42e3-d8b5-d8ead551a0ac"
      },
      "execution_count": 83,
      "outputs": [
        {
          "output_type": "execute_result",
          "data": {
            "image/png": "[encoded data removed]",
            "text/plain": [
              "<IPython.core.display.Image object>"
            ]
          },
          "metadata": {},
          "execution_count": 83
        }
      ]
    },
    {
      "cell_type": "markdown",
      "source": [
        "3-CNN with LSTM layer"
      ],
      "metadata": {
        "id": "ykRCdzokUVUW"
      }
    },
    {
      "cell_type": "code",
      "source": [
        "#CNN model\n",
        "# input: a sequence of MAX_SEQUENCE_LENGTH integers\n",
        "sequence_input = Input(shape=(MAX_SEQUENCE_LENGTH,), dtype='int32')\n",
        "embedded_sequences = embedding_layer(sequence_input)\n",
        "\n",
        "# 1D convolution with 64 output channels\n",
        "x = Conv1D(64, 5)(embedded_sequences)\n",
        "# MaxPool divides the length of the sequence by 5\n",
        "x = MaxPooling1D(5)(x)\n",
        "x = Dropout(0.2)(x)\n",
        "x = Conv1D(64, 5)(x)\n",
        "x = MaxPooling1D(5)(x)\n",
        "# LSTM layer with a hidden size of 64\n",
        "x = Dropout(0.2)(x)\n",
        "x = LSTM(64)(x)\n",
        "predictions = Dense(2, activation='softmax')(x)\n",
        "\n",
        "model_3 = Model(sequence_input, predictions)\n",
        "model_3.compile(loss='categorical_crossentropy',\n",
        "              optimizer='adam',\n",
        "              metrics=['acc'])\n",
        "model_3.summary()"
      ],
      "metadata": {
        "id": "Kc9IPjQbUHhM",
        "colab": {
          "base_uri": "https://localhost:8080/"
        },
        "outputId": "70352bf9-a53a-4c63-b27c-c7574df96cf6"
      },
      "execution_count": 84,
      "outputs": [
        {
          "output_type": "stream",
          "name": "stdout",
          "text": [
            "Model: \"model_6\"\n",
            "_________________________________________________________________\n",
            " Layer (type)                Output Shape              Param #   \n",
            "=================================================================\n",
            " input_7 (InputLayer)        [(None, 150)]             0         \n",
            "                                                                 \n",
            " embedding_2 (Embedding)     (None, 150, 50)           1000000   \n",
            "                                                                 \n",
            " conv1d_2 (Conv1D)           (None, 146, 64)           16064     \n",
            "                                                                 \n",
            " max_pooling1d_2 (MaxPoolin  (None, 29, 64)            0         \n",
            " g1D)                                                            \n",
            "                                                                 \n",
            " dropout_2 (Dropout)         (None, 29, 64)            0         \n",
            "                                                                 \n",
            " conv1d_3 (Conv1D)           (None, 25, 64)            20544     \n",
            "                                                                 \n",
            " max_pooling1d_3 (MaxPoolin  (None, 5, 64)             0         \n",
            " g1D)                                                            \n",
            "                                                                 \n",
            " dropout_3 (Dropout)         (None, 5, 64)             0         \n",
            "                                                                 \n",
            " lstm_3 (LSTM)               (None, 64)                33024     \n",
            "                                                                 \n",
            " dense_6 (Dense)             (None, 2)                 130       \n",
            "                                                                 \n",
            "=================================================================\n",
            "Total params: 1069762 (4.08 MB)\n",
            "Trainable params: 1069762 (4.08 MB)\n",
            "Non-trainable params: 0 (0.00 Byte)\n",
            "_________________________________________________________________\n"
          ]
        }
      ]
    },
    {
      "cell_type": "code",
      "source": [
        "history3 = model_3.fit(x_train, y_train, validation_split=0.6,\n",
        "          epochs=10, batch_size=128)"
      ],
      "metadata": {
        "id": "TKoZrQb2UHjN",
        "colab": {
          "base_uri": "https://localhost:8080/"
        },
        "outputId": "fcf30a9a-8240-4e16-eaf4-33dcd9eefe01"
      },
      "execution_count": 85,
      "outputs": [
        {
          "output_type": "stream",
          "name": "stdout",
          "text": [
            "Epoch 1/10\n",
            "14/14 [==============================] - 5s 196ms/step - loss: 0.1183 - acc: 0.9926 - val_loss: 0.0728 - val_acc: 0.9890\n",
            "Epoch 2/10\n",
            "14/14 [==============================] - 1s 100ms/step - loss: 0.0470 - acc: 0.9926 - val_loss: 0.0622 - val_acc: 0.9890\n",
            "Epoch 3/10\n",
            "14/14 [==============================] - 1s 96ms/step - loss: 0.0426 - acc: 0.9926 - val_loss: 0.0579 - val_acc: 0.9890\n",
            "Epoch 4/10\n",
            "14/14 [==============================] - 1s 95ms/step - loss: 0.0407 - acc: 0.9926 - val_loss: 0.0572 - val_acc: 0.9890\n",
            "Epoch 5/10\n",
            "14/14 [==============================] - 1s 58ms/step - loss: 0.0379 - acc: 0.9926 - val_loss: 0.0530 - val_acc: 0.9890\n",
            "Epoch 6/10\n",
            "14/14 [==============================] - 1s 48ms/step - loss: 0.0299 - acc: 0.9926 - val_loss: 0.0382 - val_acc: 0.9890\n",
            "Epoch 7/10\n",
            "14/14 [==============================] - 1s 67ms/step - loss: 0.0193 - acc: 0.9926 - val_loss: 0.0301 - val_acc: 0.9909\n",
            "Epoch 8/10\n",
            "14/14 [==============================] - 1s 68ms/step - loss: 0.0130 - acc: 0.9966 - val_loss: 0.0195 - val_acc: 0.9916\n",
            "Epoch 9/10\n",
            "14/14 [==============================] - 1s 55ms/step - loss: 0.0068 - acc: 0.9989 - val_loss: 0.0163 - val_acc: 0.9935\n",
            "Epoch 10/10\n",
            "14/14 [==============================] - 1s 36ms/step - loss: 0.0043 - acc: 0.9994 - val_loss: 0.0141 - val_acc: 0.9966\n"
          ]
        }
      ]
    },
    {
      "cell_type": "code",
      "source": [
        "plt.plot(history3.history['loss'], label='training data')\n",
        "plt.plot(history3.history['val_loss'], label='validation data')\n",
        "plt.title('Loss for Text Classification')\n",
        "plt.ylabel('Loss value')\n",
        "plt.xlabel('No. epoch')\n",
        "plt.legend(loc=\"upper left\")\n",
        "plt.show()"
      ],
      "metadata": {
        "id": "DeCW9hu6UHlj",
        "colab": {
          "base_uri": "https://localhost:8080/",
          "height": 472
        },
        "outputId": "1edda0e8-3234-40c4-c95e-64942b247933"
      },
      "execution_count": 86,
      "outputs": [
        {
          "output_type": "display_data",
          "data": {
            "text/plain": [
              "<Figure size 640x480 with 1 Axes>"
            ],
            "image/png": "[encoded data removed]"
          },
          "metadata": {}
        }
      ]
    },
    {
      "cell_type": "code",
      "source": [
        "#plt.plot(history1.history['accuracy'], label='training data')\n",
        "plt.plot(history3.history['acc'], label='training data')\n",
        "\n",
        "#plt.plot(history1.history['val_accuracy'], label='validation data')\n",
        "plt.plot(history3.history['val_acc'], label='validation data')\n",
        "\n",
        "plt.title('CategoricalAccuracy for Text Classification')\n",
        "plt.ylabel('CategoricalAccuracy value')\n",
        "plt.xlabel('No. epoch')\n",
        "plt.legend(loc=\"upper left\")\n",
        "plt.show()"
      ],
      "metadata": {
        "id": "R0Enm-BPUHoB",
        "colab": {
          "base_uri": "https://localhost:8080/",
          "height": 472
        },
        "outputId": "25c81684-fe9c-4996-9913-323aa75e51d0"
      },
      "execution_count": 87,
      "outputs": [
        {
          "output_type": "display_data",
          "data": {
            "text/plain": [
              "<Figure size 640x480 with 1 Axes>"
            ],
            "image/png": "[encoded data removed]"
          },
          "metadata": {}
        }
      ]
    },
    {
      "cell_type": "code",
      "source": [
        "tf.keras.utils.plot_model(model_3, \"simpleNN_model.png\", show_shapes=True)"
      ],
      "metadata": {
        "id": "XhCkN8ZPUHqh",
        "colab": {
          "base_uri": "https://localhost:8080/",
          "height": 1000
        },
        "outputId": "5f63248e-bcfb-4279-f745-2a375e8e7196"
      },
      "execution_count": 88,
      "outputs": [
        {
          "output_type": "execute_result",
          "data": {
            "image/png": "[encoded data removed]",
            "text/plain": [
              "<IPython.core.display.Image object>"
            ]
          },
          "metadata": {},
          "execution_count": 88
        }
      ]
    }
  ],
  "metadata": {
    "colab": {
      "provenance": [],
      "gpuType": "T4"
    },
    "kernelspec": {
      "display_name": "Python 3",
      "name": "python3"
    },
    "language_info": {
      "name": "python"
    },
    "accelerator": "GPU"
  },
  "nbformat": 4,
  "nbformat_minor": 0
}